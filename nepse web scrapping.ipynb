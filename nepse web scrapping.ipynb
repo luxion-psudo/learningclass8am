{
 "cells": [
  {
   "cell_type": "code",
   "execution_count": 65,
   "metadata": {},
   "outputs": [
    {
     "name": "stderr",
     "output_type": "stream",
     "text": [
      "C:\\ProgramData\\Anaconda3\\lib\\site-packages\\bs4\\__init__.py:417: MarkupResemblesLocatorWarning: \"http://www.nepalstock.com/floorsheet\" looks like a URL. Beautiful Soup is not an HTTP client. You should probably use an HTTP client like requests to get the document behind the URL, and feed that document to Beautiful Soup.\n",
      "  warnings.warn(\n"
     ]
    },
    {
     "data": {
      "text/plain": [
       "<Response [200]>"
      ]
     },
     "execution_count": 65,
     "metadata": {},
     "output_type": "execute_result"
    }
   ],
   "source": [
    "from bs4 import BeautifulSoup\n",
    "import requests\n",
    "soup = BeautifulSoup('http://www.nepalstock.com/floorsheet', 'html.parser')\n",
    "response = requests.get('http://www.nepalstock.com/floorsheet')\n",
    "response"
   ]
  },
  {
   "cell_type": "code",
   "execution_count": 67,
   "metadata": {},
   "outputs": [
    {
     "data": {
      "text/plain": [
       "'\\r\\n<!DOCTYPE HTML>\\r\\n<html>\\r\\n    <head>\\r\\n        <meta http-equiv=\"Content-Type\" content=\"text/html; charset=utf-8\" />\\r\\n        <meta name=\"viewport\" content=\"width=device-width, initial-scale=1\"/>\\r\\n        <title>Nepal Stock Exchange Ltd.</title>\\r\\n        <meta name=\"title\" content=\"NEPSE Official Website\" />\\r\\n        <meta content=\"This is NEPSE Official Website\" http-equiv=\"description\" name=\"description\" />\\r\\n        <meta content=\"This is NEPSE Official Website\" http-equiv=\"keywords\" name=\"keywords\" />\\r\\n        <link rel=\"shortcut icon\" href=\"/favicon.ico\" type=\"image/x-icon\">\\r\\n        <link rel=\"icon\" href=\"/favicon.ico\" type=\"image/x-icon\">\\r\\n        <!-- Bootstrap core CSS -->\\r\\n        <link href=\"http://www.nepalstock.com/css/reset.css\" rel=\"stylesheet\">\\r\\n        <link href=\"http://www.nepalstock.com/css/bootstrap.css\" rel=\"stylesheet\">\\r\\n\\r\\n        <link rel=\"stylesheet\" type=\"text/css\" href=\"http://www.nepalstock.com/js/ui/theme/orange.css\" />\\r\\n        <!-- Custom styles for this template -->\\r\\n        <link href=\"http://www.nepalstock.com/css/style.css\" rel=\"stylesheet\">\\r\\n\\r\\n        <link href=\\'http://fonts.googleapis.com/css?family=Merriweather+Sans:400,800\\' rel=\\'stylesheet\\' type=\\'text/css\\'>\\r\\n        <!-- Just for debugging purposes. Don\\'t actually copy this line! -->\\r\\n        <!--[if lt IE 9]><script src=\"../../docs-assets/js/ie8-responsive-file-warning.js\"></script><![endif]-->\\r\\n\\r\\n        <!-- HTML5 shim and Respond.js IE8 support of HTML5 elements and media queries -->\\r\\n        <!--[if lt IE 9]>\\r\\n          <script src=\"https://oss.maxcdn.com/libs/html5shiv/3.7.0/html5shiv.js\"></script>\\r\\n          <script src=\"https://oss.maxcdn.com/libs/respond.js/1.3.0/respond.min.js\"></script>\\r\\n        <![endif]-->\\r\\n        <script src=\"http://www.nepalstock.com/js/jquery-1.7.1.min.js\" type=\"text/javascript\"></script>\\r\\n        <script type=\"text/javascript\" src=\"http://www.nepalstock.com/js/ui/ui.core.min.js\"></script>          <link type=\"text/css\" rel=\"stylesheet\" href=\"http://www.nepalstock.com/js/ui/theme/orange.css\" />        <script src=\"http://www.nepalstock.com/js/ui/jquery-ui-1.7.1.min.js\" type=\"text/javascript\"></script>\\r\\n        <script type=\"text/javascript\" src=\"http://www.nepalstock.com/js/slides.min.jquery.js\" charset=\"utf-8\"></script>\\r\\n        <script type=\"text/javascript\" src=\"http://www.nepalstock.com/js/jquery.innerfade.js\" charset=\"utf-8\"></script>\\r\\n        <script src=\"http://www.nepalstock.com/js/ckeditor/ckeditor.js\" type=\"text/javascript\"></script>\\r\\n        <script src=\"http://www.nepalstock.com/js/facebox/facebox.js\" type=\"text/javascript\"></script>\\r\\n        <script src=\"http://www.nepalstock.com/js/utils.js\" language=\"javascript\" type=\"text/javascript\"></script>\\r\\n        <script src=\"http://www.nepalstock.com/js/jquery-marquee.js\" language=\"javascript\" type=\"text/javascript\"></script>\\r\\n\\r\\n        <script src=\"http://www.nepalstock.com/js/bootstrap/datepicker/js/bootstrap-datepicker.js\" language=\"javascript\" type=\"text/javascript\"></script>\\r\\n        <link rel=\"stylesheet\" type=\"text/css\" href=\"http://www.nepalstock.com/js/bootstrap/datepicker/css/datepicker.css\"/>\\r\\n\\r\\n        <link rel=\"stylesheet\" type=\"text/css\" href=\"http://www.nepalstock.com/js/superfish/css/menu-responsive.css\"/>\\r\\n        <link rel=\"stylesheet\" type=\"text/css\" href=\"http://www.nepalstock.com/js/superfish/css/superfish.css\"/>\\r\\n        <script type=\"text/javascript\" src=\"http://www.nepalstock.com/js/superfish/js/hoverIntent.js\"></script>\\r\\n        <script type=\"text/javascript\" src=\"http://www.nepalstock.com/js/superfish/js/superfish.js\"></script>\\r\\n        <script type=\"text/javascript\" src=\"http://www.nepalstock.com/js/jquery.tools.min.js\"></script>\\r\\n        <link rel=\"stylesheet\" type=\"text/css\" href=\"http://www.nepalstock.com/css/overlay.css\" media=\"all\" />\\r\\n\\r\\n    </head>\\r\\n\\r\\n    <body>\\r\\n        <div id=\"fixed_icons\" class=\"hidden-xs\">\\r\\n            <a href=\"http://twitter.com\" id=\"twitter\" title=\"Follow us on Twitter\" target=\"_blank\"></a>\\r\\n            <a href=\"http://facebook.com\" id=\"facebook\" title=\"Find us on Facebook\" target=\"_blank\"></a>\\r\\n        </div>\\r\\n        <!-- Start Top Navigation Bar -->\\r\\n        <div class=\"navbar navbar-inverse navbar-fixed-top\" role=\"navigation\">\\r\\n            <div class=\"container\">\\r\\n                <div class=\"navbar-header\">\\r\\n                    <button type=\"button\" class=\"navbar-toggle\" data-toggle=\"collapse\" data-target=\".navbar-collapse\">\\r\\n                        <span class=\"sr-only\">Toggle navigation</span>\\r\\n                        <span class=\"icon-bar\"></span>\\r\\n                        <span class=\"icon-bar\"></span>\\r\\n                        <span class=\"icon-bar\"></span>\\r\\n                        <span class=\"icon-bar\"></span>\\r\\n                        <span class=\"icon-bar\"></span>\\r\\n                    </button>\\r\\n                </div>\\r\\n                <div class=\"collapse navbar-collapse\">\\r\\n                    <ul class=\"nav navbar-nav pull-right col-xs-12\" id=\"top-nav-bar\">\\r\\n                        <li><a href=\"http://www.nepalstock.com/\">Home</a></li>\\r\\n                        <li><a href=\"http://www.nepalstock.com/marketdepth\">Marketdepth</a></li>\\r\\n                        <li><a href=\"http://www.nepalstock.com/todaysprice\">Today\\'s Price</a></li>\\r\\n                        <li><a href=\"http://www.nepalstock.com/floorsheet\">Floor Sheet</a></li>\\r\\n                        <li><a href=\"http://www.nepalstock.com/company\">Listed Companies</a></li>\\r\\n                        <li><a href=\"http://www.nepalstock.com/downloads\">Downloads</a></li>\\r\\n                        <li><a href=\"http://www.nepalstock.com/about-us/contact-us\">Contact Us</a></li>\\r\\n\\r\\n\\t\\t\\t\\t\\t\\t                                                    <li class=\"dropdown\">\\r\\n<!--                                <a class=\"dropdown-toggle\" href=\"#\" data-toggle=\"dropdown\">Company Log In <strong class=\"caret\"></strong></a>-->\\r\\n                                <a href=\"http://www.nepalstock.com//login\">Company Log In</a>\\r\\n                                <div class=\"dropdown-menu\" style=\"padding: 15px; padding-bottom: 0px;\">\\r\\n                                    <!-- Login form here -->\\r\\n                                    <form action=\"http://www.nepalstock.com/company/login\" method=\"post\" accept-charset=\"UTF-8\">\\r\\n                                        <div class=\"form-group\" style=\"min-width: 300px;\">\\r\\n                                            <select name=\"symbol\" class=\"form-control\" id=\"symbol-login\">\\r\\n                                                <option>Company Symbol</option>\\r\\n                                                <option value=\\'ACLBSL\\'>ACLBSL</option><option value=\\'ADBL\\'>ADBL</option><option value=\\'AHPC\\'>AHPC</option><option value=\\'AIL\\'>AIL</option><option value=\\'AKBSL\\'>AKBSL</option><option value=\\'AKBSLP\\'>AKBSLP</option><option value=\\'AKJCL\\'>AKJCL</option><option value=\\'AKPL\\'>AKPL</option><option value=\\'ALBSL\\'>ALBSL</option><option value=\\'ALICL\\'>ALICL</option><option value=\\'ALICLP\\'>ALICLP</option><option value=\\'AMFI\\'>AMFI</option><option value=\\'AMFIPO\\'>AMFIPO</option><option value=\\'API\\'>API</option><option value=\\'AVU\\'>AVU</option><option value=\\'BARUN\\'>BARUN</option><option value=\\'BBC\\'>BBC</option><option value=\\'BFC\\'>BFC</option><option value=\\'BFCPO\\'>BFCPO</option><option value=\\'BFLPO\\'>BFLPO</option><option value=\\'BHBL\\'>BHBL</option><option value=\\'BHBLPO\\'>BHBLPO</option><option value=\\'BNL\\'>BNL</option><option value=\\'BNT\\'>BNT</option><option value=\\'BOKD2079\\'>BOKD2079</option><option value=\\'BOKL\\'>BOKL</option><option value=\\'BOKLPO\\'>BOKLPO</option><option value=\\'BPCL\\'>BPCL</option><option value=\\'BSBLPO\\'>BSBLPO</option><option value=\\'BSL\\'>BSL</option><option value=\\'BSM\\'>BSM</option><option value=\\'CBBL\\'>CBBL</option><option value=\\'CBBLPO\\'>CBBLPO</option><option value=\\'CBL\\'>CBL</option><option value=\\'CBLPO\\'>CBLPO</option><option value=\\'CCBL\\'>CCBL</option><option value=\\'CCBLPO\\'>CCBLPO</option><option value=\\'CEFL\\'>CEFL</option><option value=\\'CEFLPO\\'>CEFLPO</option><option value=\\'CFCL\\'>CFCL</option><option value=\\'CFCLPO\\'>CFCLPO</option><option value=\\'CFL\\'>CFL</option><option value=\\'CGH\\'>CGH</option><option value=\\'CHCL\\'>CHCL</option><option value=\\'CHL\\'>CHL</option><option value=\\'CIT\\'>CIT</option><option value=\\'CIZBD86\\'>CIZBD86</option><option value=\\'CLBSL\\'>CLBSL</option><option value=\\'CMB\\'>CMB</option><option value=\\'CMBFLP\\'>CMBFLP</option><option value=\\'CMF1\\'>CMF1</option><option value=\\'CMF2\\'>CMF2</option><option value=\\'CORBL\\'>CORBL</option><option value=\\'CORBLP\\'>CORBLP</option><option value=\\'CZBIL\\'>CZBIL</option><option value=\\'CZBILP\\'>CZBILP</option><option value=\\'DBBL\\'>DBBL</option><option value=\\'DBBLPO\\'>DBBLPO</option><option value=\\'DDBL\\'>DDBL</option><option value=\\'DDBLPO\\'>DDBLPO</option><option value=\\'DHPL\\'>DHPL</option><option value=\\'EBL\\'>EBL</option><option value=\\'EBLCP\\'>EBLCP</option><option value=\\'EBLD2078\\'>EBLD2078</option><option value=\\'EBLPO\\'>EBLPO</option><option value=\\'EDBL\\'>EDBL</option><option value=\\'EDBLPO\\'>EDBLPO</option><option value=\\'EIC\\'>EIC</option><option value=\\'EICPO\\'>EICPO</option><option value=\\'FBBLPO\\'>FBBLPO</option><option value=\\'FHL\\'>FHL</option><option value=\\'FMDBL\\'>FMDBL</option><option value=\\'FMDBLP\\'>FMDBLP</option><option value=\\'FOWAD\\'>FOWAD</option><option value=\\'FOWADP\\'>FOWADP</option><option value=\\'GBBL\\'>GBBL</option><option value=\\'GBBLPO\\'>GBBLPO</option><option value=\\'GBD80/81\\'>GBD80/81</option><option value=\\'GBIME\\'>GBIME</option><option value=\\'GBIMEP\\'>GBIMEP</option><option value=\\'GBLBS\\'>GBLBS</option><option value=\\'GBLBSP\\'>GBLBSP</option><option value=\\'GDBL\\'>GDBL</option><option value=\\'GDBLPO\\'>GDBLPO</option><option value=\\'GFCL\\'>GFCL</option><option value=\\'GFCLPO\\'>GFCLPO</option><option value=\\'GGBSL\\'>GGBSL</option><option value=\\'GHL\\'>GHL</option><option value=\\'GIC\\'>GIC</option><option value=\\'GILB\\'>GILB</option><option value=\\'GILBPO\\'>GILBPO</option><option value=\\'GIMES1\\'>GIMES1</option><option value=\\'GLBSL\\'>GLBSL</option><option value=\\'GLH\\'>GLH</option><option value=\\'GLICL\\'>GLICL</option><option value=\\'GLICLP\\'>GLICLP</option><option value=\\'GMFBS\\'>GMFBS</option><option value=\\'GMFIL\\'>GMFIL</option><option value=\\'GMFILP\\'>GMFILP</option><option value=\\'GRDBL\\'>GRDBL</option><option value=\\'GRDBLP\\'>GRDBLP</option><option value=\\'GRU\\'>GRU</option><option value=\\'GUFL\\'>GUFL</option><option value=\\'GUFLPO\\'>GUFLPO</option><option value=\\'HAMRO\\'>HAMRO</option><option value=\\'HAMROP\\'>HAMROP</option><option value=\\'HATH\\'>HATH</option><option value=\\'HATHPO\\'>HATHPO</option><option value=\\'HBL\\'>HBL</option><option value=\\'HBLD83\\'>HBLD83</option><option value=\\'HBLPO\\'>HBLPO</option><option value=\\'HBT\\'>HBT</option><option value=\\'HDHPC\\'>HDHPC</option><option value=\\'HDL\\'>HDL</option><option value=\\'HFL\\'>HFL</option><option value=\\'HGI\\'>HGI</option><option value=\\'HGIPO\\'>HGIPO</option><option value=\\'HIDCL\\'>HIDCL</option><option value=\\'HPPL\\'>HPPL</option><option value=\\'HURJA\\'>HURJA</option><option value=\\'ICFC\\'>ICFC</option><option value=\\'ICFCD83\\'>ICFCD83</option><option value=\\'ICFCPO\\'>ICFCPO</option><option value=\\'IGI\\'>IGI</option><option value=\\'IGIPO\\'>IGIPO</option><option value=\\'ILBS\\'>ILBS</option><option value=\\'ILFCMP\\'>ILFCMP</option><option value=\\'JBBL\\'>JBBL</option><option value=\\'JBBLPO\\'>JBBLPO</option><option value=\\'JBNL\\'>JBNL</option><option value=\\'JBNLPO\\'>JBNLPO</option><option value=\\'JEFL\\'>JEFL</option><option value=\\'JEFLPO\\'>JEFLPO</option><option value=\\'JFL\\'>JFL</option><option value=\\'JFLPO\\'>JFLPO</option><option value=\\'JLI\\'>JLI</option><option value=\\'JOSHI\\'>JOSHI</option><option value=\\'JSLBB\\'>JSLBB</option><option value=\\'JSLBBP\\'>JSLBBP</option><option value=\\'JSM\\'>JSM</option><option value=\\'KADBL\\'>KADBL</option><option value=\\'KADBLP\\'>KADBLP</option><option value=\\'KBL\\'>KBL</option><option value=\\'KBLD86\\'>KBLD86</option><option value=\\'KBLPO\\'>KBLPO</option><option value=\\'KEBL\\'>KEBL</option><option value=\\'KEBLPO\\'>KEBLPO</option><option value=\\'KKHC\\'>KKHC</option><option value=\\'KLBSL\\'>KLBSL</option><option value=\\'KLBSLP\\'>KLBSLP</option><option value=\\'KMCDB\\'>KMCDB</option><option value=\\'KMCDBP\\'>KMCDBP</option><option value=\\'KNBL\\'>KNBL</option><option value=\\'KNBLPO\\'>KNBLPO</option><option value=\\'KPCL\\'>KPCL</option><option value=\\'KRBL\\'>KRBL</option><option value=\\'KRBLPO\\'>KRBLPO</option><option value=\\'KSBBL\\'>KSBBL</option><option value=\\'KSBBLP\\'>KSBBLP</option><option value=\\'LBBL\\'>LBBL</option><option value=\\'LBBLPO\\'>LBBLPO</option><option value=\\'LBL\\'>LBL</option><option value=\\'LBLD86\\'>LBLD86</option><option value=\\'LBLPO\\'>LBLPO</option><option value=\\'LEC\\'>LEC</option><option value=\\'LEMF\\'>LEMF</option><option value=\\'LFC\\'>LFC</option><option value=\\'LFCPO\\'>LFCPO</option><option value=\\'LGIL\\'>LGIL</option><option value=\\'LGILPO\\'>LGILPO</option><option value=\\'LICN\\'>LICN</option><option value=\\'LICNPO\\'>LICNPO</option><option value=\\'LLBS\\'>LLBS</option><option value=\\'LLBSPO\\'>LLBSPO</option><option value=\\'LUK\\'>LUK</option><option value=\\'MBL\\'>MBL</option><option value=\\'MBLD2085\\'>MBLD2085</option><option value=\\'MBLPO\\'>MBLPO</option><option value=\\'MDB\\'>MDB</option><option value=\\'MDBLPO\\'>MDBLPO</option><option value=\\'MDBPO\\'>MDBPO</option><option value=\\'MEGA\\'>MEGA</option><option value=\\'MEGAPO\\'>MEGAPO</option><option value=\\'MEN\\'>MEN</option><option value=\\'MERO\\'>MERO</option><option value=\\'MEROPO\\'>MEROPO</option><option value=\\'MFIL\\'>MFIL</option><option value=\\'MFILPO\\'>MFILPO</option><option value=\\'MHNL\\'>MHNL</option><option value=\\'MLBBL\\'>MLBBL</option><option value=\\'MLBBLP\\'>MLBBLP</option><option value=\\'MLBL\\'>MLBL</option><option value=\\'MLBLPO\\'>MLBLPO</option><option value=\\'MLBSL\\'>MLBSL</option><option value=\\'MMFDB\\'>MMFDB</option><option value=\\'MMFDBP\\'>MMFDBP</option><option value=\\'MNBBL\\'>MNBBL</option><option value=\\'MNBBLP\\'>MNBBLP</option><option value=\\'MPFL\\'>MPFL</option><option value=\\'MPFLPO\\'>MPFLPO</option><option value=\\'MSLB\\'>MSLB</option><option value=\\'MSLBP\\'>MSLBP</option><option value=\\'MSMBS\\'>MSMBS</option><option value=\\'MSMBSP\\'>MSMBSP</option><option value=\\'NABBC\\'>NABBC</option><option value=\\'NABIL\\'>NABIL</option><option value=\\'NABILP\\'>NABILP</option><option value=\\'NADEP\\'>NADEP</option><option value=\\'NADEPP\\'>NADEPP</option><option value=\\'NAGRO\\'>NAGRO</option><option value=\\'NBB\\'>NBB</option><option value=\\'NBBD2085\\'>NBBD2085</option><option value=\\'NBBL\\'>NBBL</option><option value=\\'NBBLPO\\'>NBBLPO</option><option value=\\'NBBPO\\'>NBBPO</option><option value=\\'NBBU\\'>NBBU</option><option value=\\'NBF2\\'>NBF2</option><option value=\\'NBL\\'>NBL</option><option value=\\'NBLD82\\'>NBLD82</option><option value=\\'NCCB\\'>NCCB</option><option value=\\'NCCBPO\\'>NCCBPO</option><option value=\\'NCDB\\'>NCDB</option><option value=\\'NCDBPO\\'>NCDBPO</option><option value=\\'NEF\\'>NEF</option><option value=\\'NFD\\'>NFD</option><option value=\\'NFS\\'>NFS</option><option value=\\'NFSPO\\'>NFSPO</option><option value=\\'NGPL\\'>NGPL</option><option value=\\'NHDL\\'>NHDL</option><option value=\\'NHPC\\'>NHPC</option><option value=\\'NIB\\'>NIB</option><option value=\\'NIBD2082\\'>NIBD2082</option><option value=\\'NIBLPF\\'>NIBLPF</option><option value=\\'NIBPO\\'>NIBPO</option><option value=\\'NIBSF1\\'>NIBSF1</option><option value=\\'NICA\\'>NICA</option><option value=\\'NICAD 85/86\\'>NICAD 85/86</option><option value=\\'NICAD8182\\'>NICAD8182</option><option value=\\'NICAD8283\\'>NICAD8283</option><option value=\\'NICAP\\'>NICAP</option><option value=\\'NICBF\\'>NICBF</option><option value=\\'NICD83/84\\'>NICD83/84</option><option value=\\'NICGF\\'>NICGF</option><option value=\\'NICL\\'>NICL</option><option value=\\'NICLBSL\\'>NICLBSL</option><option value=\\'NICLPO\\'>NICLPO</option><option value=\\'NIDC\\'>NIDC</option><option value=\\'NIDCPO\\'>NIDCPO</option><option value=\\'NIFRA\\'>NIFRA</option><option value=\\'NIL\\'>NIL</option><option value=\\'NILPO\\'>NILPO</option><option value=\\'NKU\\'>NKU</option><option value=\\'NLBBL\\'>NLBBL</option><option value=\\'NLBBLP\\'>NLBBLP</option><option value=\\'NLG\\'>NLG</option><option value=\\'NLGPO\\'>NLGPO</option><option value=\\'NLIC\\'>NLIC</option><option value=\\'NLICL\\'>NLICL</option><option value=\\'NLICLP\\'>NLICLP</option><option value=\\'NLICP\\'>NLICP</option><option value=\\'NLO\\'>NLO</option><option value=\\'NMB\\'>NMB</option><option value=\\'NMB50\\'>NMB50</option><option value=\\'NMBD2085\\'>NMBD2085</option><option value=\\'NMBHF1\\'>NMBHF1</option><option value=\\'NMBMF\\'>NMBMF</option><option value=\\'NMBMFP\\'>NMBMFP</option><option value=\\'NMBPO\\'>NMBPO</option><option value=\\'NMFBS\\'>NMFBS</option><option value=\\'NMFBSP\\'>NMFBSP</option><option value=\\'NRIC\\'>NRIC</option><option value=\\'NRN\\'>NRN</option><option value=\\'NSEWA\\'>NSEWA</option><option value=\\'NSEWAP\\'>NSEWAP</option><option value=\\'NSM\\'>NSM</option><option value=\\'NSMPO\\'>NSMPO</option><option value=\\'NTC\\'>NTC</option><option value=\\'NTL\\'>NTL</option><option value=\\'NUBL\\'>NUBL</option><option value=\\'NUBLPO\\'>NUBLPO</option><option value=\\'NVG\\'>NVG</option><option value=\\'NWC\\'>NWC</option><option value=\\'ODBL\\'>ODBL</option><option value=\\'ODBLPO\\'>ODBLPO</option><option value=\\'OHL\\'>OHL</option><option value=\\'PBLD84\\'>PBLD84</option><option value=\\'PBLD86\\'>PBLD86</option><option value=\\'PCBL\\'>PCBL</option><option value=\\'PCBLP\\'>PCBLP</option><option value=\\'PDBLPO\\'>PDBLPO</option><option value=\\'PFL\\'>PFL</option><option value=\\'PFLPO\\'>PFLPO</option><option value=\\'PIC\\'>PIC</option><option value=\\'PICL\\'>PICL</option><option value=\\'PICLPO\\'>PICLPO</option><option value=\\'PICPO\\'>PICPO</option><option value=\\'PLI\\'>PLI</option><option value=\\'PLIC\\'>PLIC</option><option value=\\'PLICPO\\'>PLICPO</option><option value=\\'PMHPL\\'>PMHPL</option><option value=\\'PPCL\\'>PPCL</option><option value=\\'PRFLPO\\'>PRFLPO</option><option value=\\'PRIN\\'>PRIN</option><option value=\\'PRINPO\\'>PRINPO</option><option value=\\'PROFL\\'>PROFL</option><option value=\\'PROFLP\\'>PROFLP</option><option value=\\'PRVU\\'>PRVU</option><option value=\\'PRVUPO\\'>PRVUPO</option><option value=\\'PSDBLP\\'>PSDBLP</option><option value=\\'PURBL\\'>PURBL</option><option value=\\'PURBLP\\'>PURBLP</option><option value=\\'RADHI\\'>RADHI</option><option value=\\'RBCL\\'>RBCL</option><option value=\\'RBCLPO\\'>RBCLPO</option><option value=\\'RHPC\\'>RHPC</option><option value=\\'RHPL\\'>RHPL</option><option value=\\'RJM\\'>RJM</option><option value=\\'RLFL\\'>RLFL</option><option value=\\'RLFLPO\\'>RLFLPO</option><option value=\\'RLI\\'>RLI</option><option value=\\'RMBFPO\\'>RMBFPO</option><option value=\\'RMDC\\'>RMDC</option><option value=\\'RMDCPO\\'>RMDCPO</option><option value=\\'RRHP\\'>RRHP</option><option value=\\'RSDC\\'>RSDC</option><option value=\\'RSDCP\\'>RSDCP</option><option value=\\'SABSL\\'>SABSL</option><option value=\\'SADBL\\'>SADBL</option><option value=\\'SADBLP\\'>SADBLP</option><option value=\\'SAEF\\'>SAEF</option><option value=\\'SAND2085\\'>SAND2085</option><option value=\\'SANIMA\\'>SANIMA</option><option value=\\'SAPDBL\\'>SAPDBL</option><option value=\\'SAPDBLP\\'>SAPDBLP</option><option value=\\'SBBLJ\\'>SBBLJ</option><option value=\\'SBBLJP\\'>SBBLJP</option><option value=\\'SBBLPO\\'>SBBLPO</option><option value=\\'SBD87\\'>SBD87</option><option value=\\'SBI\\'>SBI</option><option value=\\'SBIBD86\\'>SBIBD86</option><option value=\\'SBIPO\\'>SBIPO</option><option value=\\'SBL\\'>SBL</option><option value=\\'SBLD2082\\'>SBLD2082</option><option value=\\'SBLD83\\'>SBLD83</option><option value=\\'SBLD84\\'>SBLD84</option><option value=\\'SBLPO\\'>SBLPO</option><option value=\\'SBPP\\'>SBPP</option><option value=\\'SCB\\'>SCB</option><option value=\\'SCBPO\\'>SCBPO</option><option value=\\'SDESI\\'>SDESI</option><option value=\\'SDLBSL\\'>SDLBSL</option><option value=\\'SEF\\'>SEF</option><option value=\\'SEOS\\'>SEOS</option><option value=\\'SFC\\'>SFC</option><option value=\\'SFCL\\'>SFCL</option><option value=\\'SFCLP\\'>SFCLP</option><option value=\\'SFCPO\\'>SFCPO</option><option value=\\'SFFIL\\'>SFFIL</option><option value=\\'SFFILP\\'>SFFILP</option><option value=\\'SFMF\\'>SFMF</option><option value=\\'SGI\\'>SGI</option><option value=\\'SHBL\\'>SHBL</option><option value=\\'SHBLPO\\'>SHBLPO</option><option value=\\'SHINE\\'>SHINE</option><option value=\\'SHINEP\\'>SHINEP</option><option value=\\'SHIVM\\'>SHIVM</option><option value=\\'SHL\\'>SHL</option><option value=\\'SHPC\\'>SHPC</option><option value=\\'SIC\\'>SIC</option><option value=\\'SICL\\'>SICL</option><option value=\\'SICLPO\\'>SICLPO</option><option value=\\'SICPO\\'>SICPO</option><option value=\\'SIFC\\'>SIFC</option><option value=\\'SIFCPO\\'>SIFCPO</option><option value=\\'SIGS2\\'>SIGS2</option><option value=\\'SIL\\'>SIL</option><option value=\\'SILPO\\'>SILPO</option><option value=\\'SINDU\\'>SINDU</option><option value=\\'SINDUP\\'>SINDUP</option><option value=\\'SJCL\\'>SJCL</option><option value=\\'SKBBL\\'>SKBBL</option><option value=\\'SKBBLP\\'>SKBBLP</option><option value=\\'SLBBL\\'>SLBBL</option><option value=\\'SLBBLP\\'>SLBBLP</option><option value=\\'SLBS\\'>SLBS</option><option value=\\'SLBSL\\'>SLBSL</option><option value=\\'SLBSP\\'>SLBSP</option><option value=\\'SLCF\\'>SLCF</option><option value=\\'SLICL\\'>SLICL</option><option value=\\'SLICLP\\'>SLICLP</option><option value=\\'SMATA\\'>SMATA</option><option value=\\'SMATAP\\'>SMATAP</option><option value=\\'SMB\\'>SMB</option><option value=\\'SMBPO\\'>SMBPO</option><option value=\\'SMFBS\\'>SMFBS</option><option value=\\'SMFDB\\'>SMFDB</option><option value=\\'SMFDBP\\'>SMFDBP</option><option value=\\'SNLB\\'>SNLB</option><option value=\\'SNLBP\\'>SNLBP</option><option value=\\'SPARS\\'>SPARS</option><option value=\\'SPDL\\'>SPDL</option><option value=\\'SRBL\\'>SRBL</option><option value=\\'SRBLD83\\'>SRBLD83</option><option value=\\'SRBLPO\\'>SRBLPO</option><option value=\\'SRD80\\'>SRD80</option><option value=\\'SRS\\'>SRS</option><option value=\\'SSHL\\'>SSHL</option><option value=\\'STC\\'>STC</option><option value=\\'SWBBL\\'>SWBBL</option><option value=\\'SWBBLP\\'>SWBBLP</option><option value=\\'SYFL\\'>SYFL</option><option value=\\'SYFLPO\\'>SYFLPO</option><option value=\\'TMDBL\\'>TMDBL</option><option value=\\'TMDBLP\\'>TMDBLP</option><option value=\\'TRH\\'>TRH</option><option value=\\'TRHPR\\'>TRHPR</option><option value=\\'UFL\\'>UFL</option><option value=\\'UFLPO\\'>UFLPO</option><option value=\\'UIC\\'>UIC</option><option value=\\'UICPO\\'>UICPO</option><option value=\\'UMHL\\'>UMHL</option><option value=\\'UMRH\\'>UMRH</option><option value=\\'UNHPL\\'>UNHPL</option><option value=\\'UNL\\'>UNL</option><option value=\\'UPCL\\'>UPCL</option><option value=\\'UPPER\\'>UPPER</option><option value=\\'USLB\\'>USLB</option><option value=\\'USLBP\\'>USLBP</option><option value=\\'VLBS\\'>VLBS</option><option value=\\'VLBSPO\\'>VLBSPO</option><option value=\\'WOMI\\'>WOMI</option><option value=\\'WOMIPO\\'>WOMIPO</option><option value=\\'YHL\\'>YHL</option>                                            </select>\\r\\n                                            <br>\\r\\n                                            <input class=\"form-control\" id=\"email\" style=\"margin-bottom: 15px;\" type=\"email\" name=\"email\"  placeholder=\"Email Address\"/>\\r\\n                                            <input class=\"form-control\" id=\"password\" style=\"margin-bottom: 15px;\" type=\"password\" name=\"password\" placeholder=\"Password\" />\\r\\n                                            <input class=\"btn btn-primary\" style=\"clear: left; width: 100%; height: 32px; font-size: 13px;\" type=\"submit\" name=\"commit\" value=\"Sign In\" />\\r\\n                                            <br> \\r\\n                                        </div>\\r\\n\\r\\n                                    </form>\\r\\n\\r\\n                                </div>\\r\\n                            </li>\\r\\n                            <li><a class=\"new-website\" href=\"https://newweb.nepalstock.com/\" target=\"_blank\">New Website</a></li>\\r\\n                            <li><a class=\"channel\" target=\"_blank\" href=\"https://www.youtube.com/watch?v=Df06a7O7RuE&lc=z22aijhamzy5vdd3oacdp432erg0i5bvw4eysaay1lpw03c010c\">Video Tutorial</a></li>\\r\\n\\t\\t\\t    <li><a class=\"channel\" href=\"http://www.nepalstock.com/faq\">FAQ</a></li>\\r\\n                                            </ul>\\r\\n                </div><!--/.nav-collapse -->\\r\\n            </div>\\r\\n        </div>\\r\\n        <!-- End Top Navigation Bar -->\\r\\n\\r\\n        <!-- Start Logo Header -->\\r\\n        <div class=\"container\" id=\"logoHeader\" style=\"width:80%\">\\r\\n            <div class=\"row\">\\r\\n                <div class=\"col-xs-12 col-md-4 col-sm-12\" id=\"logo\">\\r\\n                    <img src=\"http://www.nepalstock.com/images/bannerlive.png\" alt=\"\" class=\".img-responsive\">\\r\\n                </div>\\r\\n\\r\\n                <div class=\"col-xs-12 col-md-8 col-sm-12\" id=\"search\">\\r\\n                    \\r\\n                    <form class=\"form-inline pull-right col-xs-12 col-sm-12 col-md-7\" role=\"form\" action=\"http://www.nepalstock.com/company\" method=\"POST\">\\r\\n                        <h5>QUICK QUOTE</h5>\\r\\n                        <div class=\"form-group\">\\r\\n                            <label class=\"sr-only\" for=\"searchText\">Quick Quote</label>\\r\\n                            <input type=\"text\" class=\"form-control\" id=\"stock_symbol\" name=\"stock_symbol\" placeholder=\"Search By Symbol\">\\r\\n                        </div>\\r\\n                        <button type=\"submit\" id=\"search_symbol\" class=\"btn btn-default\">Go</button>\\r\\n                        <div class=\"form-group\">\\r\\n                            \\r\\n                            <select name=\"StockSymbol_Select\" class=\"form-control\" id=\"StockSymbol_Select\" name=\"StockSymbol_Select\">\\r\\n                                <option value>Choose Symbol</option>\\r\\n                                <option value=\\'2790\\'>ACLBSL</option><option value=\\'397\\'>ADBL</option><option value=\\'360\\'>AHPC</option><option value=\\'2893\\'>AIL</option><option value=\\'2845\\'>AKBSL</option><option value=\\'2846\\'>AKBSLP</option><option value=\\'2788\\'>AKJCL</option><option value=\\'2757\\'>AKPL</option><option value=\\'2807\\'>ALBSL</option><option value=\\'385\\'>ALICL</option><option value=\\'599\\'>ALICLP</option><option value=\\'2777\\'>AMFI</option><option value=\\'2778\\'>AMFIPO</option><option value=\\'697\\'>API</option><option value=\\'211\\'>AVU</option><option value=\\'686\\'>BARUN</option><option value=\\'156\\'>BBC</option><option value=\\'227\\'>BFC</option><option value=\\'339\\'>BFCPO</option><option value=\\'440\\'>BFLPO</option><option value=\\'487\\'>BHBL</option><option value=\\'631\\'>BHBLPO</option><option value=\\'195\\'>BNL</option><option value=\\'213\\'>BNT</option><option value=\\'2870\\'>BOKD2079</option><option value=\\'138\\'>BOKL</option><option value=\\'289\\'>BOKLPO</option><option value=\\'153\\'>BPCL</option><option value=\\'628\\'>BSBLPO</option><option value=\\'217\\'>BSL</option><option value=\\'205\\'>BSM</option><option value=\\'164\\'>CBBL</option><option value=\\'698\\'>CBBLPO</option><option value=\\'532\\'>CBL</option><option value=\\'653\\'>CBLPO</option><option value=\\'605\\'>CCBL</option><option value=\\'656\\'>CCBLPO</option><option value=\\'296\\'>CEFL</option><option value=\\'2756\\'>CEFLPO</option><option value=\\'245\\'>CFCL</option><option value=\\'676\\'>CFCLPO</option><option value=\\'361\\'>CFL</option><option value=\\'2917\\'>CGH</option><option value=\\'154\\'>CHCL</option><option value=\\'2766\\'>CHL</option><option value=\\'210\\'>CIT</option><option value=\\'2889\\'>CIZBD86</option><option value=\\'693\\'>CLBSL</option><option value=\\'259\\'>CMB</option><option value=\\'288\\'>CMBFLP</option><option value=\\'2780\\'>CMF1</option><option value=\\'2862\\'>CMF2</option><option value=\\'450\\'>CORBL</option><option value=\\'2763\\'>CORBLP</option><option value=\\'348\\'>CZBIL</option><option value=\\'493\\'>CZBILP</option><option value=\\'311\\'>DBBL</option><option value=\\'573\\'>DBBLPO</option><option value=\\'166\\'>DDBL</option><option value=\\'607\\'>DDBLPO</option><option value=\\'2754\\'>DHPL</option><option value=\\'137\\'>EBL</option><option value=\\'277\\'>EBLCP</option><option value=\\'2871\\'>EBLD2078</option><option value=\\'594\\'>EBLPO</option><option value=\\'274\\'>EDBL</option><option value=\\'612\\'>EDBLPO</option><option value=\\'181\\'>EIC</option><option value=\\'702\\'>EICPO</option><option value=\\'319\\'>FBBLPO</option><option value=\\'228\\'>FHL</option><option value=\\'490\\'>FMDBL</option><option value=\\'722\\'>FMDBLP</option><option value=\\'2758\\'>FOWAD</option><option value=\\'2921\\'>FOWADP</option><option value=\\'417\\'>GBBL</option><option value=\\'623\\'>GBBLPO</option><option value=\\'2840\\'>GBD80/81</option><option value=\\'341\\'>GBIME</option><option value=\\'511\\'>GBIMEP</option><option value=\\'583\\'>GBLBS</option><option value=\\'712\\'>GBLBSP</option><option value=\\'420\\'>GDBL</option><option value=\\'670\\'>GDBLPO</option><option value=\\'232\\'>GFCL</option><option value=\\'355\\'>GFCLPO</option><option value=\\'2852\\'>GGBSL</option><option value=\\'2806\\'>GHL</option><option value=\\'2905\\'>GIC</option><option value=\\'705\\'>GILB</option><option value=\\'731\\'>GILBPO</option><option value=\\'1740\\'>GIMES1</option><option value=\\'2826\\'>GLBSL</option><option value=\\'2924\\'>GLH</option><option value=\\'447\\'>GLICL</option><option value=\\'621\\'>GLICLP</option><option value=\\'2815\\'>GMFBS</option><option value=\\'263\\'>GMFIL</option><option value=\\'613\\'>GMFILP</option><option value=\\'2744\\'>GRDBL</option><option value=\\'2745\\'>GRDBLP</option><option value=\\'207\\'>GRU</option><option value=\\'204\\'>GUFL</option><option value=\\'315\\'>GUFLPO</option><option value=\\'576\\'>HAMRO</option><option value=\\'639\\'>HAMROP</option><option value=\\'421\\'>HATH</option><option value=\\'685\\'>HATHPO</option><option value=\\'134\\'>HBL</option><option value=\\'2873\\'>HBLD83</option><option value=\\'564\\'>HBLPO</option><option value=\\'215\\'>HBT</option><option value=\\'2880\\'>HDHPC</option><option value=\\'235\\'>HDL</option><option value=\\'441\\'>HFL</option><option value=\\'179\\'>HGI</option><option value=\\'700\\'>HGIPO</option><option value=\\'2742\\'>HIDCL</option><option value=\\'2767\\'>HPPL</option><option value=\\'2824\\'>HURJA</option><option value=\\'273\\'>ICFC</option><option value=\\'2882\\'>ICFCD83</option><option value=\\'400\\'>ICFCPO</option><option value=\\'186\\'>IGI</option><option value=\\'635\\'>IGIPO</option><option value=\\'2832\\'>ILBS</option><option value=\\'725\\'>ILFCMP</option><option value=\\'418\\'>JBBL</option><option value=\\'579\\'>JBBLPO</option><option value=\\'496\\'>JBNL</option><option value=\\'654\\'>JBNLPO</option><option value=\\'577\\'>JEFL</option><option value=\\'673\\'>JEFLPO</option><option value=\\'250\\'>JFL</option><option value=\\'292\\'>JFLPO</option><option value=\\'2929\\'>JLI</option><option value=\\'2789\\'>JOSHI</option><option value=\\'695\\'>JSLBB</option><option value=\\'719\\'>JSLBBP</option><option value=\\'209\\'>JSM</option><option value=\\'505\\'>KADBL</option><option value=\\'710\\'>KADBLP</option><option value=\\'142\\'>KBL</option><option value=\\'2885\\'>KBLD86</option><option value=\\'283\\'>KBLPO</option><option value=\\'427\\'>KEBL</option><option value=\\'729\\'>KEBLPO</option><option value=\\'2751\\'>KKHC</option><option value=\\'694\\'>KLBSL</option><option value=\\'733\\'>KLBSLP</option><option value=\\'593\\'>KMCDB</option><option value=\\'678\\'>KMCDBP</option><option value=\\'419\\'>KNBL</option><option value=\\'637\\'>KNBLPO</option><option value=\\'2787\\'>KPCL</option><option value=\\'428\\'>KRBL</option><option value=\\'1739\\'>KRBLPO</option><option value=\\'459\\'>KSBBL</option><option value=\\'677\\'>KSBBLP</option><option value=\\'358\\'>LBBL</option><option value=\\'626\\'>LBBLPO</option><option value=\\'141\\'>LBL</option><option value=\\'2879\\'>LBLD86</option><option value=\\'286\\'>LBLPO</option><option value=\\'2903\\'>LEC</option><option value=\\'2765\\'>LEMF</option><option value=\\'231\\'>LFC</option><option value=\\'330\\'>LFCPO</option><option value=\\'190\\'>LGIL</option><option value=\\'703\\'>LGILPO</option><option value=\\'188\\'>LICN</option><option value=\\'696\\'>LICNPO</option><option value=\\'618\\'>LLBS</option><option value=\\'644\\'>LLBSPO</option><option value=\\'2902\\'>LUK</option><option value=\\'140\\'>MBL</option><option value=\\'2866\\'>MBLD2085</option><option value=\\'281\\'>MBLPO</option><option value=\\'371\\'>MDB</option><option value=\\'291\\'>MDBLPO</option><option value=\\'609\\'>MDBPO</option><option value=\\'562\\'>MEGA</option><option value=\\'657\\'>MEGAPO</option><option value=\\'2913\\'>MEN</option><option value=\\'1741\\'>MERO</option><option value=\\'1742\\'>MEROPO</option><option value=\\'516\\'>MFIL</option><option value=\\'730\\'>MFILPO</option><option value=\\'2811\\'>MHNL</option><option value=\\'601\\'>MLBBL</option><option value=\\'707\\'>MLBBLP</option><option value=\\'401\\'>MLBL</option><option value=\\'620\\'>MLBLPO</option><option value=\\'2925\\'>MLBSL</option><option value=\\'682\\'>MMFDB</option><option value=\\'711\\'>MMFDBP</option><option value=\\'474\\'>MNBBL</option><option value=\\'640\\'>MNBBLP</option><option value=\\'471\\'>MPFL</option><option value=\\'1737\\'>MPFLPO</option><option value=\\'2768\\'>MSLB</option><option value=\\'2928\\'>MSLBP</option><option value=\\'691\\'>MSMBS</option><option value=\\'1736\\'>MSMBSP</option><option value=\\'172\\'>NABBC</option><option value=\\'131\\'>NABIL</option><option value=\\'282\\'>NABILP</option><option value=\\'2784\\'>NADEP</option><option value=\\'2785\\'>NADEPP</option><option value=\\'2816\\'>NAGRO</option><option value=\\'136\\'>NBB</option><option value=\\'2854\\'>NBBD2085</option><option value=\\'602\\'>NBBL</option><option value=\\'649\\'>NBBLPO</option><option value=\\'380\\'>NBBPO</option><option value=\\'233\\'>NBBU</option><option value=\\'2835\\'>NBF2</option><option value=\\'517\\'>NBL</option><option value=\\'2892\\'>NBLD82</option><option value=\\'144\\'>NCCB</option><option value=\\'327\\'>NCCBPO</option><option value=\\'598\\'>NCDB</option><option value=\\'699\\'>NCDBPO</option><option value=\\'2753\\'>NEF</option><option value=\\'151\\'>NFD</option><option value=\\'194\\'>NFS</option><option value=\\'651\\'>NFSPO</option><option value=\\'2743\\'>NGPL</option><option value=\\'2769\\'>NHDL</option><option value=\\'152\\'>NHPC</option><option value=\\'132\\'>NIB</option><option value=\\'2851\\'>NIBD2082</option><option value=\\'2755\\'>NIBLPF</option><option value=\\'469\\'>NIBPO</option><option value=\\'636\\'>NIBSF1</option><option value=\\'139\\'>NICA</option><option value=\\'2825\\'>NICAD 85/86</option><option value=\\'2895\\'>NICAD8182</option><option value=\\'2869\\'>NICAD8283</option><option value=\\'309\\'>NICAP</option><option value=\\'2863\\'>NICBF</option><option value=\\'2868\\'>NICD83/84</option><option value=\\'2779\\'>NICGF</option><option value=\\'176\\'>NICL</option><option value=\\'2887\\'>NICLBSL</option><option value=\\'689\\'>NICLPO</option><option value=\\'160\\'>NIDC</option><option value=\\'658\\'>NIDCPO</option><option value=\\'2919\\'>NIFRA</option><option value=\\'183\\'>NIL</option><option value=\\'615\\'>NILPO</option><option value=\\'222\\'>NKU</option><option value=\\'396\\'>NLBBL</option><option value=\\'661\\'>NLBBLP</option><option value=\\'559\\'>NLG</option><option value=\\'684\\'>NLGPO</option><option value=\\'187\\'>NLIC</option><option value=\\'178\\'>NLICL</option><option value=\\'582\\'>NLICLP</option><option value=\\'589\\'>NLICP</option><option value=\\'198\\'>NLO</option><option value=\\'238\\'>NMB</option><option value=\\'2867\\'>NMB50</option><option value=\\'2850\\'>NMBD2085</option><option value=\\'2752\\'>NMBHF1</option><option value=\\'704\\'>NMBMF</option><option value=\\'723\\'>NMBMFP</option><option value=\\'391\\'>NMBPO</option><option value=\\'2746\\'>NMFBS</option><option value=\\'2747\\'>NMFBSP</option><option value=\\'2881\\'>NRIC</option><option value=\\'2898\\'>NRN</option><option value=\\'2781\\'>NSEWA</option><option value=\\'2782\\'>NSEWAP</option><option value=\\'200\\'>NSM</option><option value=\\'313\\'>NSMPO</option><option value=\\'307\\'>NTC</option><option value=\\'158\\'>NTL</option><option value=\\'163\\'>NUBL</option><option value=\\'672\\'>NUBLPO</option><option value=\\'201\\'>NVG</option><option value=\\'159\\'>NWC</option><option value=\\'398\\'>ODBL</option><option value=\\'568\\'>ODBLPO</option><option value=\\'149\\'>OHL</option><option value=\\'2904\\'>PBLD84</option><option value=\\'2875\\'>PBLD86</option><option value=\\'357\\'>PCBL</option><option value=\\'544\\'>PCBLP</option><option value=\\'346\\'>PDBLPO</option><option value=\\'236\\'>PFL</option><option value=\\'390\\'>PFLPO</option><option value=\\'182\\'>PIC</option><option value=\\'189\\'>PICL</option><option value=\\'648\\'>PICLPO</option><option value=\\'713\\'>PICPO</option><option value=\\'2915\\'>PLI</option><option value=\\'393\\'>PLIC</option><option value=\\'701\\'>PLICPO</option><option value=\\'2786\\'>PMHPL</option><option value=\\'2813\\'>PPCL</option><option value=\\'488\\'>PRFLPO</option><option value=\\'184\\'>PRIN</option><option value=\\'590\\'>PRINPO</option><option value=\\'338\\'>PROFL</option><option value=\\'354\\'>PROFLP</option><option value=\\'255\\'>PRVU</option><option value=\\'632\\'>PRVUPO</option><option value=\\'387\\'>PSDBLP</option><option value=\\'451\\'>PURBL</option><option value=\\'714\\'>PURBLP</option><option value=\\'2776\\'>RADHI</option><option value=\\'177\\'>RBCL</option><option value=\\'634\\'>RBCLPO</option><option value=\\'610\\'>RHPC</option><option value=\\'2841\\'>RHPL</option><option value=\\'203\\'>RJM</option><option value=\\'587\\'>RLFL</option><option value=\\'650\\'>RLFLPO</option><option value=\\'2900\\'>RLI</option><option value=\\'312\\'>RMBFPO</option><option value=\\'575\\'>RMDC</option><option value=\\'659\\'>RMDCPO</option><option value=\\'2783\\'>RRHP</option><option value=\\'2748\\'>RSDC</option><option value=\\'2749\\'>RSDCP</option><option value=\\'2843\\'>SABSL</option><option value=\\'472\\'>SADBL</option><option value=\\'708\\'>SADBLP</option><option value=\\'2773\\'>SAEF</option><option value=\\'2828\\'>SAND2085</option><option value=\\'171\\'>SANIMA</option><option value=\\'2860\\'>SAPDBL</option><option value=\\'2861\\'>SAPDBLP</option><option value=\\'174\\'>SBBLJ</option><option value=\\'479\\'>SBBLJP</option><option value=\\'362\\'>SBBLPO</option><option value=\\'2922\\'>SBD87</option><option value=\\'135\\'>SBI</option><option value=\\'2890\\'>SBIBD86</option><option value=\\'347\\'>SBIPO</option><option value=\\'145\\'>SBL</option><option value=\\'2872\\'>SBLD2082</option><option value=\\'2864\\'>SBLD83</option><option value=\\'2912\\'>SBLD84</option><option value=\\'449\\'>SBLPO</option><option value=\\'226\\'>SBPP</option><option value=\\'133\\'>SCB</option><option value=\\'655\\'>SCBPO</option><option value=\\'2764\\'>SDESI</option><option value=\\'2896\\'>SDLBSL</option><option value=\\'2770\\'>SEF</option><option value=\\'616\\'>SEOS</option><option value=\\'221\\'>SFC</option><option value=\\'256\\'>SFCL</option><option value=\\'298\\'>SFCLP</option><option value=\\'299\\'>SFCPO</option><option value=\\'261\\'>SFFIL</option><option value=\\'352\\'>SFFILP</option><option value=\\'2877\\'>SFMF</option><option value=\\'2908\\'>SGI</option><option value=\\'625\\'>SHBL</option><option value=\\'732\\'>SHBLPO</option><option value=\\'473\\'>SHINE</option><option value=\\'669\\'>SHINEP</option><option value=\\'2809\\'>SHIVM</option><option value=\\'147\\'>SHL</option><option value=\\'591\\'>SHPC</option><option value=\\'185\\'>SIC</option><option value=\\'192\\'>SICL</option><option value=\\'606\\'>SICLPO</option><option value=\\'619\\'>SICPO</option><option value=\\'244\\'>SIFC</option><option value=\\'456\\'>SIFCPO</option><option value=\\'2859\\'>SIGS2</option><option value=\\'280\\'>SIL</option><option value=\\'630\\'>SILPO</option><option value=\\'561\\'>SINDU</option><option value=\\'652\\'>SINDUP</option><option value=\\'2842\\'>SJCL</option><option value=\\'574\\'>SKBBL</option><option value=\\'671\\'>SKBBLP</option><option value=\\'545\\'>SLBBL</option><option value=\\'721\\'>SLBBLP</option><option value=\\'2750\\'>SLBS</option><option value=\\'2804\\'>SLBSL</option><option value=\\'2911\\'>SLBSP</option><option value=\\'2923\\'>SLCF</option><option value=\\'403\\'>SLICL</option><option value=\\'581\\'>SLICLP</option><option value=\\'2761\\'>SMATA</option><option value=\\'2762\\'>SMATAP</option><option value=\\'2771\\'>SMB</option><option value=\\'2772\\'>SMBPO</option><option value=\\'2829\\'>SMFBS</option><option value=\\'502\\'>SMFDB</option><option value=\\'663\\'>SMFDBP</option><option value=\\'592\\'>SNLB</option><option value=\\'643\\'>SNLBP</option><option value=\\'2812\\'>SPARS</option><option value=\\'2759\\'>SPDL</option><option value=\\'359\\'>SRBL</option><option value=\\'2878\\'>SRBLD83</option><option value=\\'522\\'>SRBLPO</option><option value=\\'2834\\'>SRD80</option><option value=\\'230\\'>SRS</option><option value=\\'2907\\'>SSHL</option><option value=\\'155\\'>STC</option><option value=\\'268\\'>SWBBL</option><option value=\\'314\\'>SWBBLP</option><option value=\\'249\\'>SYFL</option><option value=\\'624\\'>SYFLPO</option><option value=\\'2855\\'>TMDBL</option><option value=\\'2856\\'>TMDBLP</option><option value=\\'148\\'>TRH</option><option value=\\'608\\'>TRHPR</option><option value=\\'242\\'>UFL</option><option value=\\'350\\'>UFLPO</option><option value=\\'180\\'>UIC</option><option value=\\'726\\'>UICPO</option><option value=\\'2760\\'>UMHL</option><option value=\\'2914\\'>UMRH</option><option value=\\'2831\\'>UNHPL</option><option value=\\'219\\'>UNL</option><option value=\\'2810\\'>UPCL</option><option value=\\'2792\\'>UPPER</option><option value=\\'2774\\'>USLB</option><option value=\\'2775\\'>USLBP</option><option value=\\'687\\'>VLBS</option><option value=\\'716\\'>VLBSPO</option><option value=\\'706\\'>WOMI</option><option value=\\'720\\'>WOMIPO</option><option value=\\'146\\'>YHL</option>                            </select>\\r\\n                        </div>\\r\\n                        \\r\\n                    </form>\\r\\n                </div>\\r\\n            </div>\\r\\n        </div><!-- /.container -->\\r\\n        <!-- End Logo Header -->\\r\\n\\r\\n        <!-- Start Menu Bar -->\\r\\n        <nav class=\"navbar navbar-default container\" id=\"body-menu\" role=\"navigation\" style=\"width:80%\">\\r\\n\\r\\n            <!-- Collect the nav links, forms, and other content for toggling -->\\r\\n            <div>\\r\\n                <ul class=\"sf-menu\" id=\"nav\" ><li><a class=\"Home\" href=\"http://www.nepalstock.com/\" title=\"Home\" >Home</a></li><li><a class=\"Nepse\\'s Data\" href=\"#\" title=\"Nepse\\'s Data\" >Nepse\\'s Data</a><ul ><li><a class=\"Today\\'s Share Price\" href=\"http://www.nepalstock.com/todaysprice\" title=\"Today\\'s Share Price\" >Today\\'s Share Price</a></li><li><a class=\"Today\\'s Floor Sheet\" href=\"http://www.nepalstock.com/floorsheet\" title=\"Today\\'s Floor Sheet\" >Today\\'s Floor Sheet</a></li><li><a class=\"DateWise Indices\" href=\"http://www.nepalstock.com/indices\" title=\"DateWise Indices\" >DateWise Indices</a></li><li><a class=\"Last 90 Day\\'s Stockwise Trading\" href=\"http://www.nepalstock.com/stockWisePrices\" title=\"Last 90 Day\\'s Stockwise Trading\" >Last 90 Day\\'s Stockwise Trading</a></li><li><a class=\"120 Day\\'s Trading Average Price\" href=\"http://www.nepalstock.com/calculation\" title=\"120 Day\\'s Trading Average Price\" >120 Day\\'s Trading Average Price</a></li><li><a class=\"180 Day\\'s Trading Average Price\" href=\"http://www.nepalstock.com/calculationoneeighty\" title=\"180 Day\\'s Trading Average Price\" >180 Day\\'s Trading Average Price</a></li></ul></li><li><a class=\"Media\" href=\"http://www.nepalstock.com/\" title=\"Media\" >Media</a><ul ><li><a class=\"News and Alerts\" href=\"http://www.nepalstock.com/news/category/0\" title=\"News and Alerts\" >News and Alerts</a></li><li><a class=\"Press Releases\" href=\"http://www.nepalstock.com/news/category/2\" title=\"Press Releases\" >Press Releases</a></li><li><a class=\"Investor Awareness\" href=\"http://www.nepalstock.com/news/category/3\" title=\"Investor Awareness\" >Investor Awareness</a></li></ul></li><li><a class=\"About Us\" href=\"http://www.nepalstock.com/\" title=\"About Us\" >About Us</a><ul ><li><a class=\"Introduction\" href=\"http://www.nepalstock.com/about-us/introduction\" title=\"Introduction\" >Introduction</a></li><li><a class=\"Board of Directors\" href=\"http://www.nepalstock.com/about-us/board-of-directors\" title=\"Board of Directors\" >Board of Directors</a></li><li><a class=\"Contact Us\" href=\"http://www.nepalstock.com/about-us/contact-us\" title=\"Contact Us\" >Contact Us</a></li></ul></li><li><a class=\"Events\" href=\"http://www.nepalstock.com/events\" title=\"Events\" >Events</a></li><li><a class=\"Company Listing\" href=\"#\" title=\"Company Listing\" >Company Listing</a><ul ><li><a class=\"Listed Companies\" href=\"http://www.nepalstock.com/company\" title=\"Listed Companies\" >Listed Companies</a></li><li><a class=\"Listing Information\" href=\"http://www.nepalstock.com/listing-information\" title=\"Listing Information\" >Listing Information</a></li><li><a class=\"Promoter Share\" href=\"http://www.nepalstock.com/promoter-share\" title=\"Promoter Share\" >Promoter Share</a></li><li><a class=\"Classification of Companies\" href=\"http://www.nepalstock.com/classification-of-listed-companies\" title=\"Classification of Companies\" >Classification of Companies</a></li></ul></li><li><a class=\"Reports\" href=\"http://www.nepalstock.com/\" title=\"Reports\" >Reports</a><ul ><li><a class=\"Weekly Report\" href=\"http://www.nepalstock.com/reports-by-category/1\" title=\"Weekly Report\" >Weekly Report</a></li><li><a class=\"Monthly Report\" href=\"http://www.nepalstock.com/reports-by-category/2\" title=\"Monthly Report\" >Monthly Report</a></li><li><a class=\"Annual Report\" href=\"http://www.nepalstock.com/reports-by-category/7\" title=\"Annual Report\" >Annual Report</a></li></ul></li><li><a class=\"education\" href=\"http://www.nepalstock.com/education\" title=\"education\" target=_blank>education</a></li><li><a class=\"Brokers\" href=\"http://www.nepalstock.com/brokers\" title=\"Brokers\" >Brokers</a></li><li><a class=\"marketdepth\" href=\"http://www.nepalstock.com/marketdepth\" title=\"marketdepth\" >marketdepth</a></li></ul>            </div><!-- /.navbar-collapse -->\\r\\n        </nav>\\r\\n        <!-- End Menu Bar -->\\r\\n\\r\\n        <!-- Start Ticker -->\\r\\n        <div class=\"container\" id=\"ticker\" style=\"width:80%\">\\r\\n\\r\\n                    <div class=\\'col-xs-2 col-md-2 col-sm-0\\' id=\\'date\\'>As of 2021-04-08 &nbsp;&nbsp;  15:00:00 &nbsp;&nbsp; </div>\\n              <div class=\\'col-xs-10 col-md-10 col-sm-12\\' id=\\'stockData\\'>\\n                  <marquee scrollamount=\\'5\\' scrolldelay=\\'10\\' onmouseover=\\'this.stop();\\' onmouseout=\\'this.start();\\'><b>NIFRA 589.00 ( 420301 ) ( <span class=\\'red\\'> -3 </span>) <img src=http://www.nepalstock.com/./images/decrease.gif width=\\'8\\'  border=\\'0\\' alt=\\'\\' align=\\'middle\\' /> &nbsp;&nbsp; SLBSL 1,385.00 ( 10302 ) ( <span class=\\'green\\'> 41 </span>) <img src=http://www.nepalstock.com/./images/increase.gif width=\\'8\\'  border=\\'0\\' alt=\\'\\' align=\\'middle\\' /> &nbsp;&nbsp; GBIME 443.00 ( 168674 ) ( <span class=\\'\\'> 0 </span>) <img src=http://www.nepalstock.com/./images/nil.gif width=\\'8\\'  border=\\'0\\' alt=\\'\\' align=\\'middle\\' /> &nbsp;&nbsp; CGH 2,625.00 ( 83505 ) ( <span class=\\'green\\'> 47 </span>) <img src=http://www.nepalstock.com/./images/increase.gif width=\\'8\\'  border=\\'0\\' alt=\\'\\' align=\\'middle\\' /> &nbsp;&nbsp; SFCL 222.00 ( 68449 ) ( <span class=\\'green\\'> 8 </span>) <img src=http://www.nepalstock.com/./images/increase.gif width=\\'8\\'  border=\\'0\\' alt=\\'\\' align=\\'middle\\' /> &nbsp;&nbsp; SBI 413.00 ( 20220 ) ( <span class=\\'green\\'> 1 </span>) <img src=http://www.nepalstock.com/./images/increase.gif width=\\'8\\'  border=\\'0\\' alt=\\'\\' align=\\'middle\\' /> &nbsp;&nbsp; NIL 1,664.00 ( 52518 ) ( <span class=\\'red\\'> -3 </span>) <img src=http://www.nepalstock.com/./images/decrease.gif width=\\'8\\'  border=\\'0\\' alt=\\'\\' align=\\'middle\\' /> &nbsp;&nbsp; GBBL 333.00 ( 124522 ) ( <span class=\\'green\\'> 5 </span>) <img src=http://www.nepalstock.com/./images/increase.gif width=\\'8\\'  border=\\'0\\' alt=\\'\\' align=\\'middle\\' /> &nbsp;&nbsp; NBL 445.00 ( 545320 ) ( <span class=\\'green\\'> 4 </span>) <img src=http://www.nepalstock.com/./images/increase.gif width=\\'8\\'  border=\\'0\\' alt=\\'\\' align=\\'middle\\' /> &nbsp;&nbsp; LBBL 265.00 ( 44477 ) ( <span class=\\'red\\'> -1 </span>) <img src=http://www.nepalstock.com/./images/decrease.gif width=\\'8\\'  border=\\'0\\' alt=\\'\\' align=\\'middle\\' /> &nbsp;&nbsp; PLIC 872.00 ( 23400 ) ( <span class=\\'red\\'> -8 </span>) <img src=http://www.nepalstock.com/./images/decrease.gif width=\\'8\\'  border=\\'0\\' alt=\\'\\' align=\\'middle\\' /> &nbsp;&nbsp; AKPL 330.00 ( 93817 ) ( <span class=\\'red\\'> -3 </span>) <img src=http://www.nepalstock.com/./images/decrease.gif width=\\'8\\'  border=\\'0\\' alt=\\'\\' align=\\'middle\\' /> &nbsp;&nbsp; SDLBSL 1,529.00 ( 14594 ) ( <span class=\\'green\\'> 55 </span>) <img src=http://www.nepalstock.com/./images/increase.gif width=\\'8\\'  border=\\'0\\' alt=\\'\\' align=\\'middle\\' /> &nbsp;&nbsp; MBL 311.00 ( 83430 ) ( <span class=\\'green\\'> 1 </span>) <img src=http://www.nepalstock.com/./images/increase.gif width=\\'8\\'  border=\\'0\\' alt=\\'\\' align=\\'middle\\' /> &nbsp;&nbsp; SPDL 274.00 ( 47472 ) ( <span class=\\'red\\'> -5 </span>) <img src=http://www.nepalstock.com/./images/decrease.gif width=\\'8\\'  border=\\'0\\' alt=\\'\\' align=\\'middle\\' /> &nbsp;&nbsp; MLBL 292.00 ( 38748 ) ( <span class=\\'\\'> 0 </span>) <img src=http://www.nepalstock.com/./images/nil.gif width=\\'8\\'  border=\\'0\\' alt=\\'\\' align=\\'middle\\' /> &nbsp;&nbsp; NRN 495.00 ( 189926 ) ( <span class=\\'green\\'> 31 </span>) <img src=http://www.nepalstock.com/./images/increase.gif width=\\'8\\'  border=\\'0\\' alt=\\'\\' align=\\'middle\\' /> &nbsp;&nbsp; DHPL 126.00 ( 41087 ) ( <span class=\\'red\\'> -1 </span>) <img src=http://www.nepalstock.com/./images/decrease.gif width=\\'8\\'  border=\\'0\\' alt=\\'\\' align=\\'middle\\' /> &nbsp;&nbsp; EBL 747.00 ( 25036 ) ( <span class=\\'red\\'> -3 </span>) <img src=http://www.nepalstock.com/./images/decrease.gif width=\\'8\\'  border=\\'0\\' alt=\\'\\' align=\\'middle\\' /> &nbsp;&nbsp; RLI 719.00 ( 32140 ) ( <span class=\\'green\\'> 1 </span>) <img src=http://www.nepalstock.com/./images/increase.gif width=\\'8\\'  border=\\'0\\' alt=\\'\\' align=\\'middle\\' /> &nbsp;&nbsp; MEGA 307.00 ( 267845 ) ( <span class=\\'red\\'> -1 </span>) <img src=http://www.nepalstock.com/./images/decrease.gif width=\\'8\\'  border=\\'0\\' alt=\\'\\' align=\\'middle\\' /> &nbsp;&nbsp; RHPL 506.00 ( 120472 ) ( <span class=\\'red\\'> -22 </span>) <img src=http://www.nepalstock.com/./images/decrease.gif width=\\'8\\'  border=\\'0\\' alt=\\'\\' align=\\'middle\\' /> &nbsp;&nbsp; BFC 171.00 ( 52828 ) ( <span class=\\'green\\'> 4 </span>) <img src=http://www.nepalstock.com/./images/increase.gif width=\\'8\\'  border=\\'0\\' alt=\\'\\' align=\\'middle\\' /> &nbsp;&nbsp; NIB 459.00 ( 66459 ) ( <span class=\\'red\\'> -1 </span>) <img src=http://www.nepalstock.com/./images/decrease.gif width=\\'8\\'  border=\\'0\\' alt=\\'\\' align=\\'middle\\' /> &nbsp;&nbsp; PLI 801.00 ( 17795 ) ( <span class=\\'red\\'> -1 </span>) <img src=http://www.nepalstock.com/./images/decrease.gif width=\\'8\\'  border=\\'0\\' alt=\\'\\' align=\\'middle\\' /> &nbsp;&nbsp; LBL 314.00 ( 177495 ) ( <span class=\\'green\\'> 1 </span>) <img src=http://www.nepalstock.com/./images/increase.gif width=\\'8\\'  border=\\'0\\' alt=\\'\\' align=\\'middle\\' /> &nbsp;&nbsp; UPPER 892.00 ( 398538 ) ( <span class=\\'green\\'> 1 </span>) <img src=http://www.nepalstock.com/./images/increase.gif width=\\'8\\'  border=\\'0\\' alt=\\'\\' align=\\'middle\\' /> &nbsp;&nbsp; NRIC 1,448.00 ( 71442 ) ( <span class=\\'red\\'> -9 </span>) <img src=http://www.nepalstock.com/./images/decrease.gif width=\\'8\\'  border=\\'0\\' alt=\\'\\' align=\\'middle\\' /> &nbsp;&nbsp; UMHL 192.00 ( 122510 ) ( <span class=\\'red\\'> -5 </span>) <img src=http://www.nepalstock.com/./images/decrease.gif width=\\'8\\'  border=\\'0\\' alt=\\'\\' align=\\'middle\\' /> &nbsp;&nbsp; PROFL 177.00 ( 49408 ) ( <span class=\\'green\\'> 7 </span>) <img src=http://www.nepalstock.com/./images/increase.gif width=\\'8\\'  border=\\'0\\' alt=\\'\\' align=\\'middle\\' /> &nbsp;&nbsp; SADBL 231.00 ( 116838 ) ( <span class=\\'green\\'> 13 </span>) <img src=http://www.nepalstock.com/./images/increase.gif width=\\'8\\'  border=\\'0\\' alt=\\'\\' align=\\'middle\\' /> &nbsp;&nbsp; HGI 783.00 ( 88301 ) ( <span class=\\'red\\'> -21 </span>) <img src=http://www.nepalstock.com/./images/decrease.gif width=\\'8\\'  border=\\'0\\' alt=\\'\\' align=\\'middle\\' /> &nbsp;&nbsp; SANIMA 378.00 ( 128336 ) ( <span class=\\'red\\'> -1 </span>) <img src=http://www.nepalstock.com/./images/decrease.gif width=\\'8\\'  border=\\'0\\' alt=\\'\\' align=\\'middle\\' /> &nbsp;&nbsp; RSDC 892.00 ( 21469 ) ( <span class=\\'green\\'> 2 </span>) <img src=http://www.nepalstock.com/./images/increase.gif width=\\'8\\'  border=\\'0\\' alt=\\'\\' align=\\'middle\\' /> &nbsp;&nbsp; PIC 1,300.00 ( 27881 ) ( <span class=\\'red\\'> -20 </span>) <img src=http://www.nepalstock.com/./images/decrease.gif width=\\'8\\'  border=\\'0\\' alt=\\'\\' align=\\'middle\\' /> &nbsp;&nbsp; UMRH 307.00 ( 6922 ) ( <span class=\\'red\\'> -3 </span>) <img src=http://www.nepalstock.com/./images/decrease.gif width=\\'8\\'  border=\\'0\\' alt=\\'\\' align=\\'middle\\' /> &nbsp;&nbsp; FOWAD 3,000.00 ( 34358 ) ( <span class=\\'green\\'> 126 </span>) <img src=http://www.nepalstock.com/./images/increase.gif width=\\'8\\'  border=\\'0\\' alt=\\'\\' align=\\'middle\\' /> &nbsp;&nbsp; PICL 878.00 ( 32971 ) ( <span class=\\'red\\'> -8 </span>) <img src=http://www.nepalstock.com/./images/decrease.gif width=\\'8\\'  border=\\'0\\' alt=\\'\\' align=\\'middle\\' /> &nbsp;&nbsp; SLBBL 1,465.00 ( 20368 ) ( <span class=\\'green\\'> 25 </span>) <img src=http://www.nepalstock.com/./images/increase.gif width=\\'8\\'  border=\\'0\\' alt=\\'\\' align=\\'middle\\' /> &nbsp;&nbsp; SBL 429.00 ( 100351 ) ( <span class=\\'red\\'> -2 </span>) <img src=http://www.nepalstock.com/./images/decrease.gif width=\\'8\\'  border=\\'0\\' alt=\\'\\' align=\\'middle\\' /> &nbsp;&nbsp; LLBS 2,153.00 ( 21335 ) ( <span class=\\'green\\'> 93 </span>) <img src=http://www.nepalstock.com/./images/increase.gif width=\\'8\\'  border=\\'0\\' alt=\\'\\' align=\\'middle\\' /> &nbsp;&nbsp; UPCL 173.00 ( 247799 ) ( <span class=\\'red\\'> -8 </span>) <img src=http://www.nepalstock.com/./images/decrease.gif width=\\'8\\'  border=\\'0\\' alt=\\'\\' align=\\'middle\\' /> &nbsp;&nbsp; CFCL 230.00 ( 106116 ) ( <span class=\\'green\\'> 17 </span>) <img src=http://www.nepalstock.com/./images/increase.gif width=\\'8\\'  border=\\'0\\' alt=\\'\\' align=\\'middle\\' /> &nbsp;&nbsp; MLBBL 1,774.00 ( 9294 ) ( <span class=\\'green\\'> 74 </span>) <img src=http://www.nepalstock.com/./images/increase.gif width=\\'8\\'  border=\\'0\\' alt=\\'\\' align=\\'middle\\' /> &nbsp;&nbsp; PFL 319.00 ( 97228 ) ( <span class=\\'green\\'> 19 </span>) <img src=http://www.nepalstock.com/./images/increase.gif width=\\'8\\'  border=\\'0\\' alt=\\'\\' align=\\'middle\\' /> &nbsp;&nbsp; SJCL 476.00 ( 137603 ) ( <span class=\\'red\\'> -14 </span>) <img src=http://www.nepalstock.com/./images/decrease.gif width=\\'8\\'  border=\\'0\\' alt=\\'\\' align=\\'middle\\' /> &nbsp;&nbsp; NMB 424.00 ( 111983 ) ( <span class=\\'red\\'> -1 </span>) <img src=http://www.nepalstock.com/./images/decrease.gif width=\\'8\\'  border=\\'0\\' alt=\\'\\' align=\\'middle\\' /> &nbsp;&nbsp; GIC 733.00 ( 19068 ) ( <span class=\\'green\\'> 13 </span>) <img src=http://www.nepalstock.com/./images/increase.gif width=\\'8\\'  border=\\'0\\' alt=\\'\\' align=\\'middle\\' /> &nbsp;&nbsp; UNHPL 133.00 ( 31372 ) ( <span class=\\'red\\'> -3 </span>) <img src=http://www.nepalstock.com/./images/decrease.gif width=\\'8\\'  border=\\'0\\' alt=\\'\\' align=\\'middle\\' /> &nbsp;&nbsp; MFIL 505.00 ( 9225 ) ( <span class=\\'green\\'> 5 </span>) <img src=http://www.nepalstock.com/./images/increase.gif width=\\'8\\'  border=\\'0\\' alt=\\'\\' align=\\'middle\\' /> &nbsp;&nbsp; GUFL 479.00 ( 91160 ) ( <span class=\\'green\\'> 4 </span>) <img src=http://www.nepalstock.com/./images/increase.gif width=\\'8\\'  border=\\'0\\' alt=\\'\\' align=\\'middle\\' /> &nbsp;&nbsp; GLH 410.00 ( 81011 ) ( <span class=\\'green\\'> 37 </span>) <img src=http://www.nepalstock.com/./images/increase.gif width=\\'8\\'  border=\\'0\\' alt=\\'\\' align=\\'middle\\' /> &nbsp;&nbsp; HDHPC 152.00 ( 287638 ) ( <span class=\\'\\'> 0 </span>) <img src=http://www.nepalstock.com/./images/nil.gif width=\\'8\\'  border=\\'0\\' alt=\\'\\' align=\\'middle\\' /> &nbsp;&nbsp; AIL 845.00 ( 45734 ) ( <span class=\\'red\\'> -32 </span>) <img src=http://www.nepalstock.com/./images/decrease.gif width=\\'8\\'  border=\\'0\\' alt=\\'\\' align=\\'middle\\' /> &nbsp;&nbsp; NCCB 316.00 ( 101968 ) ( <span class=\\'red\\'> -1 </span>) <img src=http://www.nepalstock.com/./images/decrease.gif width=\\'8\\'  border=\\'0\\' alt=\\'\\' align=\\'middle\\' /> &nbsp;&nbsp; JBBL 260.00 ( 381280 ) ( <span class=\\'red\\'> -3 </span>) <img src=http://www.nepalstock.com/./images/decrease.gif width=\\'8\\'  border=\\'0\\' alt=\\'\\' align=\\'middle\\' /> &nbsp;&nbsp; NLG 1,140.00 ( 50358 ) ( <span class=\\'red\\'> -3 </span>) <img src=http://www.nepalstock.com/./images/decrease.gif width=\\'8\\'  border=\\'0\\' alt=\\'\\' align=\\'middle\\' /> &nbsp;&nbsp; NLIC 2,113.00 ( 43308 ) ( <span class=\\'green\\'> 13 </span>) <img src=http://www.nepalstock.com/./images/increase.gif width=\\'8\\'  border=\\'0\\' alt=\\'\\' align=\\'middle\\' /> &nbsp;&nbsp; NICL 814.00 ( 34372 ) ( <span class=\\'\\'> 0 </span>) <img src=http://www.nepalstock.com/./images/nil.gif width=\\'8\\'  border=\\'0\\' alt=\\'\\' align=\\'middle\\' /> &nbsp;&nbsp; ICFC 323.00 ( 123019 ) ( <span class=\\'green\\'> 15 </span>) <img src=http://www.nepalstock.com/./images/increase.gif width=\\'8\\'  border=\\'0\\' alt=\\'\\' align=\\'middle\\' /> &nbsp;&nbsp; SKBBL 1,705.00 ( 15687 ) ( <span class=\\'red\\'> -5 </span>) <img src=http://www.nepalstock.com/./images/decrease.gif width=\\'8\\'  border=\\'0\\' alt=\\'\\' align=\\'middle\\' /> &nbsp;&nbsp; BARUN 245.00 ( 12635 ) ( <span class=\\'red\\'> -1 </span>) <img src=http://www.nepalstock.com/./images/decrease.gif width=\\'8\\'  border=\\'0\\' alt=\\'\\' align=\\'middle\\' /> &nbsp;&nbsp; SGI 790.00 ( 24715 ) ( <span class=\\'green\\'> 12 </span>) <img src=http://www.nepalstock.com/./images/increase.gif width=\\'8\\'  border=\\'0\\' alt=\\'\\' align=\\'middle\\' /> &nbsp;&nbsp; KBL 316.00 ( 241538 ) ( <span class=\\'green\\'> 1 </span>) <img src=http://www.nepalstock.com/./images/increase.gif width=\\'8\\'  border=\\'0\\' alt=\\'\\' align=\\'middle\\' /> &nbsp;&nbsp; SINDU 204.00 ( 82607 ) ( <span class=\\'green\\'> 7 </span>) <img src=http://www.nepalstock.com/./images/increase.gif width=\\'8\\'  border=\\'0\\' alt=\\'\\' align=\\'middle\\' /> &nbsp;&nbsp; ACLBSL 1,617.00 ( 10980 ) ( <span class=\\'green\\'> 42 </span>) <img src=http://www.nepalstock.com/./images/increase.gif width=\\'8\\'  border=\\'0\\' alt=\\'\\' align=\\'middle\\' /> &nbsp;&nbsp; VLBS 1,745.00 ( 13644 ) ( <span class=\\'green\\'> 56 </span>) <img src=http://www.nepalstock.com/./images/increase.gif width=\\'8\\'  border=\\'0\\' alt=\\'\\' align=\\'middle\\' /> &nbsp;&nbsp; CBBL 1,730.00 ( 50228 ) ( <span class=\\'green\\'> 8 </span>) <img src=http://www.nepalstock.com/./images/increase.gif width=\\'8\\'  border=\\'0\\' alt=\\'\\' align=\\'middle\\' /> &nbsp;&nbsp; SABSL 1,586.00 ( 7874 ) ( <span class=\\'green\\'> 50 </span>) <img src=http://www.nepalstock.com/./images/increase.gif width=\\'8\\'  border=\\'0\\' alt=\\'\\' align=\\'middle\\' /> &nbsp;&nbsp; MERO 1,481.00 ( 30719 ) ( <span class=\\'green\\'> 15 </span>) <img src=http://www.nepalstock.com/./images/increase.gif width=\\'8\\'  border=\\'0\\' alt=\\'\\' align=\\'middle\\' /> &nbsp;&nbsp; SHINE 273.00 ( 40297 ) ( <span class=\\'green\\'> 3 </span>) <img src=http://www.nepalstock.com/./images/increase.gif width=\\'8\\'  border=\\'0\\' alt=\\'\\' align=\\'middle\\' /> &nbsp;&nbsp; MSLB 2,330.00 ( 4735 ) ( <span class=\\'green\\'> 103 </span>) <img src=http://www.nepalstock.com/./images/increase.gif width=\\'8\\'  border=\\'0\\' alt=\\'\\' align=\\'middle\\' /> &nbsp;&nbsp; GBLBS 1,169.00 ( 62454 ) ( <span class=\\'green\\'> 7 </span>) <img src=http://www.nepalstock.com/./images/increase.gif width=\\'8\\'  border=\\'0\\' alt=\\'\\' align=\\'middle\\' /> &nbsp;&nbsp; CHCL 670.00 ( 113281 ) ( <span class=\\'red\\'> -11 </span>) <img src=http://www.nepalstock.com/./images/decrease.gif width=\\'8\\'  border=\\'0\\' alt=\\'\\' align=\\'middle\\' /> &nbsp;&nbsp; NMBMF 1,493.00 ( 33106 ) ( <span class=\\'green\\'> 69 </span>) <img src=http://www.nepalstock.com/./images/increase.gif width=\\'8\\'  border=\\'0\\' alt=\\'\\' align=\\'middle\\' /> &nbsp;&nbsp; SAPDBL 176.00 ( 40168 ) ( <span class=\\'green\\'> 4 </span>) <img src=http://www.nepalstock.com/./images/increase.gif width=\\'8\\'  border=\\'0\\' alt=\\'\\' align=\\'middle\\' /> &nbsp;&nbsp; BPCL 422.00 ( 72559 ) ( <span class=\\'red\\'> -10 </span>) <img src=http://www.nepalstock.com/./images/decrease.gif width=\\'8\\'  border=\\'0\\' alt=\\'\\' align=\\'middle\\' /> &nbsp;&nbsp; JOSHI 138.00 ( 9115 ) ( <span class=\\'\\'> 0 </span>) <img src=http://www.nepalstock.com/./images/nil.gif width=\\'8\\'  border=\\'0\\' alt=\\'\\' align=\\'middle\\' /> &nbsp;&nbsp; NICA 918.00 ( 98184 ) ( <span class=\\'red\\'> -2 </span>) <img src=http://www.nepalstock.com/./images/decrease.gif width=\\'8\\'  border=\\'0\\' alt=\\'\\' align=\\'middle\\' /> &nbsp;&nbsp; API 329.00 ( 116203 ) ( <span class=\\'red\\'> -1 </span>) <img src=http://www.nepalstock.com/./images/decrease.gif width=\\'8\\'  border=\\'0\\' alt=\\'\\' align=\\'middle\\' /> &nbsp;&nbsp; MNBBL 412.00 ( 40238 ) ( <span class=\\'\\'> 0 </span>) <img src=http://www.nepalstock.com/./images/nil.gif width=\\'8\\'  border=\\'0\\' alt=\\'\\' align=\\'middle\\' /> &nbsp;&nbsp; SHIVM 1,466.00 ( 19075 ) ( <span class=\\'red\\'> -6 </span>) <img src=http://www.nepalstock.com/./images/decrease.gif width=\\'8\\'  border=\\'0\\' alt=\\'\\' align=\\'middle\\' /> &nbsp;&nbsp; BOKL 313.00 ( 205441 ) ( <span class=\\'green\\'> 3 </span>) <img src=http://www.nepalstock.com/./images/increase.gif width=\\'8\\'  border=\\'0\\' alt=\\'\\' align=\\'middle\\' /> &nbsp;&nbsp; DDBL 1,795.00 ( 45393 ) ( <span class=\\'green\\'> 6 </span>) <img src=http://www.nepalstock.com/./images/increase.gif width=\\'8\\'  border=\\'0\\' alt=\\'\\' align=\\'middle\\' /> &nbsp;&nbsp; HDL 4,360.00 ( 15760 ) ( <span class=\\'red\\'> -50 </span>) <img src=http://www.nepalstock.com/./images/decrease.gif width=\\'8\\'  border=\\'0\\' alt=\\'\\' align=\\'middle\\' /> &nbsp;&nbsp; PRVU 451.00 ( 152839 ) ( <span class=\\'red\\'> -1 </span>) <img src=http://www.nepalstock.com/./images/decrease.gif width=\\'8\\'  border=\\'0\\' alt=\\'\\' align=\\'middle\\' /> &nbsp;&nbsp; JFL 271.00 ( 27146 ) ( <span class=\\'green\\'> 5 </span>) <img src=http://www.nepalstock.com/./images/increase.gif width=\\'8\\'  border=\\'0\\' alt=\\'\\' align=\\'middle\\' /> &nbsp;&nbsp; USLB 2,386.00 ( 2156 ) ( <span class=\\'green\\'> 42 </span>) <img src=http://www.nepalstock.com/./images/increase.gif width=\\'8\\'  border=\\'0\\' alt=\\'\\' align=\\'middle\\' /> &nbsp;&nbsp; ALBSL 1,765.00 ( 16491 ) ( <span class=\\'green\\'> 82 </span>) <img src=http://www.nepalstock.com/./images/increase.gif width=\\'8\\'  border=\\'0\\' alt=\\'\\' align=\\'middle\\' /> &nbsp;&nbsp; NABIL 1,330.00 ( 134432 ) ( <span class=\\'green\\'> 13 </span>) <img src=http://www.nepalstock.com/./images/increase.gif width=\\'8\\'  border=\\'0\\' alt=\\'\\' align=\\'middle\\' /> &nbsp;&nbsp; NLICL 1,154.00 ( 38271 ) ( <span class=\\'red\\'> -1 </span>) <img src=http://www.nepalstock.com/./images/decrease.gif width=\\'8\\'  border=\\'0\\' alt=\\'\\' align=\\'middle\\' /> &nbsp;&nbsp; SLICL 841.00 ( 53437 ) ( <span class=\\'green\\'> 2 </span>) <img src=http://www.nepalstock.com/./images/increase.gif width=\\'8\\'  border=\\'0\\' alt=\\'\\' align=\\'middle\\' /> &nbsp;&nbsp; IGI 1,245.00 ( 40166 ) ( <span class=\\'green\\'> 27 </span>) <img src=http://www.nepalstock.com/./images/increase.gif width=\\'8\\'  border=\\'0\\' alt=\\'\\' align=\\'middle\\' /> &nbsp;&nbsp; NTC 1,351.00 ( 100718 ) ( <span class=\\'red\\'> -19 </span>) <img src=http://www.nepalstock.com/./images/decrease.gif width=\\'8\\'  border=\\'0\\' alt=\\'\\' align=\\'middle\\' /> &nbsp;&nbsp; GMFBS 1,705.00 ( 11086 ) ( <span class=\\'green\\'> 95 </span>) <img src=http://www.nepalstock.com/./images/increase.gif width=\\'8\\'  border=\\'0\\' alt=\\'\\' align=\\'middle\\' /> &nbsp;&nbsp; EDBL 512.00 ( 40014 ) ( <span class=\\'green\\'> 22 </span>) <img src=http://www.nepalstock.com/./images/increase.gif width=\\'8\\'  border=\\'0\\' alt=\\'\\' align=\\'middle\\' /> &nbsp;&nbsp; PMHPL 191.00 ( 9002 ) ( <span class=\\'red\\'> -7 </span>) <img src=http://www.nepalstock.com/./images/decrease.gif width=\\'8\\'  border=\\'0\\' alt=\\'\\' align=\\'middle\\' /> &nbsp;&nbsp; KRBL 183.00 ( 27800 ) ( <span class=\\'red\\'> -1 </span>) <img src=http://www.nepalstock.com/./images/decrease.gif width=\\'8\\'  border=\\'0\\' alt=\\'\\' align=\\'middle\\' /> &nbsp;&nbsp; SRBL 314.00 ( 81568 ) ( <span class=\\'green\\'> 2 </span>) <img src=http://www.nepalstock.com/./images/increase.gif width=\\'8\\'  border=\\'0\\' alt=\\'\\' align=\\'middle\\' /> &nbsp;&nbsp; CZBIL 311.00 ( 75713 ) ( <span class=\\'green\\'> 1 </span>) <img src=http://www.nepalstock.com/./images/increase.gif width=\\'8\\'  border=\\'0\\' alt=\\'\\' align=\\'middle\\' /> &nbsp;&nbsp; CLBSL 1,256.00 ( 30307 ) ( <span class=\\'green\\'> 41 </span>) <img src=http://www.nepalstock.com/./images/increase.gif width=\\'8\\'  border=\\'0\\' alt=\\'\\' align=\\'middle\\' /> &nbsp;&nbsp; SWBBL 1,843.00 ( 43313 ) ( <span class=\\'green\\'> 14 </span>) <img src=http://www.nepalstock.com/./images/increase.gif width=\\'8\\'  border=\\'0\\' alt=\\'\\' align=\\'middle\\' /> &nbsp;&nbsp; CMF1 10.55 ( 588000 ) ( <span class=\\'green\\'> 0.04 </span>) <img src=http://www.nepalstock.com/./images/increase.gif width=\\'8\\'  border=\\'0\\' alt=\\'\\' align=\\'middle\\' /> &nbsp;&nbsp; KMCDB 1,364.00 ( 17959 ) ( <span class=\\'green\\'> 34 </span>) <img src=http://www.nepalstock.com/./images/increase.gif width=\\'8\\'  border=\\'0\\' alt=\\'\\' align=\\'middle\\' /> &nbsp;&nbsp; NBB 368.00 ( 197989 ) ( <span class=\\'green\\'> 1 </span>) <img src=http://www.nepalstock.com/./images/increase.gif width=\\'8\\'  border=\\'0\\' alt=\\'\\' align=\\'middle\\' /> &nbsp;&nbsp; NHPC 172.00 ( 127489 ) ( <span class=\\'red\\'> -5 </span>) <img src=http://www.nepalstock.com/./images/decrease.gif width=\\'8\\'  border=\\'0\\' alt=\\'\\' align=\\'middle\\' /> &nbsp;&nbsp; ADBL 437.00 ( 42866 ) ( <span class=\\'\\'> 0 </span>) <img src=http://www.nepalstock.com/./images/nil.gif width=\\'8\\'  border=\\'0\\' alt=\\'\\' align=\\'middle\\' /> &nbsp;&nbsp; SIC 1,702.00 ( 22219 ) ( <span class=\\'\\'> 0 </span>) <img src=http://www.nepalstock.com/./images/nil.gif width=\\'8\\'  border=\\'0\\' alt=\\'\\' align=\\'middle\\' /> &nbsp;&nbsp; HBL 506.00 ( 14815 ) ( <span class=\\'green\\'> 1 </span>) <img src=http://www.nepalstock.com/./images/increase.gif width=\\'8\\'  border=\\'0\\' alt=\\'\\' align=\\'middle\\' /> &nbsp;&nbsp; LGIL 825.00 ( 31612 ) ( <span class=\\'green\\'> 3 </span>) <img src=http://www.nepalstock.com/./images/increase.gif width=\\'8\\'  border=\\'0\\' alt=\\'\\' align=\\'middle\\' /> &nbsp;&nbsp; SICL 1,933.00 ( 20929 ) ( <span class=\\'green\\'> 6 </span>) <img src=http://www.nepalstock.com/./images/increase.gif width=\\'8\\'  border=\\'0\\' alt=\\'\\' align=\\'middle\\' /> &nbsp;&nbsp; AHPC 264.00 ( 56759 ) ( <span class=\\'red\\'> -3 </span>) <img src=http://www.nepalstock.com/./images/decrease.gif width=\\'8\\'  border=\\'0\\' alt=\\'\\' align=\\'middle\\' /> &nbsp;&nbsp; STC 11,201.00 ( 3436 ) ( <span class=\\'red\\'> -97 </span>) <img src=http://www.nepalstock.com/./images/decrease.gif width=\\'8\\'  border=\\'0\\' alt=\\'\\' align=\\'middle\\' /> &nbsp;&nbsp; GLBSL 1,690.00 ( 14597 ) ( <span class=\\'green\\'> 85 </span>) <img src=http://www.nepalstock.com/./images/increase.gif width=\\'8\\'  border=\\'0\\' alt=\\'\\' align=\\'middle\\' /> &nbsp;&nbsp; FMDBL 865.00 ( 39407 ) ( <span class=\\'green\\'> 4 </span>) <img src=http://www.nepalstock.com/./images/increase.gif width=\\'8\\'  border=\\'0\\' alt=\\'\\' align=\\'middle\\' /> &nbsp;&nbsp; CIT 4,205.00 ( 9001 ) ( <span class=\\'red\\'> -26 </span>) <img src=http://www.nepalstock.com/./images/decrease.gif width=\\'8\\'  border=\\'0\\' alt=\\'\\' align=\\'middle\\' /> &nbsp;&nbsp; WOMI 1,809.00 ( 26838 ) ( <span class=\\'green\\'> 3 </span>) <img src=http://www.nepalstock.com/./images/increase.gif width=\\'8\\'  border=\\'0\\' alt=\\'\\' align=\\'middle\\' /> &nbsp;&nbsp; TRH 325.00 ( 13046 ) ( <span class=\\'red\\'> -7 </span>) <img src=http://www.nepalstock.com/./images/decrease.gif width=\\'8\\'  border=\\'0\\' alt=\\'\\' align=\\'middle\\' /> &nbsp;&nbsp; RADHI 470.00 ( 22309 ) ( <span class=\\'red\\'> -9 </span>) <img src=http://www.nepalstock.com/./images/decrease.gif width=\\'8\\'  border=\\'0\\' alt=\\'\\' align=\\'middle\\' /> &nbsp;&nbsp; PPCL 314.00 ( 19220 ) ( <span class=\\'green\\'> 13 </span>) <img src=http://www.nepalstock.com/./images/increase.gif width=\\'8\\'  border=\\'0\\' alt=\\'\\' align=\\'middle\\' /> &nbsp;&nbsp; GLICL 769.00 ( 18111 ) ( <span class=\\'green\\'> 8 </span>) <img src=http://www.nepalstock.com/./images/increase.gif width=\\'8\\'  border=\\'0\\' alt=\\'\\' align=\\'middle\\' /> &nbsp;&nbsp; CCBL 254.00 ( 236014 ) ( <span class=\\'red\\'> -2 </span>) <img src=http://www.nepalstock.com/./images/decrease.gif width=\\'8\\'  border=\\'0\\' alt=\\'\\' align=\\'middle\\' /> &nbsp;&nbsp; ILBS 1,720.00 ( 24256 ) ( <span class=\\'green\\'> 97 </span>) <img src=http://www.nepalstock.com/./images/increase.gif width=\\'8\\'  border=\\'0\\' alt=\\'\\' align=\\'middle\\' /> &nbsp;&nbsp; PCBL 437.00 ( 45479 ) ( <span class=\\'red\\'> -1 </span>) <img src=http://www.nepalstock.com/./images/decrease.gif width=\\'8\\'  border=\\'0\\' alt=\\'\\' align=\\'middle\\' /> &nbsp;&nbsp; GHL 164.00 ( 10005 ) ( <span class=\\'green\\'> 3 </span>) <img src=http://www.nepalstock.com/./images/increase.gif width=\\'8\\'  border=\\'0\\' alt=\\'\\' align=\\'middle\\' /> &nbsp;&nbsp; SIL 1,268.00 ( 10003 ) ( <span class=\\'green\\'> 3 </span>) <img src=http://www.nepalstock.com/./images/increase.gif width=\\'8\\'  border=\\'0\\' alt=\\'\\' align=\\'middle\\' /> &nbsp;&nbsp; KSBBL 340.00 ( 77933 ) ( <span class=\\'red\\'> -1 </span>) <img src=http://www.nepalstock.com/./images/decrease.gif width=\\'8\\'  border=\\'0\\' alt=\\'\\' align=\\'middle\\' /> &nbsp;&nbsp; HIDCL 423.00 ( 140256 ) ( <span class=\\'red\\'> -2 </span>) <img src=http://www.nepalstock.com/./images/decrease.gif width=\\'8\\'  border=\\'0\\' alt=\\'\\' align=\\'middle\\' /> &nbsp;&nbsp; SSHL 243.00 ( 152262 ) ( <span class=\\'red\\'> -4 </span>) <img src=http://www.nepalstock.com/./images/decrease.gif width=\\'8\\'  border=\\'0\\' alt=\\'\\' align=\\'middle\\' /> &nbsp;&nbsp; MMFDB 1,645.00 ( 22678 ) ( <span class=\\'green\\'> 50 </span>) <img src=http://www.nepalstock.com/./images/increase.gif width=\\'8\\'  border=\\'0\\' alt=\\'\\' align=\\'middle\\' /> &nbsp;&nbsp; CBL 236.00 ( 99169 ) ( <span class=\\'red\\'> -1 </span>) <img src=http://www.nepalstock.com/./images/decrease.gif width=\\'8\\'  border=\\'0\\' alt=\\'\\' align=\\'middle\\' /> &nbsp;&nbsp; RBCLPO 16,099.00 ( 998 ) ( <span class=\\'red\\'> -102 </span>) <img src=http://www.nepalstock.com/./images/decrease.gif width=\\'8\\'  border=\\'0\\' alt=\\'\\' align=\\'middle\\' /> &nbsp;&nbsp; EIC 769.00 ( 35665 ) ( <span class=\\'green\\'> 9 </span>) <img src=http://www.nepalstock.com/./images/increase.gif width=\\'8\\'  border=\\'0\\' alt=\\'\\' align=\\'middle\\' /> &nbsp;&nbsp; JSLBB 4,511.00 ( 5314 ) ( <span class=\\'green\\'> 11 </span>) <img src=http://www.nepalstock.com/./images/increase.gif width=\\'8\\'  border=\\'0\\' alt=\\'\\' align=\\'middle\\' /> &nbsp;&nbsp; RLFL 306.00 ( 302508 ) ( <span class=\\'green\\'> 27 </span>) <img src=http://www.nepalstock.com/./images/increase.gif width=\\'8\\'  border=\\'0\\' alt=\\'\\' align=\\'middle\\' /> &nbsp;&nbsp; RHPC 211.00 ( 38810 ) ( <span class=\\'red\\'> -7 </span>) <img src=http://www.nepalstock.com/./images/decrease.gif width=\\'8\\'  border=\\'0\\' alt=\\'\\' align=\\'middle\\' /> &nbsp;&nbsp; UFL 418.00 ( 11462 ) ( <span class=\\'red\\'> -7 </span>) <img src=http://www.nepalstock.com/./images/decrease.gif width=\\'8\\'  border=\\'0\\' alt=\\'\\' align=\\'middle\\' /> &nbsp;&nbsp; GILB 2,444.00 ( 20147 ) ( <span class=\\'green\\'> 214 </span>) <img src=http://www.nepalstock.com/./images/increase.gif width=\\'8\\'  border=\\'0\\' alt=\\'\\' align=\\'middle\\' /> &nbsp;&nbsp; UIC 708.00 ( 34207 ) ( <span class=\\'green\\'> 5 </span>) <img src=http://www.nepalstock.com/./images/increase.gif width=\\'8\\'  border=\\'0\\' alt=\\'\\' align=\\'middle\\' /> &nbsp;&nbsp; NMFBS 3,221.00 ( 4803 ) ( <span class=\\'green\\'> 48 </span>) <img src=http://www.nepalstock.com/./images/increase.gif width=\\'8\\'  border=\\'0\\' alt=\\'\\' align=\\'middle\\' /> &nbsp;&nbsp; SHPC 371.00 ( 112623 ) ( <span class=\\'red\\'> -1 </span>) <img src=http://www.nepalstock.com/./images/decrease.gif width=\\'8\\'  border=\\'0\\' alt=\\'\\' align=\\'middle\\' /> &nbsp;&nbsp; PRIN 959.00 ( 22277 ) ( <span class=\\'green\\'> 5 </span>) <img src=http://www.nepalstock.com/./images/increase.gif width=\\'8\\'  border=\\'0\\' alt=\\'\\' align=\\'middle\\' /> &nbsp;&nbsp; SHL 200.00 ( 16940 ) ( <span class=\\'red\\'> -2 </span>) <img src=http://www.nepalstock.com/./images/decrease.gif width=\\'8\\'  border=\\'0\\' alt=\\'\\' align=\\'middle\\' /> &nbsp;&nbsp; RRHP 378.00 ( 8518 ) ( <span class=\\'red\\'> -5 </span>) <img src=http://www.nepalstock.com/./images/decrease.gif width=\\'8\\'  border=\\'0\\' alt=\\'\\' align=\\'middle\\' /> &nbsp;&nbsp; NBF2 11.42 ( 167000 ) ( <span class=\\'green\\'> 0.04 </span>) <img src=http://www.nepalstock.com/./images/increase.gif width=\\'8\\'  border=\\'0\\' alt=\\'\\' align=\\'middle\\' /> &nbsp;&nbsp; SMFBS 2,600.00 ( 3245 ) ( <span class=\\'green\\'> 10 </span>) <img src=http://www.nepalstock.com/./images/increase.gif width=\\'8\\'  border=\\'0\\' alt=\\'\\' align=\\'middle\\' /> &nbsp;&nbsp; SCB 601.00 ( 27362 ) ( <span class=\\'red\\'> -1 </span>) <img src=http://www.nepalstock.com/./images/decrease.gif width=\\'8\\'  border=\\'0\\' alt=\\'\\' align=\\'middle\\' /> &nbsp;&nbsp; SMFDB 1,560.00 ( 7251 ) ( <span class=\\'green\\'> 33 </span>) <img src=http://www.nepalstock.com/./images/increase.gif width=\\'8\\'  border=\\'0\\' alt=\\'\\' align=\\'middle\\' /> &nbsp;&nbsp; NUBL 1,818.00 ( 25066 ) ( <span class=\\'red\\'> -4 </span>) <img src=http://www.nepalstock.com/./images/decrease.gif width=\\'8\\'  border=\\'0\\' alt=\\'\\' align=\\'middle\\' /> &nbsp;&nbsp; CHL 223.00 ( 16538 ) ( <span class=\\'red\\'> -5 </span>) <img src=http://www.nepalstock.com/./images/decrease.gif width=\\'8\\'  border=\\'0\\' alt=\\'\\' align=\\'middle\\' /> &nbsp;&nbsp; RMDC 1,224.00 ( 24794 ) ( <span class=\\'green\\'> 4 </span>) <img src=http://www.nepalstock.com/./images/increase.gif width=\\'8\\'  border=\\'0\\' alt=\\'\\' align=\\'middle\\' /> &nbsp;&nbsp; ALICL 1,279.00 ( 23172 ) ( <span class=\\'red\\'> -2 </span>) <img src=http://www.nepalstock.com/./images/decrease.gif width=\\'8\\'  border=\\'0\\' alt=\\'\\' align=\\'middle\\' /> &nbsp;&nbsp; LEC 304.00 ( 26939 ) ( <span class=\\'green\\'> 2 </span>) <img src=http://www.nepalstock.com/./images/increase.gif width=\\'8\\'  border=\\'0\\' alt=\\'\\' align=\\'middle\\' /> &nbsp;&nbsp; HPPL 402.00 ( 17168 ) ( <span class=\\'red\\'> -1 </span>) <img src=http://www.nepalstock.com/./images/decrease.gif width=\\'8\\'  border=\\'0\\' alt=\\'\\' align=\\'middle\\' /> &nbsp;&nbsp; MHNL 258.00 ( 12631 ) ( <span class=\\'red\\'> -1 </span>) <img src=http://www.nepalstock.com/./images/decrease.gif width=\\'8\\'  border=\\'0\\' alt=\\'\\' align=\\'middle\\' /> &nbsp;&nbsp; LICN 2,358.00 ( 5275 ) ( <span class=\\'green\\'> 10 </span>) <img src=http://www.nepalstock.com/./images/increase.gif width=\\'8\\'  border=\\'0\\' alt=\\'\\' align=\\'middle\\' /> &nbsp;&nbsp; GMFIL 238.00 ( 38055 ) ( <span class=\\'green\\'> 11 </span>) <img src=http://www.nepalstock.com/./images/increase.gif width=\\'8\\'  border=\\'0\\' alt=\\'\\' align=\\'middle\\' /> &nbsp;&nbsp; SIFC 272.00 ( 180661 ) ( <span class=\\'green\\'> 21 </span>) <img src=http://www.nepalstock.com/./images/increase.gif width=\\'8\\'  border=\\'0\\' alt=\\'\\' align=\\'middle\\' /> &nbsp;&nbsp; NHDL 317.00 ( 1740 ) ( <span class=\\'green\\'> 3 </span>) <img src=http://www.nepalstock.com/./images/increase.gif width=\\'8\\'  border=\\'0\\' alt=\\'\\' align=\\'middle\\' /> &nbsp;&nbsp; NLBBL 1,675.00 ( 18177 ) ( <span class=\\'green\\'> 17 </span>) <img src=http://www.nepalstock.com/./images/increase.gif width=\\'8\\'  border=\\'0\\' alt=\\'\\' align=\\'middle\\' /> &nbsp;&nbsp; NGPL 251.00 ( 22444 ) ( <span class=\\'red\\'> -1 </span>) <img src=http://www.nepalstock.com/./images/decrease.gif width=\\'8\\'  border=\\'0\\' alt=\\'\\' align=\\'middle\\' /> &nbsp;&nbsp; KPCL 285.00 ( 7826 ) ( <span class=\\'red\\'> -4 </span>) <img src=http://www.nepalstock.com/./images/decrease.gif width=\\'8\\'  border=\\'0\\' alt=\\'\\' align=\\'middle\\' /> &nbsp;&nbsp; HURJA 333.00 ( 8645 ) ( <span class=\\'red\\'> -4 </span>) <img src=http://www.nepalstock.com/./images/decrease.gif width=\\'8\\'  border=\\'0\\' alt=\\'\\' align=\\'middle\\' /> &nbsp;&nbsp; LUK 10.20 ( 12000 ) ( <span class=\\'green\\'> 0.05 </span>) <img src=http://www.nepalstock.com/./images/increase.gif width=\\'8\\'  border=\\'0\\' alt=\\'\\' align=\\'middle\\' /> &nbsp;&nbsp; NABBC 595.00 ( 2265 ) ( <span class=\\'green\\'> 9 </span>) <img src=http://www.nepalstock.com/./images/increase.gif width=\\'8\\'  border=\\'0\\' alt=\\'\\' align=\\'middle\\' /> &nbsp;&nbsp; GFCL 273.00 ( 21380 ) ( <span class=\\'green\\'> 10 </span>) <img src=http://www.nepalstock.com/./images/increase.gif width=\\'8\\'  border=\\'0\\' alt=\\'\\' align=\\'middle\\' /> &nbsp;&nbsp; MEN 732.00 ( 10213 ) ( <span class=\\'green\\'> 5 </span>) <img src=http://www.nepalstock.com/./images/increase.gif width=\\'8\\'  border=\\'0\\' alt=\\'\\' align=\\'middle\\' /> &nbsp;&nbsp; KKHC 134.00 ( 14309 ) ( <span class=\\'red\\'> -4 </span>) <img src=http://www.nepalstock.com/./images/decrease.gif width=\\'8\\'  border=\\'0\\' alt=\\'\\' align=\\'middle\\' /> &nbsp;&nbsp; AKJCL 155.00 ( 9744 ) ( <span class=\\'red\\'> -2 </span>) <img src=http://www.nepalstock.com/./images/decrease.gif width=\\'8\\'  border=\\'0\\' alt=\\'\\' align=\\'middle\\' /> &nbsp;&nbsp; OHL 475.00 ( 1571 ) ( <span class=\\'red\\'> -2 </span>) <img src=http://www.nepalstock.com/./images/decrease.gif width=\\'8\\'  border=\\'0\\' alt=\\'\\' align=\\'middle\\' /> &nbsp;&nbsp; NIBSF1 13.12 ( 84018 ) ( <span class=\\'green\\'> 0.07 </span>) <img src=http://www.nepalstock.com/./images/increase.gif width=\\'8\\'  border=\\'0\\' alt=\\'\\' align=\\'middle\\' /> &nbsp;&nbsp; MPFL 236.00 ( 69740 ) ( <span class=\\'green\\'> 21 </span>) <img src=http://www.nepalstock.com/./images/increase.gif width=\\'8\\'  border=\\'0\\' alt=\\'\\' align=\\'middle\\' /> &nbsp;&nbsp; NICBF 11.63 ( 33425 ) ( <span class=\\'red\\'> -0.11 </span>) <img src=http://www.nepalstock.com/./images/decrease.gif width=\\'8\\'  border=\\'0\\' alt=\\'\\' align=\\'middle\\' /> &nbsp;&nbsp; NICAP 495.00 ( 15000 ) ( <span class=\\'\\'> 0 </span>) <img src=http://www.nepalstock.com/./images/nil.gif width=\\'8\\'  border=\\'0\\' alt=\\'\\' align=\\'middle\\' /> &nbsp;&nbsp; GRDBL 179.00 ( 15066 ) ( <span class=\\'red\\'> -3 </span>) <img src=http://www.nepalstock.com/./images/decrease.gif width=\\'8\\'  border=\\'0\\' alt=\\'\\' align=\\'middle\\' /> &nbsp;&nbsp; HBLD83 1,050.00 ( 25 ) ( <span class=\\'\\'> 0 </span>) <img src=http://www.nepalstock.com/./images/nil.gif width=\\'8\\'  border=\\'0\\' alt=\\'\\' align=\\'middle\\' /> &nbsp;&nbsp; MDB 348.00 ( 5396 ) ( <span class=\\'green\\'> 6 </span>) <img src=http://www.nepalstock.com/./images/increase.gif width=\\'8\\'  border=\\'0\\' alt=\\'\\' align=\\'middle\\' /> &nbsp;&nbsp; KLBSL 1,763.00 ( 2217 ) ( <span class=\\'green\\'> 4 </span>) <img src=http://www.nepalstock.com/./images/increase.gif width=\\'8\\'  border=\\'0\\' alt=\\'\\' align=\\'middle\\' /> &nbsp;&nbsp; NFS 313.00 ( 26091 ) ( <span class=\\'green\\'> 4 </span>) <img src=http://www.nepalstock.com/./images/increase.gif width=\\'8\\'  border=\\'0\\' alt=\\'\\' align=\\'middle\\' /> &nbsp;&nbsp; JLI 426.00 ( 220 ) ( <span class=\\'green\\'> 38 </span>) <img src=http://www.nepalstock.com/./images/increase.gif width=\\'8\\'  border=\\'0\\' alt=\\'\\' align=\\'middle\\' /> &nbsp;&nbsp; SBIBD86 1,050.00 ( 75 ) ( <span class=\\'red\\'> -5 </span>) <img src=http://www.nepalstock.com/./images/decrease.gif width=\\'8\\'  border=\\'0\\' alt=\\'\\' align=\\'middle\\' /> &nbsp;&nbsp; NMB50 12.55 ( 228300 ) ( <span class=\\'green\\'> 0.03 </span>) <img src=http://www.nepalstock.com/./images/increase.gif width=\\'8\\'  border=\\'0\\' alt=\\'\\' align=\\'middle\\' /> &nbsp;&nbsp; SNLB 1,639.00 ( 5750 ) ( <span class=\\'green\\'> 43 </span>) <img src=http://www.nepalstock.com/./images/increase.gif width=\\'8\\'  border=\\'0\\' alt=\\'\\' align=\\'middle\\' /> &nbsp;&nbsp; BNT 9,300.00 ( 362 ) ( <span class=\\'\\'> 0 </span>) <img src=http://www.nepalstock.com/./images/nil.gif width=\\'8\\'  border=\\'0\\' alt=\\'\\' align=\\'middle\\' /> &nbsp;&nbsp; EICPO 393.00 ( 2066 ) ( <span class=\\'red\\'> -7 </span>) <img src=http://www.nepalstock.com/./images/decrease.gif width=\\'8\\'  border=\\'0\\' alt=\\'\\' align=\\'middle\\' /> &nbsp;&nbsp; CORBL 648.00 ( 2030 ) ( <span class=\\'green\\'> 3 </span>) <img src=http://www.nepalstock.com/./images/increase.gif width=\\'8\\'  border=\\'0\\' alt=\\'\\' align=\\'middle\\' /> &nbsp;&nbsp; SEF 12.15 ( 48498 ) ( <span class=\\'\\'> 0 </span>) <img src=http://www.nepalstock.com/./images/nil.gif width=\\'8\\'  border=\\'0\\' alt=\\'\\' align=\\'middle\\' /> &nbsp;&nbsp; SLBS 1,956.00 ( 1317 ) ( <span class=\\'red\\'> -9 </span>) <img src=http://www.nepalstock.com/./images/decrease.gif width=\\'8\\'  border=\\'0\\' alt=\\'\\' align=\\'middle\\' /> &nbsp;&nbsp; CMF2 11.00 ( 28850 ) ( <span class=\\'red\\'> -0.02 </span>) <img src=http://www.nepalstock.com/./images/decrease.gif width=\\'8\\'  border=\\'0\\' alt=\\'\\' align=\\'middle\\' /> &nbsp;&nbsp; RBCL 18,050.00 ( 885 ) ( <span class=\\'red\\'> -450 </span>) <img src=http://www.nepalstock.com/./images/decrease.gif width=\\'8\\'  border=\\'0\\' alt=\\'\\' align=\\'middle\\' /> &nbsp;&nbsp; SIGS2 12.18 ( 280850 ) ( <span class=\\'red\\'> -0.17 </span>) <img src=http://www.nepalstock.com/./images/decrease.gif width=\\'8\\'  border=\\'0\\' alt=\\'\\' align=\\'middle\\' /> &nbsp;&nbsp; SMB 2,287.00 ( 1268 ) ( <span class=\\'red\\'> -13 </span>) <img src=http://www.nepalstock.com/./images/decrease.gif width=\\'8\\'  border=\\'0\\' alt=\\'\\' align=\\'middle\\' /> &nbsp;&nbsp; GIMES1 15.74 ( 56000 ) ( <span class=\\'red\\'> -0.06 </span>) <img src=http://www.nepalstock.com/./images/decrease.gif width=\\'8\\'  border=\\'0\\' alt=\\'\\' align=\\'middle\\' /> &nbsp;&nbsp; NICGF 12.16 ( 172300 ) ( <span class=\\'red\\'> -0.45 </span>) <img src=http://www.nepalstock.com/./images/decrease.gif width=\\'8\\'  border=\\'0\\' alt=\\'\\' align=\\'middle\\' /> &nbsp;&nbsp; NMBHF1 11.65 ( 21259 ) ( <span class=\\'green\\'> 0.13 </span>) <img src=http://www.nepalstock.com/./images/increase.gif width=\\'8\\'  border=\\'0\\' alt=\\'\\' align=\\'middle\\' /> &nbsp;&nbsp; SLCF 9.95 ( 5895 ) ( <span class=\\'\\'> 0 </span>) <img src=http://www.nepalstock.com/./images/nil.gif width=\\'8\\'  border=\\'0\\' alt=\\'\\' align=\\'middle\\' /> &nbsp;&nbsp; LEMF 11.05 ( 20099 ) ( <span class=\\'red\\'> -0.03 </span>) <img src=http://www.nepalstock.com/./images/decrease.gif width=\\'8\\'  border=\\'0\\' alt=\\'\\' align=\\'middle\\' /> &nbsp;&nbsp; NIBPO 402.00 ( 8557 ) ( <span class=\\'red\\'> -1 </span>) <img src=http://www.nepalstock.com/./images/decrease.gif width=\\'8\\'  border=\\'0\\' alt=\\'\\' align=\\'middle\\' /> &nbsp;&nbsp; SFMF 12.80 ( 76300 ) ( <span class=\\'red\\'> -0.19 </span>) <img src=http://www.nepalstock.com/./images/decrease.gif width=\\'8\\'  border=\\'0\\' alt=\\'\\' align=\\'middle\\' /> &nbsp;&nbsp; NEF 12.22 ( 103746 ) ( <span class=\\'red\\'> -0.09 </span>) <img src=http://www.nepalstock.com/./images/decrease.gif width=\\'8\\'  border=\\'0\\' alt=\\'\\' align=\\'middle\\' /> &nbsp;&nbsp; NIBLPF 12.40 ( 94878 ) ( <span class=\\'red\\'> -0.05 </span>) <img src=http://www.nepalstock.com/./images/decrease.gif width=\\'8\\'  border=\\'0\\' alt=\\'\\' align=\\'middle\\' /> &nbsp;&nbsp; NICLBSL 1,405.00 ( 721 ) ( <span class=\\'green\\'> 127 </span>) <img src=http://www.nepalstock.com/./images/increase.gif width=\\'8\\'  border=\\'0\\' alt=\\'\\' align=\\'middle\\' /> &nbsp;&nbsp; SAEF 14.13 ( 34720 ) ( <span class=\\'green\\'> 0.02 </span>) <img src=http://www.nepalstock.com/./images/increase.gif width=\\'8\\'  border=\\'0\\' alt=\\'\\' align=\\'middle\\' /> &nbsp;&nbsp; SAND2085 1,045.00 ( 75 ) ( <span class=\\'red\\'> -5 </span>) <img src=http://www.nepalstock.com/./images/decrease.gif width=\\'8\\'  border=\\'0\\' alt=\\'\\' align=\\'middle\\' /> &nbsp;&nbsp; NICAD8283 1,128.00 ( 50 ) ( <span class=\\'\\'> 0 </span>) <img src=http://www.nepalstock.com/./images/nil.gif width=\\'8\\'  border=\\'0\\' alt=\\'\\' align=\\'middle\\' /> &nbsp;&nbsp; GBD80/81 1,050.00 ( 400 ) ( <span class=\\'red\\'> -6 </span>) <img src=http://www.nepalstock.com/./images/decrease.gif width=\\'8\\'  border=\\'0\\' alt=\\'\\' align=\\'middle\\' /> &nbsp;&nbsp; PBLD84 1,046.00 ( 25 ) ( <span class=\\'red\\'> -5 </span>) <img src=http://www.nepalstock.com/./images/decrease.gif width=\\'8\\'  border=\\'0\\' alt=\\'\\' align=\\'middle\\' /> &nbsp;&nbsp;  </b></marquee>\\n            </div>        </div>\\r\\n        <!-- End Ticker -->\\r\\n        \\r\\n        <div class=\"container\" id=\"home-contents\" style=\"width:81.5%\">\\r\\n<script type=\"text/javascript\">\\r\\n    $(\\'#search_symbol\\').on(\\'click\\', function(e){\\r\\n        if($(\\'#stock_symbol\\').val() == \\'\\') {\\r\\n            e.preventDefault();\\r\\n        }\\r\\n    });\\r\\n\\r\\n    $(\\'#StockSymbol_Select\\').on(\\'change\\', function(e){\\r\\n        var stockid = $(\\'#StockSymbol_Select\\').val();\\r\\n        window.open(\\'http://www.nepalstock.com/company/display/\\'+stockid, \"_self\");\\r\\n    });\\r\\n</script>\\r\\n\\n<table class=\"table my-table\">\\n    <tr align=\"right\">\\n        <td colspan=\"8\">\\n            <form method=\"POST\" name=\"news_info-filter\" id=\"news_info-filter\" action=\"http://www.nepalstock.com/floorsheet\" >\\n                <label>Contract No.&nbsp; <input type=\"text\" name=\"contract-no\" id=\"contract-no\" value=\"\" /> |</label>\\n                <label> \\n                    <select name=\"stock-symbol\" class=\"stock-symbol\" id=\"stock-symbol\">\\n                        <option value=\"\">Stock Symbol</option>\\n                        <option  value=\\'ACLBSL\\'>ACLBSL</option><option  value=\\'ADBL\\'>ADBL</option><option  value=\\'AHPC\\'>AHPC</option><option  value=\\'AIL\\'>AIL</option><option  value=\\'AKBSL\\'>AKBSL</option><option  value=\\'AKBSLP\\'>AKBSLP</option><option  value=\\'AKJCL\\'>AKJCL</option><option  value=\\'AKPL\\'>AKPL</option><option  value=\\'ALBSL\\'>ALBSL</option><option  value=\\'ALICL\\'>ALICL</option><option  value=\\'ALICLP\\'>ALICLP</option><option  value=\\'AMFI\\'>AMFI</option><option  value=\\'AMFIPO\\'>AMFIPO</option><option  value=\\'API\\'>API</option><option  value=\\'AVU\\'>AVU</option><option  value=\\'BARUN\\'>BARUN</option><option  value=\\'BBC\\'>BBC</option><option  value=\\'BFC\\'>BFC</option><option  value=\\'BFCPO\\'>BFCPO</option><option  value=\\'BFLPO\\'>BFLPO</option><option  value=\\'BHBL\\'>BHBL</option><option  value=\\'BHBLPO\\'>BHBLPO</option><option  value=\\'BNL\\'>BNL</option><option  value=\\'BNT\\'>BNT</option><option  value=\\'BOKD2079\\'>BOKD2079</option><option  value=\\'BOKL\\'>BOKL</option><option  value=\\'BOKLPO\\'>BOKLPO</option><option  value=\\'BPCL\\'>BPCL</option><option  value=\\'BSBLPO\\'>BSBLPO</option><option  value=\\'BSL\\'>BSL</option><option  value=\\'BSM\\'>BSM</option><option  value=\\'CBBL\\'>CBBL</option><option  value=\\'CBBLPO\\'>CBBLPO</option><option  value=\\'CBL\\'>CBL</option><option  value=\\'CBLPO\\'>CBLPO</option><option  value=\\'CCBL\\'>CCBL</option><option  value=\\'CCBLPO\\'>CCBLPO</option><option  value=\\'CEFL\\'>CEFL</option><option  value=\\'CEFLPO\\'>CEFLPO</option><option  value=\\'CFCL\\'>CFCL</option><option  value=\\'CFCLPO\\'>CFCLPO</option><option  value=\\'CFL\\'>CFL</option><option  value=\\'CGH\\'>CGH</option><option  value=\\'CHCL\\'>CHCL</option><option  value=\\'CHL\\'>CHL</option><option  value=\\'CIT\\'>CIT</option><option  value=\\'CIZBD86\\'>CIZBD86</option><option  value=\\'CLBSL\\'>CLBSL</option><option  value=\\'CMB\\'>CMB</option><option  value=\\'CMBFLP\\'>CMBFLP</option><option  value=\\'CMF1\\'>CMF1</option><option  value=\\'CMF2\\'>CMF2</option><option  value=\\'CORBL\\'>CORBL</option><option  value=\\'CORBLP\\'>CORBLP</option><option  value=\\'CZBIL\\'>CZBIL</option><option  value=\\'CZBILP\\'>CZBILP</option><option  value=\\'DBBL\\'>DBBL</option><option  value=\\'DBBLPO\\'>DBBLPO</option><option  value=\\'DDBL\\'>DDBL</option><option  value=\\'DDBLPO\\'>DDBLPO</option><option  value=\\'DHPL\\'>DHPL</option><option  value=\\'EBL\\'>EBL</option><option  value=\\'EBLCP\\'>EBLCP</option><option  value=\\'EBLD2078\\'>EBLD2078</option><option  value=\\'EBLPO\\'>EBLPO</option><option  value=\\'EDBL\\'>EDBL</option><option  value=\\'EDBLPO\\'>EDBLPO</option><option  value=\\'EIC\\'>EIC</option><option  value=\\'EICPO\\'>EICPO</option><option  value=\\'FBBLPO\\'>FBBLPO</option><option  value=\\'FHL\\'>FHL</option><option  value=\\'FMDBL\\'>FMDBL</option><option  value=\\'FMDBLP\\'>FMDBLP</option><option  value=\\'FOWAD\\'>FOWAD</option><option  value=\\'FOWADP\\'>FOWADP</option><option  value=\\'GBBL\\'>GBBL</option><option  value=\\'GBBLPO\\'>GBBLPO</option><option  value=\\'GBD80/81\\'>GBD80/81</option><option  value=\\'GBIME\\'>GBIME</option><option  value=\\'GBIMEP\\'>GBIMEP</option><option  value=\\'GBLBS\\'>GBLBS</option><option  value=\\'GBLBSP\\'>GBLBSP</option><option  value=\\'GDBL\\'>GDBL</option><option  value=\\'GDBLPO\\'>GDBLPO</option><option  value=\\'GFCL\\'>GFCL</option><option  value=\\'GFCLPO\\'>GFCLPO</option><option  value=\\'GGBSL\\'>GGBSL</option><option  value=\\'GHL\\'>GHL</option><option  value=\\'GIC\\'>GIC</option><option  value=\\'GILB\\'>GILB</option><option  value=\\'GILBPO\\'>GILBPO</option><option  value=\\'GIMES1\\'>GIMES1</option><option  value=\\'GLBSL\\'>GLBSL</option><option  value=\\'GLH\\'>GLH</option><option  value=\\'GLICL\\'>GLICL</option><option  value=\\'GLICLP\\'>GLICLP</option><option  value=\\'GMFBS\\'>GMFBS</option><option  value=\\'GMFIL\\'>GMFIL</option><option  value=\\'GMFILP\\'>GMFILP</option><option  value=\\'GRDBL\\'>GRDBL</option><option  value=\\'GRDBLP\\'>GRDBLP</option><option  value=\\'GRU\\'>GRU</option><option  value=\\'GUFL\\'>GUFL</option><option  value=\\'GUFLPO\\'>GUFLPO</option><option  value=\\'HAMRO\\'>HAMRO</option><option  value=\\'HAMROP\\'>HAMROP</option><option  value=\\'HATH\\'>HATH</option><option  value=\\'HATHPO\\'>HATHPO</option><option  value=\\'HBL\\'>HBL</option><option  value=\\'HBLD83\\'>HBLD83</option><option  value=\\'HBLPO\\'>HBLPO</option><option  value=\\'HBT\\'>HBT</option><option  value=\\'HDHPC\\'>HDHPC</option><option  value=\\'HDL\\'>HDL</option><option  value=\\'HFL\\'>HFL</option><option  value=\\'HGI\\'>HGI</option><option  value=\\'HGIPO\\'>HGIPO</option><option  value=\\'HIDCL\\'>HIDCL</option><option  value=\\'HPPL\\'>HPPL</option><option  value=\\'HURJA\\'>HURJA</option><option  value=\\'ICFC\\'>ICFC</option><option  value=\\'ICFCD83\\'>ICFCD83</option><option  value=\\'ICFCPO\\'>ICFCPO</option><option  value=\\'IGI\\'>IGI</option><option  value=\\'IGIPO\\'>IGIPO</option><option  value=\\'ILBS\\'>ILBS</option><option  value=\\'ILFCMP\\'>ILFCMP</option><option  value=\\'JBBL\\'>JBBL</option><option  value=\\'JBBLPO\\'>JBBLPO</option><option  value=\\'JBNL\\'>JBNL</option><option  value=\\'JBNLPO\\'>JBNLPO</option><option  value=\\'JEFL\\'>JEFL</option><option  value=\\'JEFLPO\\'>JEFLPO</option><option  value=\\'JFL\\'>JFL</option><option  value=\\'JFLPO\\'>JFLPO</option><option  value=\\'JLI\\'>JLI</option><option  value=\\'JOSHI\\'>JOSHI</option><option  value=\\'JSLBB\\'>JSLBB</option><option  value=\\'JSLBBP\\'>JSLBBP</option><option  value=\\'JSM\\'>JSM</option><option  value=\\'KADBL\\'>KADBL</option><option  value=\\'KADBLP\\'>KADBLP</option><option  value=\\'KBL\\'>KBL</option><option  value=\\'KBLD86\\'>KBLD86</option><option  value=\\'KBLPO\\'>KBLPO</option><option  value=\\'KEBL\\'>KEBL</option><option  value=\\'KEBLPO\\'>KEBLPO</option><option  value=\\'KKHC\\'>KKHC</option><option  value=\\'KLBSL\\'>KLBSL</option><option  value=\\'KLBSLP\\'>KLBSLP</option><option  value=\\'KMCDB\\'>KMCDB</option><option  value=\\'KMCDBP\\'>KMCDBP</option><option  value=\\'KNBL\\'>KNBL</option><option  value=\\'KNBLPO\\'>KNBLPO</option><option  value=\\'KPCL\\'>KPCL</option><option  value=\\'KRBL\\'>KRBL</option><option  value=\\'KRBLPO\\'>KRBLPO</option><option  value=\\'KSBBL\\'>KSBBL</option><option  value=\\'KSBBLP\\'>KSBBLP</option><option  value=\\'LBBL\\'>LBBL</option><option  value=\\'LBBLPO\\'>LBBLPO</option><option  value=\\'LBL\\'>LBL</option><option  value=\\'LBLD86\\'>LBLD86</option><option  value=\\'LBLPO\\'>LBLPO</option><option  value=\\'LEC\\'>LEC</option><option  value=\\'LEMF\\'>LEMF</option><option  value=\\'LFC\\'>LFC</option><option  value=\\'LFCPO\\'>LFCPO</option><option  value=\\'LGIL\\'>LGIL</option><option  value=\\'LGILPO\\'>LGILPO</option><option  value=\\'LICN\\'>LICN</option><option  value=\\'LICNPO\\'>LICNPO</option><option  value=\\'LLBS\\'>LLBS</option><option  value=\\'LLBSPO\\'>LLBSPO</option><option  value=\\'LUK\\'>LUK</option><option  value=\\'MBL\\'>MBL</option><option  value=\\'MBLD2085\\'>MBLD2085</option><option  value=\\'MBLPO\\'>MBLPO</option><option  value=\\'MDB\\'>MDB</option><option  value=\\'MDBLPO\\'>MDBLPO</option><option  value=\\'MDBPO\\'>MDBPO</option><option  value=\\'MEGA\\'>MEGA</option><option  value=\\'MEGAPO\\'>MEGAPO</option><option  value=\\'MEN\\'>MEN</option><option  value=\\'MERO\\'>MERO</option><option  value=\\'MEROPO\\'>MEROPO</option><option  value=\\'MFIL\\'>MFIL</option><option  value=\\'MFILPO\\'>MFILPO</option><option  value=\\'MHNL\\'>MHNL</option><option  value=\\'MLBBL\\'>MLBBL</option><option  value=\\'MLBBLP\\'>MLBBLP</option><option  value=\\'MLBL\\'>MLBL</option><option  value=\\'MLBLPO\\'>MLBLPO</option><option  value=\\'MLBSL\\'>MLBSL</option><option  value=\\'MMFDB\\'>MMFDB</option><option  value=\\'MMFDBP\\'>MMFDBP</option><option  value=\\'MNBBL\\'>MNBBL</option><option  value=\\'MNBBLP\\'>MNBBLP</option><option  value=\\'MPFL\\'>MPFL</option><option  value=\\'MPFLPO\\'>MPFLPO</option><option  value=\\'MSLB\\'>MSLB</option><option  value=\\'MSLBP\\'>MSLBP</option><option  value=\\'MSMBS\\'>MSMBS</option><option  value=\\'MSMBSP\\'>MSMBSP</option><option  value=\\'NABBC\\'>NABBC</option><option  value=\\'NABIL\\'>NABIL</option><option  value=\\'NABILP\\'>NABILP</option><option  value=\\'NADEP\\'>NADEP</option><option  value=\\'NADEPP\\'>NADEPP</option><option  value=\\'NAGRO\\'>NAGRO</option><option  value=\\'NBB\\'>NBB</option><option  value=\\'NBBD2085\\'>NBBD2085</option><option  value=\\'NBBL\\'>NBBL</option><option  value=\\'NBBLPO\\'>NBBLPO</option><option  value=\\'NBBPO\\'>NBBPO</option><option  value=\\'NBBU\\'>NBBU</option><option  value=\\'NBF2\\'>NBF2</option><option  value=\\'NBL\\'>NBL</option><option  value=\\'NBLD82\\'>NBLD82</option><option  value=\\'NCCB\\'>NCCB</option><option  value=\\'NCCBPO\\'>NCCBPO</option><option  value=\\'NCDB\\'>NCDB</option><option  value=\\'NCDBPO\\'>NCDBPO</option><option  value=\\'NEF\\'>NEF</option><option  value=\\'NFD\\'>NFD</option><option  value=\\'NFS\\'>NFS</option><option  value=\\'NFSPO\\'>NFSPO</option><option  value=\\'NGPL\\'>NGPL</option><option  value=\\'NHDL\\'>NHDL</option><option  value=\\'NHPC\\'>NHPC</option><option  value=\\'NIB\\'>NIB</option><option  value=\\'NIBD2082\\'>NIBD2082</option><option  value=\\'NIBLPF\\'>NIBLPF</option><option  value=\\'NIBPO\\'>NIBPO</option><option  value=\\'NIBSF1\\'>NIBSF1</option><option  value=\\'NICA\\'>NICA</option><option  value=\\'NICAD 85/86\\'>NICAD 85/86</option><option  value=\\'NICAD8182\\'>NICAD8182</option><option  value=\\'NICAD8283\\'>NICAD8283</option><option  value=\\'NICAP\\'>NICAP</option><option  value=\\'NICBF\\'>NICBF</option><option  value=\\'NICD83/84\\'>NICD83/84</option><option  value=\\'NICGF\\'>NICGF</option><option  value=\\'NICL\\'>NICL</option><option  value=\\'NICLBSL\\'>NICLBSL</option><option  value=\\'NICLPO\\'>NICLPO</option><option  value=\\'NIDC\\'>NIDC</option><option  value=\\'NIDCPO\\'>NIDCPO</option><option  value=\\'NIFRA\\'>NIFRA</option><option  value=\\'NIL\\'>NIL</option><option  value=\\'NILPO\\'>NILPO</option><option  value=\\'NKU\\'>NKU</option><option  value=\\'NLBBL\\'>NLBBL</option><option  value=\\'NLBBLP\\'>NLBBLP</option><option  value=\\'NLG\\'>NLG</option><option  value=\\'NLGPO\\'>NLGPO</option><option  value=\\'NLIC\\'>NLIC</option><option  value=\\'NLICL\\'>NLICL</option><option  value=\\'NLICLP\\'>NLICLP</option><option  value=\\'NLICP\\'>NLICP</option><option  value=\\'NLO\\'>NLO</option><option  value=\\'NMB\\'>NMB</option><option  value=\\'NMB50\\'>NMB50</option><option  value=\\'NMBD2085\\'>NMBD2085</option><option  value=\\'NMBHF1\\'>NMBHF1</option><option  value=\\'NMBMF\\'>NMBMF</option><option  value=\\'NMBMFP\\'>NMBMFP</option><option  value=\\'NMBPO\\'>NMBPO</option><option  value=\\'NMFBS\\'>NMFBS</option><option  value=\\'NMFBSP\\'>NMFBSP</option><option  value=\\'NRIC\\'>NRIC</option><option  value=\\'NRN\\'>NRN</option><option  value=\\'NSEWA\\'>NSEWA</option><option  value=\\'NSEWAP\\'>NSEWAP</option><option  value=\\'NSM\\'>NSM</option><option  value=\\'NSMPO\\'>NSMPO</option><option  value=\\'NTC\\'>NTC</option><option  value=\\'NTL\\'>NTL</option><option  value=\\'NUBL\\'>NUBL</option><option  value=\\'NUBLPO\\'>NUBLPO</option><option  value=\\'NVG\\'>NVG</option><option  value=\\'NWC\\'>NWC</option><option  value=\\'ODBL\\'>ODBL</option><option  value=\\'ODBLPO\\'>ODBLPO</option><option  value=\\'OHL\\'>OHL</option><option  value=\\'PBLD84\\'>PBLD84</option><option  value=\\'PBLD86\\'>PBLD86</option><option  value=\\'PCBL\\'>PCBL</option><option  value=\\'PCBLP\\'>PCBLP</option><option  value=\\'PDBLPO\\'>PDBLPO</option><option  value=\\'PFL\\'>PFL</option><option  value=\\'PFLPO\\'>PFLPO</option><option  value=\\'PIC\\'>PIC</option><option  value=\\'PICL\\'>PICL</option><option  value=\\'PICLPO\\'>PICLPO</option><option  value=\\'PICPO\\'>PICPO</option><option  value=\\'PLI\\'>PLI</option><option  value=\\'PLIC\\'>PLIC</option><option  value=\\'PLICPO\\'>PLICPO</option><option  value=\\'PMHPL\\'>PMHPL</option><option  value=\\'PPCL\\'>PPCL</option><option  value=\\'PRFLPO\\'>PRFLPO</option><option  value=\\'PRIN\\'>PRIN</option><option  value=\\'PRINPO\\'>PRINPO</option><option  value=\\'PROFL\\'>PROFL</option><option  value=\\'PROFLP\\'>PROFLP</option><option  value=\\'PRVU\\'>PRVU</option><option  value=\\'PRVUPO\\'>PRVUPO</option><option  value=\\'PSDBLP\\'>PSDBLP</option><option  value=\\'PURBL\\'>PURBL</option><option  value=\\'PURBLP\\'>PURBLP</option><option  value=\\'RADHI\\'>RADHI</option><option  value=\\'RBCL\\'>RBCL</option><option  value=\\'RBCLPO\\'>RBCLPO</option><option  value=\\'RHPC\\'>RHPC</option><option  value=\\'RHPL\\'>RHPL</option><option  value=\\'RJM\\'>RJM</option><option  value=\\'RLFL\\'>RLFL</option><option  value=\\'RLFLPO\\'>RLFLPO</option><option  value=\\'RLI\\'>RLI</option><option  value=\\'RMBFPO\\'>RMBFPO</option><option  value=\\'RMDC\\'>RMDC</option><option  value=\\'RMDCPO\\'>RMDCPO</option><option  value=\\'RRHP\\'>RRHP</option><option  value=\\'RSDC\\'>RSDC</option><option  value=\\'RSDCP\\'>RSDCP</option><option  value=\\'SABSL\\'>SABSL</option><option  value=\\'SADBL\\'>SADBL</option><option  value=\\'SADBLP\\'>SADBLP</option><option  value=\\'SAEF\\'>SAEF</option><option  value=\\'SAND2085\\'>SAND2085</option><option  value=\\'SANIMA\\'>SANIMA</option><option  value=\\'SAPDBL\\'>SAPDBL</option><option  value=\\'SAPDBLP\\'>SAPDBLP</option><option  value=\\'SBBLJ\\'>SBBLJ</option><option  value=\\'SBBLJP\\'>SBBLJP</option><option  value=\\'SBBLPO\\'>SBBLPO</option><option  value=\\'SBD87\\'>SBD87</option><option  value=\\'SBI\\'>SBI</option><option  value=\\'SBIBD86\\'>SBIBD86</option><option  value=\\'SBIPO\\'>SBIPO</option><option  value=\\'SBL\\'>SBL</option><option  value=\\'SBLD2082\\'>SBLD2082</option><option  value=\\'SBLD83\\'>SBLD83</option><option  value=\\'SBLD84\\'>SBLD84</option><option  value=\\'SBLPO\\'>SBLPO</option><option  value=\\'SBPP\\'>SBPP</option><option  value=\\'SCB\\'>SCB</option><option  value=\\'SCBPO\\'>SCBPO</option><option  value=\\'SDESI\\'>SDESI</option><option  value=\\'SDLBSL\\'>SDLBSL</option><option  value=\\'SEF\\'>SEF</option><option  value=\\'SEOS\\'>SEOS</option><option  value=\\'SFC\\'>SFC</option><option  value=\\'SFCL\\'>SFCL</option><option  value=\\'SFCLP\\'>SFCLP</option><option  value=\\'SFCPO\\'>SFCPO</option><option  value=\\'SFFIL\\'>SFFIL</option><option  value=\\'SFFILP\\'>SFFILP</option><option  value=\\'SFMF\\'>SFMF</option><option  value=\\'SGI\\'>SGI</option><option  value=\\'SHBL\\'>SHBL</option><option  value=\\'SHBLPO\\'>SHBLPO</option><option  value=\\'SHINE\\'>SHINE</option><option  value=\\'SHINEP\\'>SHINEP</option><option  value=\\'SHIVM\\'>SHIVM</option><option  value=\\'SHL\\'>SHL</option><option  value=\\'SHPC\\'>SHPC</option><option  value=\\'SIC\\'>SIC</option><option  value=\\'SICL\\'>SICL</option><option  value=\\'SICLPO\\'>SICLPO</option><option  value=\\'SICPO\\'>SICPO</option><option  value=\\'SIFC\\'>SIFC</option><option  value=\\'SIFCPO\\'>SIFCPO</option><option  value=\\'SIGS2\\'>SIGS2</option><option  value=\\'SIL\\'>SIL</option><option  value=\\'SILPO\\'>SILPO</option><option  value=\\'SINDU\\'>SINDU</option><option  value=\\'SINDUP\\'>SINDUP</option><option  value=\\'SJCL\\'>SJCL</option><option  value=\\'SKBBL\\'>SKBBL</option><option  value=\\'SKBBLP\\'>SKBBLP</option><option  value=\\'SLBBL\\'>SLBBL</option><option  value=\\'SLBBLP\\'>SLBBLP</option><option  value=\\'SLBS\\'>SLBS</option><option  value=\\'SLBSL\\'>SLBSL</option><option  value=\\'SLBSP\\'>SLBSP</option><option  value=\\'SLCF\\'>SLCF</option><option  value=\\'SLICL\\'>SLICL</option><option  value=\\'SLICLP\\'>SLICLP</option><option  value=\\'SMATA\\'>SMATA</option><option  value=\\'SMATAP\\'>SMATAP</option><option  value=\\'SMB\\'>SMB</option><option  value=\\'SMBPO\\'>SMBPO</option><option  value=\\'SMFBS\\'>SMFBS</option><option  value=\\'SMFDB\\'>SMFDB</option><option  value=\\'SMFDBP\\'>SMFDBP</option><option  value=\\'SNLB\\'>SNLB</option><option  value=\\'SNLBP\\'>SNLBP</option><option  value=\\'SPARS\\'>SPARS</option><option  value=\\'SPDL\\'>SPDL</option><option  value=\\'SRBL\\'>SRBL</option><option  value=\\'SRBLD83\\'>SRBLD83</option><option  value=\\'SRBLPO\\'>SRBLPO</option><option  value=\\'SRD80\\'>SRD80</option><option  value=\\'SRS\\'>SRS</option><option  value=\\'SSHL\\'>SSHL</option><option  value=\\'STC\\'>STC</option><option  value=\\'SWBBL\\'>SWBBL</option><option  value=\\'SWBBLP\\'>SWBBLP</option><option  value=\\'SYFL\\'>SYFL</option><option  value=\\'SYFLPO\\'>SYFLPO</option><option  value=\\'TMDBL\\'>TMDBL</option><option  value=\\'TMDBLP\\'>TMDBLP</option><option  value=\\'TRH\\'>TRH</option><option  value=\\'TRHPR\\'>TRHPR</option><option  value=\\'UFL\\'>UFL</option><option  value=\\'UFLPO\\'>UFLPO</option><option  value=\\'UIC\\'>UIC</option><option  value=\\'UICPO\\'>UICPO</option><option  value=\\'UMHL\\'>UMHL</option><option  value=\\'UMRH\\'>UMRH</option><option  value=\\'UNHPL\\'>UNHPL</option><option  value=\\'UNL\\'>UNL</option><option  value=\\'UPCL\\'>UPCL</option><option  value=\\'UPPER\\'>UPPER</option><option  value=\\'USLB\\'>USLB</option><option  value=\\'USLBP\\'>USLBP</option><option  value=\\'VLBS\\'>VLBS</option><option  value=\\'VLBSPO\\'>VLBSPO</option><option  value=\\'WOMI\\'>WOMI</option><option  value=\\'WOMIPO\\'>WOMIPO</option><option  value=\\'YHL\\'>YHL</option>                    </select> |\\n                </label>\\n                <label>Buyer&nbsp; <input type=\"text\" name=\"buyer\" id=\"buyer\" value=\"\" /> |</label>\\n                <label>Seller&nbsp; <input type=\"text\" name=\"seller\" id=\"seller\" value=\"\" /> |</label>\\n                <label>Total Rows\\n                    <select name=\"_limit\">\\n                        <option value=\\'20\\'  >20</option>\\r\\n<option value=\\'50\\'  >50</option>\\r\\n<option value=\\'200\\'  >200</option>\\r\\n<option value=\\'300\\'  >300</option>\\r\\n<option value=\\'500\\'  >500</option>\\r\\n                    </select> |\\n                </label>\\n                <input type=\"submit\" value=\"Filter\" class=\"btn btn-success\"/>\\n                <input type=\"submit\" name=\"filter\" value=\"Reset\" class=\"btn btn-default\"/>\\n            </form>\\n        </td>\\n    </tr>\\n    <tr class=\"unique\">\\n        <td>S.N.</td>\\n        <td><a href=\\'http://www.nepalstock.com/main/floorsheet/index/1/contract-no/asc/\\' class=\\'icon-sorter sorter\\'>Contract No</a></td>\\n        <td><a href=\\'http://www.nepalstock.com/main/floorsheet/index/1/stock-symbol/asc/\\' class=\\'icon-sorter sorter\\'>Stock Symbol</a></td>\\n        <td><a href=\\'http://www.nepalstock.com/main/floorsheet/index/1/buyer/asc/\\' class=\\'icon-sorter sorter\\'>Buyer Broker</a></td>\\n        <td><a href=\\'http://www.nepalstock.com/main/floorsheet/index/1/seller/asc/\\' class=\\'icon-sorter sorter\\'>Seller Broker</a></td>\\n        <td>Quantity</td>\\n        <td>Rate</td>\\n        <td>Amount</td>\\n    </tr>\\n                <tr>\\n                <td>1</td>\\n                <td>2021040804008019</td>\\n                <td data-toggle=\"tooltip\" data-placement=\"left\" title=\"RASUWAGADHI HYDROPOWER COMPANY LIMITED\">RHPL</td>\\n                <td>59</td>\\n                <td>33</td>\\n                <td>108</td>\\n                <td>515</td>\\n                <td>55620.00</td>\\n            </tr>\\n                    <tr>\\n                <td>2</td>\\n                <td>2021040803005369</td>\\n                <td data-toggle=\"tooltip\" data-placement=\"left\" title=\"Reliance Finance Ltd.\">RLFL</td>\\n                <td>57</td>\\n                <td>42</td>\\n                <td>50</td>\\n                <td>305</td>\\n                <td>15250.00</td>\\n            </tr>\\n                    <tr>\\n                <td>3</td>\\n                <td>2021040803005405</td>\\n                <td data-toggle=\"tooltip\" data-placement=\"left\" title=\"Reliance Finance Ltd.\">RLFL</td>\\n                <td>57</td>\\n                <td>42</td>\\n                <td>100</td>\\n                <td>305</td>\\n                <td>30500.00</td>\\n            </tr>\\n                    <tr>\\n                <td>4</td>\\n                <td>2021040804008660</td>\\n                <td data-toggle=\"tooltip\" data-placement=\"left\" title=\"Upper Tamakoshi Hydropower Ltd\">UPPER</td>\\n                <td>57</td>\\n                <td>58</td>\\n                <td>100</td>\\n                <td>895</td>\\n                <td>89500.00</td>\\n            </tr>\\n                    <tr>\\n                <td>5</td>\\n                <td>2021040801001733</td>\\n                <td data-toggle=\"tooltip\" data-placement=\"left\" title=\"Nabil Bank Limited\">NABIL</td>\\n                <td>58</td>\\n                <td>17</td>\\n                <td>232</td>\\n                <td>1322</td>\\n                <td>306704.00</td>\\n            </tr>\\n                    <tr>\\n                <td>6</td>\\n                <td>2021040803007368</td>\\n                <td data-toggle=\"tooltip\" data-placement=\"left\" title=\"Reliance Finance Ltd.\">RLFL</td>\\n                <td>58</td>\\n                <td>8</td>\\n                <td>190</td>\\n                <td>306</td>\\n                <td>58140.00</td>\\n            </tr>\\n                    <tr>\\n                <td>7</td>\\n                <td>2021040801002182</td>\\n                <td data-toggle=\"tooltip\" data-placement=\"left\" title=\"Century Commercial Bank Ltd.\">CCBL</td>\\n                <td>58</td>\\n                <td>13</td>\\n                <td>40</td>\\n                <td>255</td>\\n                <td>10200.00</td>\\n            </tr>\\n                    <tr>\\n                <td>8</td>\\n                <td>2021040803006482</td>\\n                <td data-toggle=\"tooltip\" data-placement=\"left\" title=\"Reliance Finance Ltd.\">RLFL</td>\\n                <td>57</td>\\n                <td>33</td>\\n                <td>100</td>\\n                <td>305</td>\\n                <td>30500.00</td>\\n            </tr>\\n                    <tr>\\n                <td>9</td>\\n                <td>2021040803007329</td>\\n                <td data-toggle=\"tooltip\" data-placement=\"left\" title=\"Nepal Life Insurance Co. Ltd.\">NLIC</td>\\n                <td>51</td>\\n                <td>7</td>\\n                <td>16</td>\\n                <td>2142</td>\\n                <td>34272.00</td>\\n            </tr>\\n                    <tr>\\n                <td>10</td>\\n                <td>2021040803004111</td>\\n                <td data-toggle=\"tooltip\" data-placement=\"left\" title=\"Nepal Life Insurance Co. Ltd.\">NLIC</td>\\n                <td>57</td>\\n                <td>57</td>\\n                <td>200</td>\\n                <td>2110</td>\\n                <td>422000.00</td>\\n            </tr>\\n                    <tr>\\n                <td>11</td>\\n                <td>2021040803005395</td>\\n                <td data-toggle=\"tooltip\" data-placement=\"left\" title=\"Pokhara Finance Ltd.\">PFL</td>\\n                <td>56</td>\\n                <td>6</td>\\n                <td>100</td>\\n                <td>303</td>\\n                <td>30300.00</td>\\n            </tr>\\n                    <tr>\\n                <td>12</td>\\n                <td>2021040804008702</td>\\n                <td data-toggle=\"tooltip\" data-placement=\"left\" title=\"GreenLife Hydropower Limited\">GLH</td>\\n                <td>58</td>\\n                <td>21</td>\\n                <td>10</td>\\n                <td>377</td>\\n                <td>3770.00</td>\\n            </tr>\\n                    <tr>\\n                <td>13</td>\\n                <td>2021040803005350</td>\\n                <td data-toggle=\"tooltip\" data-placement=\"left\" title=\"Reliance Finance Ltd.\">RLFL</td>\\n                <td>57</td>\\n                <td>42</td>\\n                <td>40</td>\\n                <td>305</td>\\n                <td>12200.00</td>\\n            </tr>\\n                    <tr>\\n                <td>14</td>\\n                <td>2021040803005414</td>\\n                <td data-toggle=\"tooltip\" data-placement=\"left\" title=\"Grameen Bikas Laghubitta Bittiya Sanstha Ltd.\">GBLBS</td>\\n                <td>58</td>\\n                <td>10</td>\\n                <td>82</td>\\n                <td>1170</td>\\n                <td>95940.00</td>\\n            </tr>\\n                    <tr>\\n                <td>15</td>\\n                <td>2021040803005430</td>\\n                <td data-toggle=\"tooltip\" data-placement=\"left\" title=\"Infinity Laghubitta Bittiya Sanstha Limited\">ILBS</td>\\n                <td>58</td>\\n                <td>57</td>\\n                <td>11</td>\\n                <td>1645</td>\\n                <td>18095.00</td>\\n            </tr>\\n                    <tr>\\n                <td>16</td>\\n                <td>2021040803006435</td>\\n                <td data-toggle=\"tooltip\" data-placement=\"left\" title=\"Mahuli Samudayik Laghubitta Bittiya Sanstha Ltd.\">MSLB</td>\\n                <td>56</td>\\n                <td>1</td>\\n                <td>100</td>\\n                <td>2271</td>\\n                <td>227100.00</td>\\n            </tr>\\n                    <tr>\\n                <td>17</td>\\n                <td>2021040804008695</td>\\n                <td data-toggle=\"tooltip\" data-placement=\"left\" title=\"Chandragiri Hills Limited\">CGH</td>\\n                <td>54</td>\\n                <td>36</td>\\n                <td>10</td>\\n                <td>2635</td>\\n                <td>26350.00</td>\\n            </tr>\\n                    <tr>\\n                <td>18</td>\\n                <td>2021040804005061</td>\\n                <td data-toggle=\"tooltip\" data-placement=\"left\" title=\"Chhyangdi Hydropower Ltd.\">CHL</td>\\n                <td>58</td>\\n                <td>16</td>\\n                <td>13</td>\\n                <td>227</td>\\n                <td>2951.00</td>\\n            </tr>\\n                    <tr>\\n                <td>19</td>\\n                <td>2021040803007345</td>\\n                <td data-toggle=\"tooltip\" data-placement=\"left\" title=\"Muktinath Bikas Bank Ltd.\">MNBBL</td>\\n                <td>57</td>\\n                <td>14</td>\\n                <td>448</td>\\n                <td>414</td>\\n                <td>185472.00</td>\\n            </tr>\\n                    <tr>\\n                <td>20</td>\\n                <td>2021040803004114</td>\\n                <td data-toggle=\"tooltip\" data-placement=\"left\" title=\"Nepal Reinsurance Company Limited\">NRIC</td>\\n                <td>52</td>\\n                <td>33</td>\\n                <td>10</td>\\n                <td>1466</td>\\n                <td>14660.00</td>\\n            </tr>\\n                <tr>\\n            <td colspan=\"7\" align=\"right\"><div class=\\'pager\\' ><a href=\\'#\\'>Page 1/3563&nbsp;</a><b>1</b><a href=\\'http://www.nepalstock.com/main/floorsheet/index/2/\\' title=\\'Go to Page 2\\' >2</a><a href=\\'http://www.nepalstock.com/main/floorsheet/index/3/\\' title=\\'Go to Page 3\\' >3</a><a href=\\'http://www.nepalstock.com/main/floorsheet/index/4/\\' title=\\'Go to Page 4\\' >4</a><a href=\\'http://www.nepalstock.com/main/floorsheet/index/5/\\' title=\\'Go to Page 5\\' >5</a><a href=\\'http://www.nepalstock.com/main/floorsheet/index/6/\\' title=\\'Go to Page 6\\' >6</a><a href=\\'http://www.nepalstock.com/main/floorsheet/index/7/\\' title=\\'Go to Page 7\\' >7</a><a href=\\'http://www.nepalstock.com/main/floorsheet/index/8/\\' title=\\'Go to Page 8\\' >8</a><a href=\\'http://www.nepalstock.com/main/floorsheet/index/9/\\' title=\\'Go to Page 9\\' >9</a><a href=\\'http://www.nepalstock.com/main/floorsheet/index/10/\\' title=\\'Go to Page 10\\' >10</a><a href=\\'http://www.nepalstock.com/main/floorsheet/index/2/\\' title=\\'Next Page\\'>Next&rsaquo;</a><a href=\\'http://www.nepalstock.com/main/floorsheet/index/3563/\\' title=\\'Last Page\\'>Last&raquo;</a></div></td>\\n        </tr>\\n        <tr>\\n        <td colspan=\"2\" align=\"right\">Total Amount Rs.</td>\\n        <td colspan=\"8\">6,556,616,680</td>\\n    </tr>\\n    <tr>\\n        <td colspan=\"2\" align=\"right\">Total Quantity</td>\\n        <td colspan=\"8\">13,376,000</td>\\n    </tr>\\n\\n\\n</table>\\n</div> <!-- home-contents end -->\\r\\n<!--footer-->\\r\\n<footer class=\"bs-footer\" role=\"contentinfo\">\\r\\n    <div class=\"container\">\\r\\n      <div id=\"footer_sitemap row\">\\r\\n          <div class=\"footercol pull-left\">\\r\\n                        <h2>\\r\\n                        <a href=\"#\">Nepse\\'s Data</a>\\r\\n                        \\r\\n                        </h2><ul><li><a href=\"http://www.nepalstock.com/todaysprice\" title=\"Today\\'s Share Price\"  title=\"Today\\'s Share Price\">Today\\'s Share Price</a></li><li><a href=\"http://www.nepalstock.com/floorsheet\" title=\"Today\\'s Floor Sheet\"  title=\"Today\\'s Floor Sheet\">Today\\'s Floor Sheet</a></li><li><a href=\"http://www.nepalstock.com/indices\" title=\"DateWise Indices\"  title=\"DateWise Indices\">DateWise Indices</a></li><li><a href=\"http://www.nepalstock.com/stockWisePrices\" title=\"Last 90 Day\\'s Stockwise Trading\"  title=\"Last 90 Day\\'s Stockwise Trading\">Last 90 Day\\'s Stockwise Trading</a></li><li><a href=\"http://www.nepalstock.com/calculation\" title=\"120 Day\\'s Trading Average Price\"  title=\"120 Day\\'s Trading Average Price\">120 Day\\'s Trading Average Price</a></li><li><a href=\"http://www.nepalstock.com/calculationoneeighty\" title=\"180 Day\\'s Trading Average Price\"  title=\"180 Day\\'s Trading Average Price\">180 Day\\'s Trading Average Price</a></li></ul></div><div class=\"footercol pull-left\">\\r\\n                        <h2>\\r\\n                        <a href=\"#\">Media</a>\\r\\n                        \\r\\n                        </h2><ul><li><a href=\"http://www.nepalstock.com/news/category/0\" title=\"News and Alerts\"  title=\"News and Alerts\">News and Alerts</a></li><li><a href=\"http://www.nepalstock.com/news/category/2\" title=\"Press Releases\"  title=\"Press Releases\">Press Releases</a></li><li><a href=\"http://www.nepalstock.com/news/category/3\" title=\"Investor Awareness\"  title=\"Investor Awareness\">Investor Awareness</a></li></ul></div><div class=\"footercol pull-left\">\\r\\n                        <h2>\\r\\n                        <a href=\"#\">Company Listing</a>\\r\\n                        \\r\\n                        </h2><ul><li><a href=\"http://www.nepalstock.com/company\" title=\"Listed Companies\"  title=\"Listed Companies\">Listed Companies</a></li><li><a href=\"http://www.nepalstock.com/listing-information\" title=\"Listing Information\"  title=\"Listing Information\">Listing Information</a></li><li><a href=\"http://www.nepalstock.com/promoter-share\" title=\"Promoter Share\"  title=\"Promoter Share\">Promoter Share</a></li><li><a href=\"http://www.nepalstock.com/classification-of-listed-companies\" title=\"Classification of Companies\"  title=\"Classification of Companies\">Classification of Companies</a></li></ul></div><div class=\"footercol1 pull-left\">\\r\\n                    <br><br/> \\r\\n                    <center><img src=\"../images/spokeperson.jpg\" alt=\"\" width=\"75\" height=\"110\"></center>\\r\\n                    \\r\\n                    </div>\\r\\n                    <div class=\"footercol pull-left\">\\r\\n                    <br>\\r\\n                    \\r\\n                            <h2><a href=\"#\"><center>Information Officer</center></a></h2>\\r\\n\\r\\n                    \\r\\n                    <p align=\"center\" style=\"font-size:12.5px;\"> Murahari Parajuli</p>\\r\\n                    <p align=\"center\" style=\"font-size:12px;\">Contact No.: +977-01-4250758 (ext.125\\r\\n)</p>\\r\\n                    <p align=\"center\" style=\"font-size:12.5px;\"> Email : mparajuli@nepalstock.com</p>\\r\\n                        \\r\\n                    </div>                    <div class=\"clear\"></div>\\r\\n      </div>\\r\\n    </div>\\r\\n</footer>\\r\\n<!--/footer-->\\r\\n\\r\\n<!--copyright-->\\r\\n<div class=\"container\">\\r\\n    <div id=\"tou\" class=\"pull-left\"><a target=\"_blank\" href=\"http://www.nepalstock.com/termsofuse\">Terms of Use</a></div>\\r\\n    <div id=\"copyright\" class=\"pull-right\">\\r\\n    &copy;2007-2021  Nepal Stock Exchange Ltd.. All Rights Reserved.</div>\\r\\n   \\r\\n</div>\\r\\n    <a id=\"scroll-top\" href=\"#page-top\">Top</a>\\r\\n</div>\\r\\n<!--/copyright-->\\r\\n    <!-- Bootstrap core JavaScript\\r\\n    ================================================== -->\\r\\n    <!-- Placed at the end of the document so the pages load faster -->\\r\\n    <script src=\"http://www.nepalstock.com/js/bootstrap.min.js\"></script>\\r\\n    <script src=\"http://www.nepalstock.com/js/highstock.js\"></script>\\r\\n    <script src=\"http://code.highcharts.com/stock/modules/exporting.js\"></script>\\r\\n<!-- Place this tag in your head or just before your close body tag -->\\r\\n<link rel=\"stylesheet\" type=\"text/css\" href=\"http://www.nepalstock.com/js/superfish/css/superfish.css\"/>\\r\\n<link rel=\"stylesheet\" type=\"text/css\" href=\"http://www.nepalstock.com/js/scroll-top/scroll.css\"/>\\r\\n<script type=\"text/javascript\" src=\"http://www.nepalstock.com/js/scroll-top/scroll-top.js\"></script>\\r\\n<script type=\"text/javascript\" src=\"http://www.nepalstock.com/js/superfish/js/hoverIntent.js\"></script>\\r\\n<script type=\"text/javascript\" src=\"http://www.nepalstock.com/js/superfish/js/superfish.js\"></script>\\r\\n<script type=\"text/javascript\">\\r\\n  jQuery(document).ready(function(){\\r\\n      jQuery(\\'ul.sf-menu\\').superfish();\\r\\n  });\\r\\n  $(function() {\\r\\n    $(\\'.nav-tabs li\\').on(\"click\", function(event){\\r\\n      event.preventDefault();\\r\\n      $(this).parent().find(\\'li\\').each(function(){$(this).removeClass(\\'active\\');});\\r\\n      $(this).addClass(\\'active\\');\\r\\n      $(this).parent().parent().find(\\'.option-div\\').each(function(){$(this).hide();});\\r\\n      $(this).parent().parent().find(\\'\\'+$(this).find(\\'a\\').attr(\\'href\\')).show();\\r\\n      console.log($(this).parent().parent().find(\\'\\'+$(this).find(\\'a\\').attr(\\'href\\')));\\r\\n\\r\\n    })\\r\\n\\r\\n    $(\\'#nepse-market\\').on(\"change\", function(event){\\r\\n      event.preventDefault();\\r\\n      selected = $(this).val();\\r\\n      $(this).parent().find(\\'table.nepse-market-list\\').each(function(){$(this).hide();});\\r\\n      $(this).parent().find(\\'table#\\'+selected).show();\\r\\n\\r\\n    });\\r\\n    $(\"#nepse-market\").trigger(\"change\");\\r\\n\\r\\n      // Setup drop down menu\\r\\n      $(\\'.dropdown-toggle\\').dropdown();\\r\\n     \\r\\n      // Fix input element click problem\\r\\n      $(\\'.dropdown input, .dropdown label\\').click(function(e) {\\r\\n        e.stopPropagation();\\r\\n      });\\r\\n\\r\\n      jQuery(\"#menu-icon\").on(\"click\", function(){\\r\\n          jQuery(\"#nav\").slideToggle();\\r\\n          jQuery(this).toggleClass(\"active\");\\r\\n      });\\r\\n\\r\\n  });\\r\\n</script>\\r\\n</body>\\r\\n</html>'"
      ]
     },
     "execution_count": 67,
     "metadata": {},
     "output_type": "execute_result"
    }
   ],
   "source": [
    "response.text"
   ]
  },
  {
   "cell_type": "code",
   "execution_count": 68,
   "metadata": {},
   "outputs": [
    {
     "data": {
      "text/plain": [
       "<table class=\"table my-table\">\n",
       "<tr align=\"right\">\n",
       "<td colspan=\"8\">\n",
       "<form action=\"http://www.nepalstock.com/floorsheet\" id=\"news_info-filter\" method=\"POST\" name=\"news_info-filter\">\n",
       "<label>Contract No.  <input id=\"contract-no\" name=\"contract-no\" type=\"text\" value=\"\"/> |</label>\n",
       "<label>\n",
       "<select class=\"stock-symbol\" id=\"stock-symbol\" name=\"stock-symbol\">\n",
       "<option value=\"\">Stock Symbol</option>\n",
       "<option value=\"ACLBSL\">ACLBSL</option><option value=\"ADBL\">ADBL</option><option value=\"AHPC\">AHPC</option><option value=\"AIL\">AIL</option><option value=\"AKBSL\">AKBSL</option><option value=\"AKBSLP\">AKBSLP</option><option value=\"AKJCL\">AKJCL</option><option value=\"AKPL\">AKPL</option><option value=\"ALBSL\">ALBSL</option><option value=\"ALICL\">ALICL</option><option value=\"ALICLP\">ALICLP</option><option value=\"AMFI\">AMFI</option><option value=\"AMFIPO\">AMFIPO</option><option value=\"API\">API</option><option value=\"AVU\">AVU</option><option value=\"BARUN\">BARUN</option><option value=\"BBC\">BBC</option><option value=\"BFC\">BFC</option><option value=\"BFCPO\">BFCPO</option><option value=\"BFLPO\">BFLPO</option><option value=\"BHBL\">BHBL</option><option value=\"BHBLPO\">BHBLPO</option><option value=\"BNL\">BNL</option><option value=\"BNT\">BNT</option><option value=\"BOKD2079\">BOKD2079</option><option value=\"BOKL\">BOKL</option><option value=\"BOKLPO\">BOKLPO</option><option value=\"BPCL\">BPCL</option><option value=\"BSBLPO\">BSBLPO</option><option value=\"BSL\">BSL</option><option value=\"BSM\">BSM</option><option value=\"CBBL\">CBBL</option><option value=\"CBBLPO\">CBBLPO</option><option value=\"CBL\">CBL</option><option value=\"CBLPO\">CBLPO</option><option value=\"CCBL\">CCBL</option><option value=\"CCBLPO\">CCBLPO</option><option value=\"CEFL\">CEFL</option><option value=\"CEFLPO\">CEFLPO</option><option value=\"CFCL\">CFCL</option><option value=\"CFCLPO\">CFCLPO</option><option value=\"CFL\">CFL</option><option value=\"CGH\">CGH</option><option value=\"CHCL\">CHCL</option><option value=\"CHL\">CHL</option><option value=\"CIT\">CIT</option><option value=\"CIZBD86\">CIZBD86</option><option value=\"CLBSL\">CLBSL</option><option value=\"CMB\">CMB</option><option value=\"CMBFLP\">CMBFLP</option><option value=\"CMF1\">CMF1</option><option value=\"CMF2\">CMF2</option><option value=\"CORBL\">CORBL</option><option value=\"CORBLP\">CORBLP</option><option value=\"CZBIL\">CZBIL</option><option value=\"CZBILP\">CZBILP</option><option value=\"DBBL\">DBBL</option><option value=\"DBBLPO\">DBBLPO</option><option value=\"DDBL\">DDBL</option><option value=\"DDBLPO\">DDBLPO</option><option value=\"DHPL\">DHPL</option><option value=\"EBL\">EBL</option><option value=\"EBLCP\">EBLCP</option><option value=\"EBLD2078\">EBLD2078</option><option value=\"EBLPO\">EBLPO</option><option value=\"EDBL\">EDBL</option><option value=\"EDBLPO\">EDBLPO</option><option value=\"EIC\">EIC</option><option value=\"EICPO\">EICPO</option><option value=\"FBBLPO\">FBBLPO</option><option value=\"FHL\">FHL</option><option value=\"FMDBL\">FMDBL</option><option value=\"FMDBLP\">FMDBLP</option><option value=\"FOWAD\">FOWAD</option><option value=\"FOWADP\">FOWADP</option><option value=\"GBBL\">GBBL</option><option value=\"GBBLPO\">GBBLPO</option><option value=\"GBD80/81\">GBD80/81</option><option value=\"GBIME\">GBIME</option><option value=\"GBIMEP\">GBIMEP</option><option value=\"GBLBS\">GBLBS</option><option value=\"GBLBSP\">GBLBSP</option><option value=\"GDBL\">GDBL</option><option value=\"GDBLPO\">GDBLPO</option><option value=\"GFCL\">GFCL</option><option value=\"GFCLPO\">GFCLPO</option><option value=\"GGBSL\">GGBSL</option><option value=\"GHL\">GHL</option><option value=\"GIC\">GIC</option><option value=\"GILB\">GILB</option><option value=\"GILBPO\">GILBPO</option><option value=\"GIMES1\">GIMES1</option><option value=\"GLBSL\">GLBSL</option><option value=\"GLH\">GLH</option><option value=\"GLICL\">GLICL</option><option value=\"GLICLP\">GLICLP</option><option value=\"GMFBS\">GMFBS</option><option value=\"GMFIL\">GMFIL</option><option value=\"GMFILP\">GMFILP</option><option value=\"GRDBL\">GRDBL</option><option value=\"GRDBLP\">GRDBLP</option><option value=\"GRU\">GRU</option><option value=\"GUFL\">GUFL</option><option value=\"GUFLPO\">GUFLPO</option><option value=\"HAMRO\">HAMRO</option><option value=\"HAMROP\">HAMROP</option><option value=\"HATH\">HATH</option><option value=\"HATHPO\">HATHPO</option><option value=\"HBL\">HBL</option><option value=\"HBLD83\">HBLD83</option><option value=\"HBLPO\">HBLPO</option><option value=\"HBT\">HBT</option><option value=\"HDHPC\">HDHPC</option><option value=\"HDL\">HDL</option><option value=\"HFL\">HFL</option><option value=\"HGI\">HGI</option><option value=\"HGIPO\">HGIPO</option><option value=\"HIDCL\">HIDCL</option><option value=\"HPPL\">HPPL</option><option value=\"HURJA\">HURJA</option><option value=\"ICFC\">ICFC</option><option value=\"ICFCD83\">ICFCD83</option><option value=\"ICFCPO\">ICFCPO</option><option value=\"IGI\">IGI</option><option value=\"IGIPO\">IGIPO</option><option value=\"ILBS\">ILBS</option><option value=\"ILFCMP\">ILFCMP</option><option value=\"JBBL\">JBBL</option><option value=\"JBBLPO\">JBBLPO</option><option value=\"JBNL\">JBNL</option><option value=\"JBNLPO\">JBNLPO</option><option value=\"JEFL\">JEFL</option><option value=\"JEFLPO\">JEFLPO</option><option value=\"JFL\">JFL</option><option value=\"JFLPO\">JFLPO</option><option value=\"JLI\">JLI</option><option value=\"JOSHI\">JOSHI</option><option value=\"JSLBB\">JSLBB</option><option value=\"JSLBBP\">JSLBBP</option><option value=\"JSM\">JSM</option><option value=\"KADBL\">KADBL</option><option value=\"KADBLP\">KADBLP</option><option value=\"KBL\">KBL</option><option value=\"KBLD86\">KBLD86</option><option value=\"KBLPO\">KBLPO</option><option value=\"KEBL\">KEBL</option><option value=\"KEBLPO\">KEBLPO</option><option value=\"KKHC\">KKHC</option><option value=\"KLBSL\">KLBSL</option><option value=\"KLBSLP\">KLBSLP</option><option value=\"KMCDB\">KMCDB</option><option value=\"KMCDBP\">KMCDBP</option><option value=\"KNBL\">KNBL</option><option value=\"KNBLPO\">KNBLPO</option><option value=\"KPCL\">KPCL</option><option value=\"KRBL\">KRBL</option><option value=\"KRBLPO\">KRBLPO</option><option value=\"KSBBL\">KSBBL</option><option value=\"KSBBLP\">KSBBLP</option><option value=\"LBBL\">LBBL</option><option value=\"LBBLPO\">LBBLPO</option><option value=\"LBL\">LBL</option><option value=\"LBLD86\">LBLD86</option><option value=\"LBLPO\">LBLPO</option><option value=\"LEC\">LEC</option><option value=\"LEMF\">LEMF</option><option value=\"LFC\">LFC</option><option value=\"LFCPO\">LFCPO</option><option value=\"LGIL\">LGIL</option><option value=\"LGILPO\">LGILPO</option><option value=\"LICN\">LICN</option><option value=\"LICNPO\">LICNPO</option><option value=\"LLBS\">LLBS</option><option value=\"LLBSPO\">LLBSPO</option><option value=\"LUK\">LUK</option><option value=\"MBL\">MBL</option><option value=\"MBLD2085\">MBLD2085</option><option value=\"MBLPO\">MBLPO</option><option value=\"MDB\">MDB</option><option value=\"MDBLPO\">MDBLPO</option><option value=\"MDBPO\">MDBPO</option><option value=\"MEGA\">MEGA</option><option value=\"MEGAPO\">MEGAPO</option><option value=\"MEN\">MEN</option><option value=\"MERO\">MERO</option><option value=\"MEROPO\">MEROPO</option><option value=\"MFIL\">MFIL</option><option value=\"MFILPO\">MFILPO</option><option value=\"MHNL\">MHNL</option><option value=\"MLBBL\">MLBBL</option><option value=\"MLBBLP\">MLBBLP</option><option value=\"MLBL\">MLBL</option><option value=\"MLBLPO\">MLBLPO</option><option value=\"MLBSL\">MLBSL</option><option value=\"MMFDB\">MMFDB</option><option value=\"MMFDBP\">MMFDBP</option><option value=\"MNBBL\">MNBBL</option><option value=\"MNBBLP\">MNBBLP</option><option value=\"MPFL\">MPFL</option><option value=\"MPFLPO\">MPFLPO</option><option value=\"MSLB\">MSLB</option><option value=\"MSLBP\">MSLBP</option><option value=\"MSMBS\">MSMBS</option><option value=\"MSMBSP\">MSMBSP</option><option value=\"NABBC\">NABBC</option><option value=\"NABIL\">NABIL</option><option value=\"NABILP\">NABILP</option><option value=\"NADEP\">NADEP</option><option value=\"NADEPP\">NADEPP</option><option value=\"NAGRO\">NAGRO</option><option value=\"NBB\">NBB</option><option value=\"NBBD2085\">NBBD2085</option><option value=\"NBBL\">NBBL</option><option value=\"NBBLPO\">NBBLPO</option><option value=\"NBBPO\">NBBPO</option><option value=\"NBBU\">NBBU</option><option value=\"NBF2\">NBF2</option><option value=\"NBL\">NBL</option><option value=\"NBLD82\">NBLD82</option><option value=\"NCCB\">NCCB</option><option value=\"NCCBPO\">NCCBPO</option><option value=\"NCDB\">NCDB</option><option value=\"NCDBPO\">NCDBPO</option><option value=\"NEF\">NEF</option><option value=\"NFD\">NFD</option><option value=\"NFS\">NFS</option><option value=\"NFSPO\">NFSPO</option><option value=\"NGPL\">NGPL</option><option value=\"NHDL\">NHDL</option><option value=\"NHPC\">NHPC</option><option value=\"NIB\">NIB</option><option value=\"NIBD2082\">NIBD2082</option><option value=\"NIBLPF\">NIBLPF</option><option value=\"NIBPO\">NIBPO</option><option value=\"NIBSF1\">NIBSF1</option><option value=\"NICA\">NICA</option><option value=\"NICAD 85/86\">NICAD 85/86</option><option value=\"NICAD8182\">NICAD8182</option><option value=\"NICAD8283\">NICAD8283</option><option value=\"NICAP\">NICAP</option><option value=\"NICBF\">NICBF</option><option value=\"NICD83/84\">NICD83/84</option><option value=\"NICGF\">NICGF</option><option value=\"NICL\">NICL</option><option value=\"NICLBSL\">NICLBSL</option><option value=\"NICLPO\">NICLPO</option><option value=\"NIDC\">NIDC</option><option value=\"NIDCPO\">NIDCPO</option><option value=\"NIFRA\">NIFRA</option><option value=\"NIL\">NIL</option><option value=\"NILPO\">NILPO</option><option value=\"NKU\">NKU</option><option value=\"NLBBL\">NLBBL</option><option value=\"NLBBLP\">NLBBLP</option><option value=\"NLG\">NLG</option><option value=\"NLGPO\">NLGPO</option><option value=\"NLIC\">NLIC</option><option value=\"NLICL\">NLICL</option><option value=\"NLICLP\">NLICLP</option><option value=\"NLICP\">NLICP</option><option value=\"NLO\">NLO</option><option value=\"NMB\">NMB</option><option value=\"NMB50\">NMB50</option><option value=\"NMBD2085\">NMBD2085</option><option value=\"NMBHF1\">NMBHF1</option><option value=\"NMBMF\">NMBMF</option><option value=\"NMBMFP\">NMBMFP</option><option value=\"NMBPO\">NMBPO</option><option value=\"NMFBS\">NMFBS</option><option value=\"NMFBSP\">NMFBSP</option><option value=\"NRIC\">NRIC</option><option value=\"NRN\">NRN</option><option value=\"NSEWA\">NSEWA</option><option value=\"NSEWAP\">NSEWAP</option><option value=\"NSM\">NSM</option><option value=\"NSMPO\">NSMPO</option><option value=\"NTC\">NTC</option><option value=\"NTL\">NTL</option><option value=\"NUBL\">NUBL</option><option value=\"NUBLPO\">NUBLPO</option><option value=\"NVG\">NVG</option><option value=\"NWC\">NWC</option><option value=\"ODBL\">ODBL</option><option value=\"ODBLPO\">ODBLPO</option><option value=\"OHL\">OHL</option><option value=\"PBLD84\">PBLD84</option><option value=\"PBLD86\">PBLD86</option><option value=\"PCBL\">PCBL</option><option value=\"PCBLP\">PCBLP</option><option value=\"PDBLPO\">PDBLPO</option><option value=\"PFL\">PFL</option><option value=\"PFLPO\">PFLPO</option><option value=\"PIC\">PIC</option><option value=\"PICL\">PICL</option><option value=\"PICLPO\">PICLPO</option><option value=\"PICPO\">PICPO</option><option value=\"PLI\">PLI</option><option value=\"PLIC\">PLIC</option><option value=\"PLICPO\">PLICPO</option><option value=\"PMHPL\">PMHPL</option><option value=\"PPCL\">PPCL</option><option value=\"PRFLPO\">PRFLPO</option><option value=\"PRIN\">PRIN</option><option value=\"PRINPO\">PRINPO</option><option value=\"PROFL\">PROFL</option><option value=\"PROFLP\">PROFLP</option><option value=\"PRVU\">PRVU</option><option value=\"PRVUPO\">PRVUPO</option><option value=\"PSDBLP\">PSDBLP</option><option value=\"PURBL\">PURBL</option><option value=\"PURBLP\">PURBLP</option><option value=\"RADHI\">RADHI</option><option value=\"RBCL\">RBCL</option><option value=\"RBCLPO\">RBCLPO</option><option value=\"RHPC\">RHPC</option><option value=\"RHPL\">RHPL</option><option value=\"RJM\">RJM</option><option value=\"RLFL\">RLFL</option><option value=\"RLFLPO\">RLFLPO</option><option value=\"RLI\">RLI</option><option value=\"RMBFPO\">RMBFPO</option><option value=\"RMDC\">RMDC</option><option value=\"RMDCPO\">RMDCPO</option><option value=\"RRHP\">RRHP</option><option value=\"RSDC\">RSDC</option><option value=\"RSDCP\">RSDCP</option><option value=\"SABSL\">SABSL</option><option value=\"SADBL\">SADBL</option><option value=\"SADBLP\">SADBLP</option><option value=\"SAEF\">SAEF</option><option value=\"SAND2085\">SAND2085</option><option value=\"SANIMA\">SANIMA</option><option value=\"SAPDBL\">SAPDBL</option><option value=\"SAPDBLP\">SAPDBLP</option><option value=\"SBBLJ\">SBBLJ</option><option value=\"SBBLJP\">SBBLJP</option><option value=\"SBBLPO\">SBBLPO</option><option value=\"SBD87\">SBD87</option><option value=\"SBI\">SBI</option><option value=\"SBIBD86\">SBIBD86</option><option value=\"SBIPO\">SBIPO</option><option value=\"SBL\">SBL</option><option value=\"SBLD2082\">SBLD2082</option><option value=\"SBLD83\">SBLD83</option><option value=\"SBLD84\">SBLD84</option><option value=\"SBLPO\">SBLPO</option><option value=\"SBPP\">SBPP</option><option value=\"SCB\">SCB</option><option value=\"SCBPO\">SCBPO</option><option value=\"SDESI\">SDESI</option><option value=\"SDLBSL\">SDLBSL</option><option value=\"SEF\">SEF</option><option value=\"SEOS\">SEOS</option><option value=\"SFC\">SFC</option><option value=\"SFCL\">SFCL</option><option value=\"SFCLP\">SFCLP</option><option value=\"SFCPO\">SFCPO</option><option value=\"SFFIL\">SFFIL</option><option value=\"SFFILP\">SFFILP</option><option value=\"SFMF\">SFMF</option><option value=\"SGI\">SGI</option><option value=\"SHBL\">SHBL</option><option value=\"SHBLPO\">SHBLPO</option><option value=\"SHINE\">SHINE</option><option value=\"SHINEP\">SHINEP</option><option value=\"SHIVM\">SHIVM</option><option value=\"SHL\">SHL</option><option value=\"SHPC\">SHPC</option><option value=\"SIC\">SIC</option><option value=\"SICL\">SICL</option><option value=\"SICLPO\">SICLPO</option><option value=\"SICPO\">SICPO</option><option value=\"SIFC\">SIFC</option><option value=\"SIFCPO\">SIFCPO</option><option value=\"SIGS2\">SIGS2</option><option value=\"SIL\">SIL</option><option value=\"SILPO\">SILPO</option><option value=\"SINDU\">SINDU</option><option value=\"SINDUP\">SINDUP</option><option value=\"SJCL\">SJCL</option><option value=\"SKBBL\">SKBBL</option><option value=\"SKBBLP\">SKBBLP</option><option value=\"SLBBL\">SLBBL</option><option value=\"SLBBLP\">SLBBLP</option><option value=\"SLBS\">SLBS</option><option value=\"SLBSL\">SLBSL</option><option value=\"SLBSP\">SLBSP</option><option value=\"SLCF\">SLCF</option><option value=\"SLICL\">SLICL</option><option value=\"SLICLP\">SLICLP</option><option value=\"SMATA\">SMATA</option><option value=\"SMATAP\">SMATAP</option><option value=\"SMB\">SMB</option><option value=\"SMBPO\">SMBPO</option><option value=\"SMFBS\">SMFBS</option><option value=\"SMFDB\">SMFDB</option><option value=\"SMFDBP\">SMFDBP</option><option value=\"SNLB\">SNLB</option><option value=\"SNLBP\">SNLBP</option><option value=\"SPARS\">SPARS</option><option value=\"SPDL\">SPDL</option><option value=\"SRBL\">SRBL</option><option value=\"SRBLD83\">SRBLD83</option><option value=\"SRBLPO\">SRBLPO</option><option value=\"SRD80\">SRD80</option><option value=\"SRS\">SRS</option><option value=\"SSHL\">SSHL</option><option value=\"STC\">STC</option><option value=\"SWBBL\">SWBBL</option><option value=\"SWBBLP\">SWBBLP</option><option value=\"SYFL\">SYFL</option><option value=\"SYFLPO\">SYFLPO</option><option value=\"TMDBL\">TMDBL</option><option value=\"TMDBLP\">TMDBLP</option><option value=\"TRH\">TRH</option><option value=\"TRHPR\">TRHPR</option><option value=\"UFL\">UFL</option><option value=\"UFLPO\">UFLPO</option><option value=\"UIC\">UIC</option><option value=\"UICPO\">UICPO</option><option value=\"UMHL\">UMHL</option><option value=\"UMRH\">UMRH</option><option value=\"UNHPL\">UNHPL</option><option value=\"UNL\">UNL</option><option value=\"UPCL\">UPCL</option><option value=\"UPPER\">UPPER</option><option value=\"USLB\">USLB</option><option value=\"USLBP\">USLBP</option><option value=\"VLBS\">VLBS</option><option value=\"VLBSPO\">VLBSPO</option><option value=\"WOMI\">WOMI</option><option value=\"WOMIPO\">WOMIPO</option><option value=\"YHL\">YHL</option> </select> |\n",
       "                </label>\n",
       "<label>Buyer  <input id=\"buyer\" name=\"buyer\" type=\"text\" value=\"\"/> |</label>\n",
       "<label>Seller  <input id=\"seller\" name=\"seller\" type=\"text\" value=\"\"/> |</label>\n",
       "<label>Total Rows\n",
       "                    <select name=\"_limit\">\n",
       "<option value=\"20\">20</option>\n",
       "<option value=\"50\">50</option>\n",
       "<option value=\"200\">200</option>\n",
       "<option value=\"300\">300</option>\n",
       "<option value=\"500\">500</option>\n",
       "</select> |\n",
       "                </label>\n",
       "<input class=\"btn btn-success\" type=\"submit\" value=\"Filter\"/>\n",
       "<input class=\"btn btn-default\" name=\"filter\" type=\"submit\" value=\"Reset\"/>\n",
       "</form>\n",
       "</td>\n",
       "</tr>\n",
       "<tr class=\"unique\">\n",
       "<td>S.N.</td>\n",
       "<td><a class=\"icon-sorter sorter\" href=\"http://www.nepalstock.com/main/floorsheet/index/1/contract-no/asc/\">Contract No</a></td>\n",
       "<td><a class=\"icon-sorter sorter\" href=\"http://www.nepalstock.com/main/floorsheet/index/1/stock-symbol/asc/\">Stock Symbol</a></td>\n",
       "<td><a class=\"icon-sorter sorter\" href=\"http://www.nepalstock.com/main/floorsheet/index/1/buyer/asc/\">Buyer Broker</a></td>\n",
       "<td><a class=\"icon-sorter sorter\" href=\"http://www.nepalstock.com/main/floorsheet/index/1/seller/asc/\">Seller Broker</a></td>\n",
       "<td>Quantity</td>\n",
       "<td>Rate</td>\n",
       "<td>Amount</td>\n",
       "</tr>\n",
       "<tr>\n",
       "<td>1</td>\n",
       "<td>2021040804008019</td>\n",
       "<td data-placement=\"left\" data-toggle=\"tooltip\" title=\"RASUWAGADHI HYDROPOWER COMPANY LIMITED\">RHPL</td>\n",
       "<td>59</td>\n",
       "<td>33</td>\n",
       "<td>108</td>\n",
       "<td>515</td>\n",
       "<td>55620.00</td>\n",
       "</tr>\n",
       "<tr>\n",
       "<td>2</td>\n",
       "<td>2021040803005369</td>\n",
       "<td data-placement=\"left\" data-toggle=\"tooltip\" title=\"Reliance Finance Ltd.\">RLFL</td>\n",
       "<td>57</td>\n",
       "<td>42</td>\n",
       "<td>50</td>\n",
       "<td>305</td>\n",
       "<td>15250.00</td>\n",
       "</tr>\n",
       "<tr>\n",
       "<td>3</td>\n",
       "<td>2021040803005405</td>\n",
       "<td data-placement=\"left\" data-toggle=\"tooltip\" title=\"Reliance Finance Ltd.\">RLFL</td>\n",
       "<td>57</td>\n",
       "<td>42</td>\n",
       "<td>100</td>\n",
       "<td>305</td>\n",
       "<td>30500.00</td>\n",
       "</tr>\n",
       "<tr>\n",
       "<td>4</td>\n",
       "<td>2021040804008660</td>\n",
       "<td data-placement=\"left\" data-toggle=\"tooltip\" title=\"Upper Tamakoshi Hydropower Ltd\">UPPER</td>\n",
       "<td>57</td>\n",
       "<td>58</td>\n",
       "<td>100</td>\n",
       "<td>895</td>\n",
       "<td>89500.00</td>\n",
       "</tr>\n",
       "<tr>\n",
       "<td>5</td>\n",
       "<td>2021040801001733</td>\n",
       "<td data-placement=\"left\" data-toggle=\"tooltip\" title=\"Nabil Bank Limited\">NABIL</td>\n",
       "<td>58</td>\n",
       "<td>17</td>\n",
       "<td>232</td>\n",
       "<td>1322</td>\n",
       "<td>306704.00</td>\n",
       "</tr>\n",
       "<tr>\n",
       "<td>6</td>\n",
       "<td>2021040803007368</td>\n",
       "<td data-placement=\"left\" data-toggle=\"tooltip\" title=\"Reliance Finance Ltd.\">RLFL</td>\n",
       "<td>58</td>\n",
       "<td>8</td>\n",
       "<td>190</td>\n",
       "<td>306</td>\n",
       "<td>58140.00</td>\n",
       "</tr>\n",
       "<tr>\n",
       "<td>7</td>\n",
       "<td>2021040801002182</td>\n",
       "<td data-placement=\"left\" data-toggle=\"tooltip\" title=\"Century Commercial Bank Ltd.\">CCBL</td>\n",
       "<td>58</td>\n",
       "<td>13</td>\n",
       "<td>40</td>\n",
       "<td>255</td>\n",
       "<td>10200.00</td>\n",
       "</tr>\n",
       "<tr>\n",
       "<td>8</td>\n",
       "<td>2021040803006482</td>\n",
       "<td data-placement=\"left\" data-toggle=\"tooltip\" title=\"Reliance Finance Ltd.\">RLFL</td>\n",
       "<td>57</td>\n",
       "<td>33</td>\n",
       "<td>100</td>\n",
       "<td>305</td>\n",
       "<td>30500.00</td>\n",
       "</tr>\n",
       "<tr>\n",
       "<td>9</td>\n",
       "<td>2021040803007329</td>\n",
       "<td data-placement=\"left\" data-toggle=\"tooltip\" title=\"Nepal Life Insurance Co. Ltd.\">NLIC</td>\n",
       "<td>51</td>\n",
       "<td>7</td>\n",
       "<td>16</td>\n",
       "<td>2142</td>\n",
       "<td>34272.00</td>\n",
       "</tr>\n",
       "<tr>\n",
       "<td>10</td>\n",
       "<td>2021040803004111</td>\n",
       "<td data-placement=\"left\" data-toggle=\"tooltip\" title=\"Nepal Life Insurance Co. Ltd.\">NLIC</td>\n",
       "<td>57</td>\n",
       "<td>57</td>\n",
       "<td>200</td>\n",
       "<td>2110</td>\n",
       "<td>422000.00</td>\n",
       "</tr>\n",
       "<tr>\n",
       "<td>11</td>\n",
       "<td>2021040803005395</td>\n",
       "<td data-placement=\"left\" data-toggle=\"tooltip\" title=\"Pokhara Finance Ltd.\">PFL</td>\n",
       "<td>56</td>\n",
       "<td>6</td>\n",
       "<td>100</td>\n",
       "<td>303</td>\n",
       "<td>30300.00</td>\n",
       "</tr>\n",
       "<tr>\n",
       "<td>12</td>\n",
       "<td>2021040804008702</td>\n",
       "<td data-placement=\"left\" data-toggle=\"tooltip\" title=\"GreenLife Hydropower Limited\">GLH</td>\n",
       "<td>58</td>\n",
       "<td>21</td>\n",
       "<td>10</td>\n",
       "<td>377</td>\n",
       "<td>3770.00</td>\n",
       "</tr>\n",
       "<tr>\n",
       "<td>13</td>\n",
       "<td>2021040803005350</td>\n",
       "<td data-placement=\"left\" data-toggle=\"tooltip\" title=\"Reliance Finance Ltd.\">RLFL</td>\n",
       "<td>57</td>\n",
       "<td>42</td>\n",
       "<td>40</td>\n",
       "<td>305</td>\n",
       "<td>12200.00</td>\n",
       "</tr>\n",
       "<tr>\n",
       "<td>14</td>\n",
       "<td>2021040803005414</td>\n",
       "<td data-placement=\"left\" data-toggle=\"tooltip\" title=\"Grameen Bikas Laghubitta Bittiya Sanstha Ltd.\">GBLBS</td>\n",
       "<td>58</td>\n",
       "<td>10</td>\n",
       "<td>82</td>\n",
       "<td>1170</td>\n",
       "<td>95940.00</td>\n",
       "</tr>\n",
       "<tr>\n",
       "<td>15</td>\n",
       "<td>2021040803005430</td>\n",
       "<td data-placement=\"left\" data-toggle=\"tooltip\" title=\"Infinity Laghubitta Bittiya Sanstha Limited\">ILBS</td>\n",
       "<td>58</td>\n",
       "<td>57</td>\n",
       "<td>11</td>\n",
       "<td>1645</td>\n",
       "<td>18095.00</td>\n",
       "</tr>\n",
       "<tr>\n",
       "<td>16</td>\n",
       "<td>2021040803006435</td>\n",
       "<td data-placement=\"left\" data-toggle=\"tooltip\" title=\"Mahuli Samudayik Laghubitta Bittiya Sanstha Ltd.\">MSLB</td>\n",
       "<td>56</td>\n",
       "<td>1</td>\n",
       "<td>100</td>\n",
       "<td>2271</td>\n",
       "<td>227100.00</td>\n",
       "</tr>\n",
       "<tr>\n",
       "<td>17</td>\n",
       "<td>2021040804008695</td>\n",
       "<td data-placement=\"left\" data-toggle=\"tooltip\" title=\"Chandragiri Hills Limited\">CGH</td>\n",
       "<td>54</td>\n",
       "<td>36</td>\n",
       "<td>10</td>\n",
       "<td>2635</td>\n",
       "<td>26350.00</td>\n",
       "</tr>\n",
       "<tr>\n",
       "<td>18</td>\n",
       "<td>2021040804005061</td>\n",
       "<td data-placement=\"left\" data-toggle=\"tooltip\" title=\"Chhyangdi Hydropower Ltd.\">CHL</td>\n",
       "<td>58</td>\n",
       "<td>16</td>\n",
       "<td>13</td>\n",
       "<td>227</td>\n",
       "<td>2951.00</td>\n",
       "</tr>\n",
       "<tr>\n",
       "<td>19</td>\n",
       "<td>2021040803007345</td>\n",
       "<td data-placement=\"left\" data-toggle=\"tooltip\" title=\"Muktinath Bikas Bank Ltd.\">MNBBL</td>\n",
       "<td>57</td>\n",
       "<td>14</td>\n",
       "<td>448</td>\n",
       "<td>414</td>\n",
       "<td>185472.00</td>\n",
       "</tr>\n",
       "<tr>\n",
       "<td>20</td>\n",
       "<td>2021040803004114</td>\n",
       "<td data-placement=\"left\" data-toggle=\"tooltip\" title=\"Nepal Reinsurance Company Limited\">NRIC</td>\n",
       "<td>52</td>\n",
       "<td>33</td>\n",
       "<td>10</td>\n",
       "<td>1466</td>\n",
       "<td>14660.00</td>\n",
       "</tr>\n",
       "<tr>\n",
       "<td align=\"right\" colspan=\"7\"><div class=\"pager\"><a href=\"#\">Page 1/3563 </a><b>1</b><a href=\"http://www.nepalstock.com/main/floorsheet/index/2/\" title=\"Go to Page 2\">2</a><a href=\"http://www.nepalstock.com/main/floorsheet/index/3/\" title=\"Go to Page 3\">3</a><a href=\"http://www.nepalstock.com/main/floorsheet/index/4/\" title=\"Go to Page 4\">4</a><a href=\"http://www.nepalstock.com/main/floorsheet/index/5/\" title=\"Go to Page 5\">5</a><a href=\"http://www.nepalstock.com/main/floorsheet/index/6/\" title=\"Go to Page 6\">6</a><a href=\"http://www.nepalstock.com/main/floorsheet/index/7/\" title=\"Go to Page 7\">7</a><a href=\"http://www.nepalstock.com/main/floorsheet/index/8/\" title=\"Go to Page 8\">8</a><a href=\"http://www.nepalstock.com/main/floorsheet/index/9/\" title=\"Go to Page 9\">9</a><a href=\"http://www.nepalstock.com/main/floorsheet/index/10/\" title=\"Go to Page 10\">10</a><a href=\"http://www.nepalstock.com/main/floorsheet/index/2/\" title=\"Next Page\">Next›</a><a href=\"http://www.nepalstock.com/main/floorsheet/index/3563/\" title=\"Last Page\">Last»</a></div></td>\n",
       "</tr>\n",
       "<tr>\n",
       "<td align=\"right\" colspan=\"2\">Total Amount Rs.</td>\n",
       "<td colspan=\"8\">6,556,616,680</td>\n",
       "</tr>\n",
       "<tr>\n",
       "<td align=\"right\" colspan=\"2\">Total Quantity</td>\n",
       "<td colspan=\"8\">13,376,000</td>\n",
       "</tr>\n",
       "</table>"
      ]
     },
     "execution_count": 68,
     "metadata": {},
     "output_type": "execute_result"
    }
   ],
   "source": [
    "markup = response.text\n",
    "xml_code = BeautifulSoup(markup, \"lxml\")\n",
    "table_code = xml_code.table\n",
    "table_code"
   ]
  },
  {
   "cell_type": "code",
   "execution_count": 69,
   "metadata": {},
   "outputs": [
    {
     "name": "stdout",
     "output_type": "stream",
     "text": [
      "[<tr class=\"unique\">\n",
      "<td>S.N.</td>\n",
      "<td><a class=\"icon-sorter sorter\" href=\"http://www.nepalstock.com/main/floorsheet/index/1/contract-no/asc/\">Contract No</a></td>\n",
      "<td><a class=\"icon-sorter sorter\" href=\"http://www.nepalstock.com/main/floorsheet/index/1/stock-symbol/asc/\">Stock Symbol</a></td>\n",
      "<td><a class=\"icon-sorter sorter\" href=\"http://www.nepalstock.com/main/floorsheet/index/1/buyer/asc/\">Buyer Broker</a></td>\n",
      "<td><a class=\"icon-sorter sorter\" href=\"http://www.nepalstock.com/main/floorsheet/index/1/seller/asc/\">Seller Broker</a></td>\n",
      "<td>Quantity</td>\n",
      "<td>Rate</td>\n",
      "<td>Amount</td>\n",
      "</tr>, <tr>\n",
      "<td>1</td>\n",
      "<td>2021040804008019</td>\n",
      "<td data-placement=\"left\" data-toggle=\"tooltip\" title=\"RASUWAGADHI HYDROPOWER COMPANY LIMITED\">RHPL</td>\n",
      "<td>59</td>\n",
      "<td>33</td>\n",
      "<td>108</td>\n",
      "<td>515</td>\n",
      "<td>55620.00</td>\n",
      "</tr>, <tr>\n",
      "<td>2</td>\n",
      "<td>2021040803005369</td>\n",
      "<td data-placement=\"left\" data-toggle=\"tooltip\" title=\"Reliance Finance Ltd.\">RLFL</td>\n",
      "<td>57</td>\n",
      "<td>42</td>\n",
      "<td>50</td>\n",
      "<td>305</td>\n",
      "<td>15250.00</td>\n",
      "</tr>, <tr>\n",
      "<td>3</td>\n",
      "<td>2021040803005405</td>\n",
      "<td data-placement=\"left\" data-toggle=\"tooltip\" title=\"Reliance Finance Ltd.\">RLFL</td>\n",
      "<td>57</td>\n",
      "<td>42</td>\n",
      "<td>100</td>\n",
      "<td>305</td>\n",
      "<td>30500.00</td>\n",
      "</tr>, <tr>\n",
      "<td>4</td>\n",
      "<td>2021040804008660</td>\n",
      "<td data-placement=\"left\" data-toggle=\"tooltip\" title=\"Upper Tamakoshi Hydropower Ltd\">UPPER</td>\n",
      "<td>57</td>\n",
      "<td>58</td>\n",
      "<td>100</td>\n",
      "<td>895</td>\n",
      "<td>89500.00</td>\n",
      "</tr>, <tr>\n",
      "<td>5</td>\n",
      "<td>2021040801001733</td>\n",
      "<td data-placement=\"left\" data-toggle=\"tooltip\" title=\"Nabil Bank Limited\">NABIL</td>\n",
      "<td>58</td>\n",
      "<td>17</td>\n",
      "<td>232</td>\n",
      "<td>1322</td>\n",
      "<td>306704.00</td>\n",
      "</tr>, <tr>\n",
      "<td>6</td>\n",
      "<td>2021040803007368</td>\n",
      "<td data-placement=\"left\" data-toggle=\"tooltip\" title=\"Reliance Finance Ltd.\">RLFL</td>\n",
      "<td>58</td>\n",
      "<td>8</td>\n",
      "<td>190</td>\n",
      "<td>306</td>\n",
      "<td>58140.00</td>\n",
      "</tr>, <tr>\n",
      "<td>7</td>\n",
      "<td>2021040801002182</td>\n",
      "<td data-placement=\"left\" data-toggle=\"tooltip\" title=\"Century Commercial Bank Ltd.\">CCBL</td>\n",
      "<td>58</td>\n",
      "<td>13</td>\n",
      "<td>40</td>\n",
      "<td>255</td>\n",
      "<td>10200.00</td>\n",
      "</tr>, <tr>\n",
      "<td>8</td>\n",
      "<td>2021040803006482</td>\n",
      "<td data-placement=\"left\" data-toggle=\"tooltip\" title=\"Reliance Finance Ltd.\">RLFL</td>\n",
      "<td>57</td>\n",
      "<td>33</td>\n",
      "<td>100</td>\n",
      "<td>305</td>\n",
      "<td>30500.00</td>\n",
      "</tr>, <tr>\n",
      "<td>9</td>\n",
      "<td>2021040803007329</td>\n",
      "<td data-placement=\"left\" data-toggle=\"tooltip\" title=\"Nepal Life Insurance Co. Ltd.\">NLIC</td>\n",
      "<td>51</td>\n",
      "<td>7</td>\n",
      "<td>16</td>\n",
      "<td>2142</td>\n",
      "<td>34272.00</td>\n",
      "</tr>, <tr>\n",
      "<td>10</td>\n",
      "<td>2021040803004111</td>\n",
      "<td data-placement=\"left\" data-toggle=\"tooltip\" title=\"Nepal Life Insurance Co. Ltd.\">NLIC</td>\n",
      "<td>57</td>\n",
      "<td>57</td>\n",
      "<td>200</td>\n",
      "<td>2110</td>\n",
      "<td>422000.00</td>\n",
      "</tr>, <tr>\n",
      "<td>11</td>\n",
      "<td>2021040803005395</td>\n",
      "<td data-placement=\"left\" data-toggle=\"tooltip\" title=\"Pokhara Finance Ltd.\">PFL</td>\n",
      "<td>56</td>\n",
      "<td>6</td>\n",
      "<td>100</td>\n",
      "<td>303</td>\n",
      "<td>30300.00</td>\n",
      "</tr>, <tr>\n",
      "<td>12</td>\n",
      "<td>2021040804008702</td>\n",
      "<td data-placement=\"left\" data-toggle=\"tooltip\" title=\"GreenLife Hydropower Limited\">GLH</td>\n",
      "<td>58</td>\n",
      "<td>21</td>\n",
      "<td>10</td>\n",
      "<td>377</td>\n",
      "<td>3770.00</td>\n",
      "</tr>, <tr>\n",
      "<td>13</td>\n",
      "<td>2021040803005350</td>\n",
      "<td data-placement=\"left\" data-toggle=\"tooltip\" title=\"Reliance Finance Ltd.\">RLFL</td>\n",
      "<td>57</td>\n",
      "<td>42</td>\n",
      "<td>40</td>\n",
      "<td>305</td>\n",
      "<td>12200.00</td>\n",
      "</tr>, <tr>\n",
      "<td>14</td>\n",
      "<td>2021040803005414</td>\n",
      "<td data-placement=\"left\" data-toggle=\"tooltip\" title=\"Grameen Bikas Laghubitta Bittiya Sanstha Ltd.\">GBLBS</td>\n",
      "<td>58</td>\n",
      "<td>10</td>\n",
      "<td>82</td>\n",
      "<td>1170</td>\n",
      "<td>95940.00</td>\n",
      "</tr>, <tr>\n",
      "<td>15</td>\n",
      "<td>2021040803005430</td>\n",
      "<td data-placement=\"left\" data-toggle=\"tooltip\" title=\"Infinity Laghubitta Bittiya Sanstha Limited\">ILBS</td>\n",
      "<td>58</td>\n",
      "<td>57</td>\n",
      "<td>11</td>\n",
      "<td>1645</td>\n",
      "<td>18095.00</td>\n",
      "</tr>, <tr>\n",
      "<td>16</td>\n",
      "<td>2021040803006435</td>\n",
      "<td data-placement=\"left\" data-toggle=\"tooltip\" title=\"Mahuli Samudayik Laghubitta Bittiya Sanstha Ltd.\">MSLB</td>\n",
      "<td>56</td>\n",
      "<td>1</td>\n",
      "<td>100</td>\n",
      "<td>2271</td>\n",
      "<td>227100.00</td>\n",
      "</tr>, <tr>\n",
      "<td>17</td>\n",
      "<td>2021040804008695</td>\n",
      "<td data-placement=\"left\" data-toggle=\"tooltip\" title=\"Chandragiri Hills Limited\">CGH</td>\n",
      "<td>54</td>\n",
      "<td>36</td>\n",
      "<td>10</td>\n",
      "<td>2635</td>\n",
      "<td>26350.00</td>\n",
      "</tr>, <tr>\n",
      "<td>18</td>\n",
      "<td>2021040804005061</td>\n",
      "<td data-placement=\"left\" data-toggle=\"tooltip\" title=\"Chhyangdi Hydropower Ltd.\">CHL</td>\n",
      "<td>58</td>\n",
      "<td>16</td>\n",
      "<td>13</td>\n",
      "<td>227</td>\n",
      "<td>2951.00</td>\n",
      "</tr>, <tr>\n",
      "<td>19</td>\n",
      "<td>2021040803007345</td>\n",
      "<td data-placement=\"left\" data-toggle=\"tooltip\" title=\"Muktinath Bikas Bank Ltd.\">MNBBL</td>\n",
      "<td>57</td>\n",
      "<td>14</td>\n",
      "<td>448</td>\n",
      "<td>414</td>\n",
      "<td>185472.00</td>\n",
      "</tr>, <tr>\n",
      "<td>20</td>\n",
      "<td>2021040803004114</td>\n",
      "<td data-placement=\"left\" data-toggle=\"tooltip\" title=\"Nepal Reinsurance Company Limited\">NRIC</td>\n",
      "<td>52</td>\n",
      "<td>33</td>\n",
      "<td>10</td>\n",
      "<td>1466</td>\n",
      "<td>14660.00</td>\n",
      "</tr>]\n"
     ]
    }
   ],
   "source": [
    "#print(len(table_code))\n",
    "tags = table_code.find_all('tr')[1:-3]\n",
    "print(tags)\n",
    "#print(len(tags))"
   ]
  },
  {
   "cell_type": "code",
   "execution_count": 70,
   "metadata": {},
   "outputs": [
    {
     "data": {
      "text/plain": [
       "'\\n2\\n2021040803005369\\nRLFL\\n57\\n42\\n50\\n305\\n15250.00\\n'"
      ]
     },
     "execution_count": 70,
     "metadata": {},
     "output_type": "execute_result"
    }
   ],
   "source": [
    "tags[2].text"
   ]
  },
  {
   "cell_type": "code",
   "execution_count": 71,
   "metadata": {},
   "outputs": [
    {
     "data": {
      "text/plain": [
       "['', '2', '2021040803005369', 'RLFL', '57', '42', '50', '305', '15250.00', '']"
      ]
     },
     "execution_count": 71,
     "metadata": {},
     "output_type": "execute_result"
    }
   ],
   "source": [
    "(tags[2].text).split('\\n')"
   ]
  },
  {
   "cell_type": "code",
   "execution_count": 72,
   "metadata": {
    "scrolled": true
   },
   "outputs": [
    {
     "name": "stdout",
     "output_type": "stream",
     "text": [
      "[['S.N.', 'Contract No', 'Stock Symbol', 'Buyer Broker', 'Seller Broker', 'Quantity', 'Rate', 'Amount'], ['1', '2021040804008019', 'RHPL', '59', '33', '108', '515', '55620.00'], ['2', '2021040803005369', 'RLFL', '57', '42', '50', '305', '15250.00'], ['3', '2021040803005405', 'RLFL', '57', '42', '100', '305', '30500.00'], ['4', '2021040804008660', 'UPPER', '57', '58', '100', '895', '89500.00'], ['5', '2021040801001733', 'NABIL', '58', '17', '232', '1322', '306704.00'], ['6', '2021040803007368', 'RLFL', '58', '8', '190', '306', '58140.00'], ['7', '2021040801002182', 'CCBL', '58', '13', '40', '255', '10200.00'], ['8', '2021040803006482', 'RLFL', '57', '33', '100', '305', '30500.00'], ['9', '2021040803007329', 'NLIC', '51', '7', '16', '2142', '34272.00'], ['10', '2021040803004111', 'NLIC', '57', '57', '200', '2110', '422000.00'], ['11', '2021040803005395', 'PFL', '56', '6', '100', '303', '30300.00'], ['12', '2021040804008702', 'GLH', '58', '21', '10', '377', '3770.00'], ['13', '2021040803005350', 'RLFL', '57', '42', '40', '305', '12200.00'], ['14', '2021040803005414', 'GBLBS', '58', '10', '82', '1170', '95940.00'], ['15', '2021040803005430', 'ILBS', '58', '57', '11', '1645', '18095.00'], ['16', '2021040803006435', 'MSLB', '56', '1', '100', '2271', '227100.00'], ['17', '2021040804008695', 'CGH', '54', '36', '10', '2635', '26350.00'], ['18', '2021040804005061', 'CHL', '58', '16', '13', '227', '2951.00'], ['19', '2021040803007345', 'MNBBL', '57', '14', '448', '414', '185472.00'], ['20', '2021040803004114', 'NRIC', '52', '33', '10', '1466', '14660.00']]\n"
     ]
    }
   ],
   "source": [
    "output = []\n",
    "for i in tags:\n",
    "    x = (i.text).split('\\n')[1:-1]\n",
    "    output.append(x)\n",
    "    \n",
    "    \n",
    "print(output)"
   ]
  },
  {
   "cell_type": "code",
   "execution_count": 73,
   "metadata": {},
   "outputs": [],
   "source": [
    "import csv\n",
    "f = open(\"nepse.csv\",\"w\")\n",
    "x = csv.writer(f)\n",
    "for i in output:\n",
    "    \n",
    "    x.writerow(i)\n",
    "    \n",
    "f.close()"
   ]
  },
  {
   "cell_type": "code",
   "execution_count": 74,
   "metadata": {},
   "outputs": [
    {
     "data": {
      "text/html": [
       "<div>\n",
       "<style scoped>\n",
       "    .dataframe tbody tr th:only-of-type {\n",
       "        vertical-align: middle;\n",
       "    }\n",
       "\n",
       "    .dataframe tbody tr th {\n",
       "        vertical-align: top;\n",
       "    }\n",
       "\n",
       "    .dataframe thead th {\n",
       "        text-align: right;\n",
       "    }\n",
       "</style>\n",
       "<table border=\"1\" class=\"dataframe\">\n",
       "  <thead>\n",
       "    <tr style=\"text-align: right;\">\n",
       "      <th></th>\n",
       "      <th>S.N.</th>\n",
       "      <th>Contract No</th>\n",
       "      <th>Stock Symbol</th>\n",
       "      <th>Buyer Broker</th>\n",
       "      <th>Seller Broker</th>\n",
       "      <th>Quantity</th>\n",
       "      <th>Rate</th>\n",
       "      <th>Amount</th>\n",
       "    </tr>\n",
       "  </thead>\n",
       "  <tbody>\n",
       "    <tr>\n",
       "      <th>0</th>\n",
       "      <td>1</td>\n",
       "      <td>2021040804008019</td>\n",
       "      <td>RHPL</td>\n",
       "      <td>59</td>\n",
       "      <td>33</td>\n",
       "      <td>108</td>\n",
       "      <td>515</td>\n",
       "      <td>55620.0</td>\n",
       "    </tr>\n",
       "    <tr>\n",
       "      <th>1</th>\n",
       "      <td>2</td>\n",
       "      <td>2021040803005369</td>\n",
       "      <td>RLFL</td>\n",
       "      <td>57</td>\n",
       "      <td>42</td>\n",
       "      <td>50</td>\n",
       "      <td>305</td>\n",
       "      <td>15250.0</td>\n",
       "    </tr>\n",
       "    <tr>\n",
       "      <th>2</th>\n",
       "      <td>3</td>\n",
       "      <td>2021040803005405</td>\n",
       "      <td>RLFL</td>\n",
       "      <td>57</td>\n",
       "      <td>42</td>\n",
       "      <td>100</td>\n",
       "      <td>305</td>\n",
       "      <td>30500.0</td>\n",
       "    </tr>\n",
       "    <tr>\n",
       "      <th>3</th>\n",
       "      <td>4</td>\n",
       "      <td>2021040804008660</td>\n",
       "      <td>UPPER</td>\n",
       "      <td>57</td>\n",
       "      <td>58</td>\n",
       "      <td>100</td>\n",
       "      <td>895</td>\n",
       "      <td>89500.0</td>\n",
       "    </tr>\n",
       "    <tr>\n",
       "      <th>4</th>\n",
       "      <td>5</td>\n",
       "      <td>2021040801001733</td>\n",
       "      <td>NABIL</td>\n",
       "      <td>58</td>\n",
       "      <td>17</td>\n",
       "      <td>232</td>\n",
       "      <td>1322</td>\n",
       "      <td>306704.0</td>\n",
       "    </tr>\n",
       "    <tr>\n",
       "      <th>5</th>\n",
       "      <td>6</td>\n",
       "      <td>2021040803007368</td>\n",
       "      <td>RLFL</td>\n",
       "      <td>58</td>\n",
       "      <td>8</td>\n",
       "      <td>190</td>\n",
       "      <td>306</td>\n",
       "      <td>58140.0</td>\n",
       "    </tr>\n",
       "    <tr>\n",
       "      <th>6</th>\n",
       "      <td>7</td>\n",
       "      <td>2021040801002182</td>\n",
       "      <td>CCBL</td>\n",
       "      <td>58</td>\n",
       "      <td>13</td>\n",
       "      <td>40</td>\n",
       "      <td>255</td>\n",
       "      <td>10200.0</td>\n",
       "    </tr>\n",
       "    <tr>\n",
       "      <th>7</th>\n",
       "      <td>8</td>\n",
       "      <td>2021040803006482</td>\n",
       "      <td>RLFL</td>\n",
       "      <td>57</td>\n",
       "      <td>33</td>\n",
       "      <td>100</td>\n",
       "      <td>305</td>\n",
       "      <td>30500.0</td>\n",
       "    </tr>\n",
       "    <tr>\n",
       "      <th>8</th>\n",
       "      <td>9</td>\n",
       "      <td>2021040803007329</td>\n",
       "      <td>NLIC</td>\n",
       "      <td>51</td>\n",
       "      <td>7</td>\n",
       "      <td>16</td>\n",
       "      <td>2142</td>\n",
       "      <td>34272.0</td>\n",
       "    </tr>\n",
       "    <tr>\n",
       "      <th>9</th>\n",
       "      <td>10</td>\n",
       "      <td>2021040803004111</td>\n",
       "      <td>NLIC</td>\n",
       "      <td>57</td>\n",
       "      <td>57</td>\n",
       "      <td>200</td>\n",
       "      <td>2110</td>\n",
       "      <td>422000.0</td>\n",
       "    </tr>\n",
       "    <tr>\n",
       "      <th>10</th>\n",
       "      <td>11</td>\n",
       "      <td>2021040803005395</td>\n",
       "      <td>PFL</td>\n",
       "      <td>56</td>\n",
       "      <td>6</td>\n",
       "      <td>100</td>\n",
       "      <td>303</td>\n",
       "      <td>30300.0</td>\n",
       "    </tr>\n",
       "    <tr>\n",
       "      <th>11</th>\n",
       "      <td>12</td>\n",
       "      <td>2021040804008702</td>\n",
       "      <td>GLH</td>\n",
       "      <td>58</td>\n",
       "      <td>21</td>\n",
       "      <td>10</td>\n",
       "      <td>377</td>\n",
       "      <td>3770.0</td>\n",
       "    </tr>\n",
       "    <tr>\n",
       "      <th>12</th>\n",
       "      <td>13</td>\n",
       "      <td>2021040803005350</td>\n",
       "      <td>RLFL</td>\n",
       "      <td>57</td>\n",
       "      <td>42</td>\n",
       "      <td>40</td>\n",
       "      <td>305</td>\n",
       "      <td>12200.0</td>\n",
       "    </tr>\n",
       "    <tr>\n",
       "      <th>13</th>\n",
       "      <td>14</td>\n",
       "      <td>2021040803005414</td>\n",
       "      <td>GBLBS</td>\n",
       "      <td>58</td>\n",
       "      <td>10</td>\n",
       "      <td>82</td>\n",
       "      <td>1170</td>\n",
       "      <td>95940.0</td>\n",
       "    </tr>\n",
       "    <tr>\n",
       "      <th>14</th>\n",
       "      <td>15</td>\n",
       "      <td>2021040803005430</td>\n",
       "      <td>ILBS</td>\n",
       "      <td>58</td>\n",
       "      <td>57</td>\n",
       "      <td>11</td>\n",
       "      <td>1645</td>\n",
       "      <td>18095.0</td>\n",
       "    </tr>\n",
       "    <tr>\n",
       "      <th>15</th>\n",
       "      <td>16</td>\n",
       "      <td>2021040803006435</td>\n",
       "      <td>MSLB</td>\n",
       "      <td>56</td>\n",
       "      <td>1</td>\n",
       "      <td>100</td>\n",
       "      <td>2271</td>\n",
       "      <td>227100.0</td>\n",
       "    </tr>\n",
       "    <tr>\n",
       "      <th>16</th>\n",
       "      <td>17</td>\n",
       "      <td>2021040804008695</td>\n",
       "      <td>CGH</td>\n",
       "      <td>54</td>\n",
       "      <td>36</td>\n",
       "      <td>10</td>\n",
       "      <td>2635</td>\n",
       "      <td>26350.0</td>\n",
       "    </tr>\n",
       "    <tr>\n",
       "      <th>17</th>\n",
       "      <td>18</td>\n",
       "      <td>2021040804005061</td>\n",
       "      <td>CHL</td>\n",
       "      <td>58</td>\n",
       "      <td>16</td>\n",
       "      <td>13</td>\n",
       "      <td>227</td>\n",
       "      <td>2951.0</td>\n",
       "    </tr>\n",
       "    <tr>\n",
       "      <th>18</th>\n",
       "      <td>19</td>\n",
       "      <td>2021040803007345</td>\n",
       "      <td>MNBBL</td>\n",
       "      <td>57</td>\n",
       "      <td>14</td>\n",
       "      <td>448</td>\n",
       "      <td>414</td>\n",
       "      <td>185472.0</td>\n",
       "    </tr>\n",
       "    <tr>\n",
       "      <th>19</th>\n",
       "      <td>20</td>\n",
       "      <td>2021040803004114</td>\n",
       "      <td>NRIC</td>\n",
       "      <td>52</td>\n",
       "      <td>33</td>\n",
       "      <td>10</td>\n",
       "      <td>1466</td>\n",
       "      <td>14660.0</td>\n",
       "    </tr>\n",
       "  </tbody>\n",
       "</table>\n",
       "</div>"
      ],
      "text/plain": [
       "    S.N.       Contract No Stock Symbol  Buyer Broker  Seller Broker  \\\n",
       "0      1  2021040804008019         RHPL            59             33   \n",
       "1      2  2021040803005369         RLFL            57             42   \n",
       "2      3  2021040803005405         RLFL            57             42   \n",
       "3      4  2021040804008660        UPPER            57             58   \n",
       "4      5  2021040801001733        NABIL            58             17   \n",
       "5      6  2021040803007368         RLFL            58              8   \n",
       "6      7  2021040801002182         CCBL            58             13   \n",
       "7      8  2021040803006482         RLFL            57             33   \n",
       "8      9  2021040803007329         NLIC            51              7   \n",
       "9     10  2021040803004111         NLIC            57             57   \n",
       "10    11  2021040803005395          PFL            56              6   \n",
       "11    12  2021040804008702          GLH            58             21   \n",
       "12    13  2021040803005350         RLFL            57             42   \n",
       "13    14  2021040803005414        GBLBS            58             10   \n",
       "14    15  2021040803005430         ILBS            58             57   \n",
       "15    16  2021040803006435         MSLB            56              1   \n",
       "16    17  2021040804008695          CGH            54             36   \n",
       "17    18  2021040804005061          CHL            58             16   \n",
       "18    19  2021040803007345        MNBBL            57             14   \n",
       "19    20  2021040803004114         NRIC            52             33   \n",
       "\n",
       "    Quantity  Rate    Amount  \n",
       "0        108   515   55620.0  \n",
       "1         50   305   15250.0  \n",
       "2        100   305   30500.0  \n",
       "3        100   895   89500.0  \n",
       "4        232  1322  306704.0  \n",
       "5        190   306   58140.0  \n",
       "6         40   255   10200.0  \n",
       "7        100   305   30500.0  \n",
       "8         16  2142   34272.0  \n",
       "9        200  2110  422000.0  \n",
       "10       100   303   30300.0  \n",
       "11        10   377    3770.0  \n",
       "12        40   305   12200.0  \n",
       "13        82  1170   95940.0  \n",
       "14        11  1645   18095.0  \n",
       "15       100  2271  227100.0  \n",
       "16        10  2635   26350.0  \n",
       "17        13   227    2951.0  \n",
       "18       448   414  185472.0  \n",
       "19        10  1466   14660.0  "
      ]
     },
     "execution_count": 74,
     "metadata": {},
     "output_type": "execute_result"
    }
   ],
   "source": [
    "import pandas as pd\n",
    "df = pd.read_csv(\"nepse.csv\")\n",
    "df"
   ]
  },
  {
   "cell_type": "code",
   "execution_count": null,
   "metadata": {},
   "outputs": [],
   "source": []
  },
  {
   "cell_type": "code",
   "execution_count": 77,
   "metadata": {},
   "outputs": [
    {
     "data": {
      "application/vnd.plotly.v1+json": {
       "config": {
        "plotlyServerURL": "https://plot.ly"
       },
       "data": [
        {
         "alignmentgroup": "True",
         "hovertemplate": "Stock Symbol=%{x}<br>Quantity=%{y}<extra></extra>",
         "legendgroup": "",
         "marker": {
          "color": "#636efa"
         },
         "name": "",
         "offsetgroup": "",
         "orientation": "v",
         "showlegend": false,
         "textposition": "auto",
         "type": "bar",
         "x": [
          "RHPL",
          "RLFL",
          "RLFL",
          "UPPER",
          "NABIL",
          "RLFL",
          "CCBL",
          "RLFL",
          "NLIC",
          "NLIC",
          "PFL",
          "GLH",
          "RLFL",
          "GBLBS",
          "ILBS",
          "MSLB",
          "CGH",
          "CHL",
          "MNBBL",
          "NRIC"
         ],
         "xaxis": "x",
         "y": [
          108,
          50,
          100,
          100,
          232,
          190,
          40,
          100,
          16,
          200,
          100,
          10,
          40,
          82,
          11,
          100,
          10,
          13,
          448,
          10
         ],
         "yaxis": "y"
        }
       ],
       "layout": {
        "barmode": "relative",
        "legend": {
         "tracegroupgap": 0
        },
        "margin": {
         "t": 60
        },
        "template": {
         "data": {
          "bar": [
           {
            "error_x": {
             "color": "#2a3f5f"
            },
            "error_y": {
             "color": "#2a3f5f"
            },
            "marker": {
             "line": {
              "color": "#E5ECF6",
              "width": 0.5
             }
            },
            "type": "bar"
           }
          ],
          "barpolar": [
           {
            "marker": {
             "line": {
              "color": "#E5ECF6",
              "width": 0.5
             }
            },
            "type": "barpolar"
           }
          ],
          "carpet": [
           {
            "aaxis": {
             "endlinecolor": "#2a3f5f",
             "gridcolor": "white",
             "linecolor": "white",
             "minorgridcolor": "white",
             "startlinecolor": "#2a3f5f"
            },
            "baxis": {
             "endlinecolor": "#2a3f5f",
             "gridcolor": "white",
             "linecolor": "white",
             "minorgridcolor": "white",
             "startlinecolor": "#2a3f5f"
            },
            "type": "carpet"
           }
          ],
          "choropleth": [
           {
            "colorbar": {
             "outlinewidth": 0,
             "ticks": ""
            },
            "type": "choropleth"
           }
          ],
          "contour": [
           {
            "colorbar": {
             "outlinewidth": 0,
             "ticks": ""
            },
            "colorscale": [
             [
              0,
              "#0d0887"
             ],
             [
              0.1111111111111111,
              "#46039f"
             ],
             [
              0.2222222222222222,
              "#7201a8"
             ],
             [
              0.3333333333333333,
              "#9c179e"
             ],
             [
              0.4444444444444444,
              "#bd3786"
             ],
             [
              0.5555555555555556,
              "#d8576b"
             ],
             [
              0.6666666666666666,
              "#ed7953"
             ],
             [
              0.7777777777777778,
              "#fb9f3a"
             ],
             [
              0.8888888888888888,
              "#fdca26"
             ],
             [
              1,
              "#f0f921"
             ]
            ],
            "type": "contour"
           }
          ],
          "contourcarpet": [
           {
            "colorbar": {
             "outlinewidth": 0,
             "ticks": ""
            },
            "type": "contourcarpet"
           }
          ],
          "heatmap": [
           {
            "colorbar": {
             "outlinewidth": 0,
             "ticks": ""
            },
            "colorscale": [
             [
              0,
              "#0d0887"
             ],
             [
              0.1111111111111111,
              "#46039f"
             ],
             [
              0.2222222222222222,
              "#7201a8"
             ],
             [
              0.3333333333333333,
              "#9c179e"
             ],
             [
              0.4444444444444444,
              "#bd3786"
             ],
             [
              0.5555555555555556,
              "#d8576b"
             ],
             [
              0.6666666666666666,
              "#ed7953"
             ],
             [
              0.7777777777777778,
              "#fb9f3a"
             ],
             [
              0.8888888888888888,
              "#fdca26"
             ],
             [
              1,
              "#f0f921"
             ]
            ],
            "type": "heatmap"
           }
          ],
          "heatmapgl": [
           {
            "colorbar": {
             "outlinewidth": 0,
             "ticks": ""
            },
            "colorscale": [
             [
              0,
              "#0d0887"
             ],
             [
              0.1111111111111111,
              "#46039f"
             ],
             [
              0.2222222222222222,
              "#7201a8"
             ],
             [
              0.3333333333333333,
              "#9c179e"
             ],
             [
              0.4444444444444444,
              "#bd3786"
             ],
             [
              0.5555555555555556,
              "#d8576b"
             ],
             [
              0.6666666666666666,
              "#ed7953"
             ],
             [
              0.7777777777777778,
              "#fb9f3a"
             ],
             [
              0.8888888888888888,
              "#fdca26"
             ],
             [
              1,
              "#f0f921"
             ]
            ],
            "type": "heatmapgl"
           }
          ],
          "histogram": [
           {
            "marker": {
             "colorbar": {
              "outlinewidth": 0,
              "ticks": ""
             }
            },
            "type": "histogram"
           }
          ],
          "histogram2d": [
           {
            "colorbar": {
             "outlinewidth": 0,
             "ticks": ""
            },
            "colorscale": [
             [
              0,
              "#0d0887"
             ],
             [
              0.1111111111111111,
              "#46039f"
             ],
             [
              0.2222222222222222,
              "#7201a8"
             ],
             [
              0.3333333333333333,
              "#9c179e"
             ],
             [
              0.4444444444444444,
              "#bd3786"
             ],
             [
              0.5555555555555556,
              "#d8576b"
             ],
             [
              0.6666666666666666,
              "#ed7953"
             ],
             [
              0.7777777777777778,
              "#fb9f3a"
             ],
             [
              0.8888888888888888,
              "#fdca26"
             ],
             [
              1,
              "#f0f921"
             ]
            ],
            "type": "histogram2d"
           }
          ],
          "histogram2dcontour": [
           {
            "colorbar": {
             "outlinewidth": 0,
             "ticks": ""
            },
            "colorscale": [
             [
              0,
              "#0d0887"
             ],
             [
              0.1111111111111111,
              "#46039f"
             ],
             [
              0.2222222222222222,
              "#7201a8"
             ],
             [
              0.3333333333333333,
              "#9c179e"
             ],
             [
              0.4444444444444444,
              "#bd3786"
             ],
             [
              0.5555555555555556,
              "#d8576b"
             ],
             [
              0.6666666666666666,
              "#ed7953"
             ],
             [
              0.7777777777777778,
              "#fb9f3a"
             ],
             [
              0.8888888888888888,
              "#fdca26"
             ],
             [
              1,
              "#f0f921"
             ]
            ],
            "type": "histogram2dcontour"
           }
          ],
          "mesh3d": [
           {
            "colorbar": {
             "outlinewidth": 0,
             "ticks": ""
            },
            "type": "mesh3d"
           }
          ],
          "parcoords": [
           {
            "line": {
             "colorbar": {
              "outlinewidth": 0,
              "ticks": ""
             }
            },
            "type": "parcoords"
           }
          ],
          "pie": [
           {
            "automargin": true,
            "type": "pie"
           }
          ],
          "scatter": [
           {
            "marker": {
             "colorbar": {
              "outlinewidth": 0,
              "ticks": ""
             }
            },
            "type": "scatter"
           }
          ],
          "scatter3d": [
           {
            "line": {
             "colorbar": {
              "outlinewidth": 0,
              "ticks": ""
             }
            },
            "marker": {
             "colorbar": {
              "outlinewidth": 0,
              "ticks": ""
             }
            },
            "type": "scatter3d"
           }
          ],
          "scattercarpet": [
           {
            "marker": {
             "colorbar": {
              "outlinewidth": 0,
              "ticks": ""
             }
            },
            "type": "scattercarpet"
           }
          ],
          "scattergeo": [
           {
            "marker": {
             "colorbar": {
              "outlinewidth": 0,
              "ticks": ""
             }
            },
            "type": "scattergeo"
           }
          ],
          "scattergl": [
           {
            "marker": {
             "colorbar": {
              "outlinewidth": 0,
              "ticks": ""
             }
            },
            "type": "scattergl"
           }
          ],
          "scattermapbox": [
           {
            "marker": {
             "colorbar": {
              "outlinewidth": 0,
              "ticks": ""
             }
            },
            "type": "scattermapbox"
           }
          ],
          "scatterpolar": [
           {
            "marker": {
             "colorbar": {
              "outlinewidth": 0,
              "ticks": ""
             }
            },
            "type": "scatterpolar"
           }
          ],
          "scatterpolargl": [
           {
            "marker": {
             "colorbar": {
              "outlinewidth": 0,
              "ticks": ""
             }
            },
            "type": "scatterpolargl"
           }
          ],
          "scatterternary": [
           {
            "marker": {
             "colorbar": {
              "outlinewidth": 0,
              "ticks": ""
             }
            },
            "type": "scatterternary"
           }
          ],
          "surface": [
           {
            "colorbar": {
             "outlinewidth": 0,
             "ticks": ""
            },
            "colorscale": [
             [
              0,
              "#0d0887"
             ],
             [
              0.1111111111111111,
              "#46039f"
             ],
             [
              0.2222222222222222,
              "#7201a8"
             ],
             [
              0.3333333333333333,
              "#9c179e"
             ],
             [
              0.4444444444444444,
              "#bd3786"
             ],
             [
              0.5555555555555556,
              "#d8576b"
             ],
             [
              0.6666666666666666,
              "#ed7953"
             ],
             [
              0.7777777777777778,
              "#fb9f3a"
             ],
             [
              0.8888888888888888,
              "#fdca26"
             ],
             [
              1,
              "#f0f921"
             ]
            ],
            "type": "surface"
           }
          ],
          "table": [
           {
            "cells": {
             "fill": {
              "color": "#EBF0F8"
             },
             "line": {
              "color": "white"
             }
            },
            "header": {
             "fill": {
              "color": "#C8D4E3"
             },
             "line": {
              "color": "white"
             }
            },
            "type": "table"
           }
          ]
         },
         "layout": {
          "annotationdefaults": {
           "arrowcolor": "#2a3f5f",
           "arrowhead": 0,
           "arrowwidth": 1
          },
          "autotypenumbers": "strict",
          "coloraxis": {
           "colorbar": {
            "outlinewidth": 0,
            "ticks": ""
           }
          },
          "colorscale": {
           "diverging": [
            [
             0,
             "#8e0152"
            ],
            [
             0.1,
             "#c51b7d"
            ],
            [
             0.2,
             "#de77ae"
            ],
            [
             0.3,
             "#f1b6da"
            ],
            [
             0.4,
             "#fde0ef"
            ],
            [
             0.5,
             "#f7f7f7"
            ],
            [
             0.6,
             "#e6f5d0"
            ],
            [
             0.7,
             "#b8e186"
            ],
            [
             0.8,
             "#7fbc41"
            ],
            [
             0.9,
             "#4d9221"
            ],
            [
             1,
             "#276419"
            ]
           ],
           "sequential": [
            [
             0,
             "#0d0887"
            ],
            [
             0.1111111111111111,
             "#46039f"
            ],
            [
             0.2222222222222222,
             "#7201a8"
            ],
            [
             0.3333333333333333,
             "#9c179e"
            ],
            [
             0.4444444444444444,
             "#bd3786"
            ],
            [
             0.5555555555555556,
             "#d8576b"
            ],
            [
             0.6666666666666666,
             "#ed7953"
            ],
            [
             0.7777777777777778,
             "#fb9f3a"
            ],
            [
             0.8888888888888888,
             "#fdca26"
            ],
            [
             1,
             "#f0f921"
            ]
           ],
           "sequentialminus": [
            [
             0,
             "#0d0887"
            ],
            [
             0.1111111111111111,
             "#46039f"
            ],
            [
             0.2222222222222222,
             "#7201a8"
            ],
            [
             0.3333333333333333,
             "#9c179e"
            ],
            [
             0.4444444444444444,
             "#bd3786"
            ],
            [
             0.5555555555555556,
             "#d8576b"
            ],
            [
             0.6666666666666666,
             "#ed7953"
            ],
            [
             0.7777777777777778,
             "#fb9f3a"
            ],
            [
             0.8888888888888888,
             "#fdca26"
            ],
            [
             1,
             "#f0f921"
            ]
           ]
          },
          "colorway": [
           "#636efa",
           "#EF553B",
           "#00cc96",
           "#ab63fa",
           "#FFA15A",
           "#19d3f3",
           "#FF6692",
           "#B6E880",
           "#FF97FF",
           "#FECB52"
          ],
          "font": {
           "color": "#2a3f5f"
          },
          "geo": {
           "bgcolor": "white",
           "lakecolor": "white",
           "landcolor": "#E5ECF6",
           "showlakes": true,
           "showland": true,
           "subunitcolor": "white"
          },
          "hoverlabel": {
           "align": "left"
          },
          "hovermode": "closest",
          "mapbox": {
           "style": "light"
          },
          "paper_bgcolor": "white",
          "plot_bgcolor": "#E5ECF6",
          "polar": {
           "angularaxis": {
            "gridcolor": "white",
            "linecolor": "white",
            "ticks": ""
           },
           "bgcolor": "#E5ECF6",
           "radialaxis": {
            "gridcolor": "white",
            "linecolor": "white",
            "ticks": ""
           }
          },
          "scene": {
           "xaxis": {
            "backgroundcolor": "#E5ECF6",
            "gridcolor": "white",
            "gridwidth": 2,
            "linecolor": "white",
            "showbackground": true,
            "ticks": "",
            "zerolinecolor": "white"
           },
           "yaxis": {
            "backgroundcolor": "#E5ECF6",
            "gridcolor": "white",
            "gridwidth": 2,
            "linecolor": "white",
            "showbackground": true,
            "ticks": "",
            "zerolinecolor": "white"
           },
           "zaxis": {
            "backgroundcolor": "#E5ECF6",
            "gridcolor": "white",
            "gridwidth": 2,
            "linecolor": "white",
            "showbackground": true,
            "ticks": "",
            "zerolinecolor": "white"
           }
          },
          "shapedefaults": {
           "line": {
            "color": "#2a3f5f"
           }
          },
          "ternary": {
           "aaxis": {
            "gridcolor": "white",
            "linecolor": "white",
            "ticks": ""
           },
           "baxis": {
            "gridcolor": "white",
            "linecolor": "white",
            "ticks": ""
           },
           "bgcolor": "#E5ECF6",
           "caxis": {
            "gridcolor": "white",
            "linecolor": "white",
            "ticks": ""
           }
          },
          "title": {
           "x": 0.05
          },
          "xaxis": {
           "automargin": true,
           "gridcolor": "white",
           "linecolor": "white",
           "ticks": "",
           "title": {
            "standoff": 15
           },
           "zerolinecolor": "white",
           "zerolinewidth": 2
          },
          "yaxis": {
           "automargin": true,
           "gridcolor": "white",
           "linecolor": "white",
           "ticks": "",
           "title": {
            "standoff": 15
           },
           "zerolinecolor": "white",
           "zerolinewidth": 2
          }
         }
        },
        "xaxis": {
         "anchor": "y",
         "domain": [
          0,
          1
         ],
         "title": {
          "text": "Stock Symbol"
         }
        },
        "yaxis": {
         "anchor": "x",
         "domain": [
          0,
          1
         ],
         "title": {
          "text": "Quantity"
         }
        }
       }
      },
      "text/html": [
       "<div>                            <div id=\"a798c608-9a87-4d13-b6bd-63817f619fc6\" class=\"plotly-graph-div\" style=\"height:525px; width:100%;\"></div>            <script type=\"text/javascript\">                require([\"plotly\"], function(Plotly) {                    window.PLOTLYENV=window.PLOTLYENV || {};                                    if (document.getElementById(\"a798c608-9a87-4d13-b6bd-63817f619fc6\")) {                    Plotly.newPlot(                        \"a798c608-9a87-4d13-b6bd-63817f619fc6\",                        [{\"alignmentgroup\": \"True\", \"hovertemplate\": \"Stock Symbol=%{x}<br>Quantity=%{y}<extra></extra>\", \"legendgroup\": \"\", \"marker\": {\"color\": \"#636efa\"}, \"name\": \"\", \"offsetgroup\": \"\", \"orientation\": \"v\", \"showlegend\": false, \"textposition\": \"auto\", \"type\": \"bar\", \"x\": [\"RHPL\", \"RLFL\", \"RLFL\", \"UPPER\", \"NABIL\", \"RLFL\", \"CCBL\", \"RLFL\", \"NLIC\", \"NLIC\", \"PFL\", \"GLH\", \"RLFL\", \"GBLBS\", \"ILBS\", \"MSLB\", \"CGH\", \"CHL\", \"MNBBL\", \"NRIC\"], \"xaxis\": \"x\", \"y\": [108, 50, 100, 100, 232, 190, 40, 100, 16, 200, 100, 10, 40, 82, 11, 100, 10, 13, 448, 10], \"yaxis\": \"y\"}],                        {\"barmode\": \"relative\", \"legend\": {\"tracegroupgap\": 0}, \"margin\": {\"t\": 60}, \"template\": {\"data\": {\"bar\": [{\"error_x\": {\"color\": \"#2a3f5f\"}, \"error_y\": {\"color\": \"#2a3f5f\"}, \"marker\": {\"line\": {\"color\": \"#E5ECF6\", \"width\": 0.5}}, \"type\": \"bar\"}], \"barpolar\": [{\"marker\": {\"line\": {\"color\": \"#E5ECF6\", \"width\": 0.5}}, \"type\": \"barpolar\"}], \"carpet\": [{\"aaxis\": {\"endlinecolor\": \"#2a3f5f\", \"gridcolor\": \"white\", \"linecolor\": \"white\", \"minorgridcolor\": \"white\", \"startlinecolor\": \"#2a3f5f\"}, \"baxis\": {\"endlinecolor\": \"#2a3f5f\", \"gridcolor\": \"white\", \"linecolor\": \"white\", \"minorgridcolor\": \"white\", \"startlinecolor\": \"#2a3f5f\"}, \"type\": \"carpet\"}], \"choropleth\": [{\"colorbar\": {\"outlinewidth\": 0, \"ticks\": \"\"}, \"type\": \"choropleth\"}], \"contour\": [{\"colorbar\": {\"outlinewidth\": 0, \"ticks\": \"\"}, \"colorscale\": [[0.0, \"#0d0887\"], [0.1111111111111111, \"#46039f\"], [0.2222222222222222, \"#7201a8\"], [0.3333333333333333, \"#9c179e\"], [0.4444444444444444, \"#bd3786\"], [0.5555555555555556, \"#d8576b\"], [0.6666666666666666, \"#ed7953\"], [0.7777777777777778, \"#fb9f3a\"], [0.8888888888888888, \"#fdca26\"], [1.0, \"#f0f921\"]], \"type\": \"contour\"}], \"contourcarpet\": [{\"colorbar\": {\"outlinewidth\": 0, \"ticks\": \"\"}, \"type\": \"contourcarpet\"}], \"heatmap\": [{\"colorbar\": {\"outlinewidth\": 0, \"ticks\": \"\"}, \"colorscale\": [[0.0, \"#0d0887\"], [0.1111111111111111, \"#46039f\"], [0.2222222222222222, \"#7201a8\"], [0.3333333333333333, \"#9c179e\"], [0.4444444444444444, \"#bd3786\"], [0.5555555555555556, \"#d8576b\"], [0.6666666666666666, \"#ed7953\"], [0.7777777777777778, \"#fb9f3a\"], [0.8888888888888888, \"#fdca26\"], [1.0, \"#f0f921\"]], \"type\": \"heatmap\"}], \"heatmapgl\": [{\"colorbar\": {\"outlinewidth\": 0, \"ticks\": \"\"}, \"colorscale\": [[0.0, \"#0d0887\"], [0.1111111111111111, \"#46039f\"], [0.2222222222222222, \"#7201a8\"], [0.3333333333333333, \"#9c179e\"], [0.4444444444444444, \"#bd3786\"], [0.5555555555555556, \"#d8576b\"], [0.6666666666666666, \"#ed7953\"], [0.7777777777777778, \"#fb9f3a\"], [0.8888888888888888, \"#fdca26\"], [1.0, \"#f0f921\"]], \"type\": \"heatmapgl\"}], \"histogram\": [{\"marker\": {\"colorbar\": {\"outlinewidth\": 0, \"ticks\": \"\"}}, \"type\": \"histogram\"}], \"histogram2d\": [{\"colorbar\": {\"outlinewidth\": 0, \"ticks\": \"\"}, \"colorscale\": [[0.0, \"#0d0887\"], [0.1111111111111111, \"#46039f\"], [0.2222222222222222, \"#7201a8\"], [0.3333333333333333, \"#9c179e\"], [0.4444444444444444, \"#bd3786\"], [0.5555555555555556, \"#d8576b\"], [0.6666666666666666, \"#ed7953\"], [0.7777777777777778, \"#fb9f3a\"], [0.8888888888888888, \"#fdca26\"], [1.0, \"#f0f921\"]], \"type\": \"histogram2d\"}], \"histogram2dcontour\": [{\"colorbar\": {\"outlinewidth\": 0, \"ticks\": \"\"}, \"colorscale\": [[0.0, \"#0d0887\"], [0.1111111111111111, \"#46039f\"], [0.2222222222222222, \"#7201a8\"], [0.3333333333333333, \"#9c179e\"], [0.4444444444444444, \"#bd3786\"], [0.5555555555555556, \"#d8576b\"], [0.6666666666666666, \"#ed7953\"], [0.7777777777777778, \"#fb9f3a\"], [0.8888888888888888, \"#fdca26\"], [1.0, \"#f0f921\"]], \"type\": \"histogram2dcontour\"}], \"mesh3d\": [{\"colorbar\": {\"outlinewidth\": 0, \"ticks\": \"\"}, \"type\": \"mesh3d\"}], \"parcoords\": [{\"line\": {\"colorbar\": {\"outlinewidth\": 0, \"ticks\": \"\"}}, \"type\": \"parcoords\"}], \"pie\": [{\"automargin\": true, \"type\": \"pie\"}], \"scatter\": [{\"marker\": {\"colorbar\": {\"outlinewidth\": 0, \"ticks\": \"\"}}, \"type\": \"scatter\"}], \"scatter3d\": [{\"line\": {\"colorbar\": {\"outlinewidth\": 0, \"ticks\": \"\"}}, \"marker\": {\"colorbar\": {\"outlinewidth\": 0, \"ticks\": \"\"}}, \"type\": \"scatter3d\"}], \"scattercarpet\": [{\"marker\": {\"colorbar\": {\"outlinewidth\": 0, \"ticks\": \"\"}}, \"type\": \"scattercarpet\"}], \"scattergeo\": [{\"marker\": {\"colorbar\": {\"outlinewidth\": 0, \"ticks\": \"\"}}, \"type\": \"scattergeo\"}], \"scattergl\": [{\"marker\": {\"colorbar\": {\"outlinewidth\": 0, \"ticks\": \"\"}}, \"type\": \"scattergl\"}], \"scattermapbox\": [{\"marker\": {\"colorbar\": {\"outlinewidth\": 0, \"ticks\": \"\"}}, \"type\": \"scattermapbox\"}], \"scatterpolar\": [{\"marker\": {\"colorbar\": {\"outlinewidth\": 0, \"ticks\": \"\"}}, \"type\": \"scatterpolar\"}], \"scatterpolargl\": [{\"marker\": {\"colorbar\": {\"outlinewidth\": 0, \"ticks\": \"\"}}, \"type\": \"scatterpolargl\"}], \"scatterternary\": [{\"marker\": {\"colorbar\": {\"outlinewidth\": 0, \"ticks\": \"\"}}, \"type\": \"scatterternary\"}], \"surface\": [{\"colorbar\": {\"outlinewidth\": 0, \"ticks\": \"\"}, \"colorscale\": [[0.0, \"#0d0887\"], [0.1111111111111111, \"#46039f\"], [0.2222222222222222, \"#7201a8\"], [0.3333333333333333, \"#9c179e\"], [0.4444444444444444, \"#bd3786\"], [0.5555555555555556, \"#d8576b\"], [0.6666666666666666, \"#ed7953\"], [0.7777777777777778, \"#fb9f3a\"], [0.8888888888888888, \"#fdca26\"], [1.0, \"#f0f921\"]], \"type\": \"surface\"}], \"table\": [{\"cells\": {\"fill\": {\"color\": \"#EBF0F8\"}, \"line\": {\"color\": \"white\"}}, \"header\": {\"fill\": {\"color\": \"#C8D4E3\"}, \"line\": {\"color\": \"white\"}}, \"type\": \"table\"}]}, \"layout\": {\"annotationdefaults\": {\"arrowcolor\": \"#2a3f5f\", \"arrowhead\": 0, \"arrowwidth\": 1}, \"autotypenumbers\": \"strict\", \"coloraxis\": {\"colorbar\": {\"outlinewidth\": 0, \"ticks\": \"\"}}, \"colorscale\": {\"diverging\": [[0, \"#8e0152\"], [0.1, \"#c51b7d\"], [0.2, \"#de77ae\"], [0.3, \"#f1b6da\"], [0.4, \"#fde0ef\"], [0.5, \"#f7f7f7\"], [0.6, \"#e6f5d0\"], [0.7, \"#b8e186\"], [0.8, \"#7fbc41\"], [0.9, \"#4d9221\"], [1, \"#276419\"]], \"sequential\": [[0.0, \"#0d0887\"], [0.1111111111111111, \"#46039f\"], [0.2222222222222222, \"#7201a8\"], [0.3333333333333333, \"#9c179e\"], [0.4444444444444444, \"#bd3786\"], [0.5555555555555556, \"#d8576b\"], [0.6666666666666666, \"#ed7953\"], [0.7777777777777778, \"#fb9f3a\"], [0.8888888888888888, \"#fdca26\"], [1.0, \"#f0f921\"]], \"sequentialminus\": [[0.0, \"#0d0887\"], [0.1111111111111111, \"#46039f\"], [0.2222222222222222, \"#7201a8\"], [0.3333333333333333, \"#9c179e\"], [0.4444444444444444, \"#bd3786\"], [0.5555555555555556, \"#d8576b\"], [0.6666666666666666, \"#ed7953\"], [0.7777777777777778, \"#fb9f3a\"], [0.8888888888888888, \"#fdca26\"], [1.0, \"#f0f921\"]]}, \"colorway\": [\"#636efa\", \"#EF553B\", \"#00cc96\", \"#ab63fa\", \"#FFA15A\", \"#19d3f3\", \"#FF6692\", \"#B6E880\", \"#FF97FF\", \"#FECB52\"], \"font\": {\"color\": \"#2a3f5f\"}, \"geo\": {\"bgcolor\": \"white\", \"lakecolor\": \"white\", \"landcolor\": \"#E5ECF6\", \"showlakes\": true, \"showland\": true, \"subunitcolor\": \"white\"}, \"hoverlabel\": {\"align\": \"left\"}, \"hovermode\": \"closest\", \"mapbox\": {\"style\": \"light\"}, \"paper_bgcolor\": \"white\", \"plot_bgcolor\": \"#E5ECF6\", \"polar\": {\"angularaxis\": {\"gridcolor\": \"white\", \"linecolor\": \"white\", \"ticks\": \"\"}, \"bgcolor\": \"#E5ECF6\", \"radialaxis\": {\"gridcolor\": \"white\", \"linecolor\": \"white\", \"ticks\": \"\"}}, \"scene\": {\"xaxis\": {\"backgroundcolor\": \"#E5ECF6\", \"gridcolor\": \"white\", \"gridwidth\": 2, \"linecolor\": \"white\", \"showbackground\": true, \"ticks\": \"\", \"zerolinecolor\": \"white\"}, \"yaxis\": {\"backgroundcolor\": \"#E5ECF6\", \"gridcolor\": \"white\", \"gridwidth\": 2, \"linecolor\": \"white\", \"showbackground\": true, \"ticks\": \"\", \"zerolinecolor\": \"white\"}, \"zaxis\": {\"backgroundcolor\": \"#E5ECF6\", \"gridcolor\": \"white\", \"gridwidth\": 2, \"linecolor\": \"white\", \"showbackground\": true, \"ticks\": \"\", \"zerolinecolor\": \"white\"}}, \"shapedefaults\": {\"line\": {\"color\": \"#2a3f5f\"}}, \"ternary\": {\"aaxis\": {\"gridcolor\": \"white\", \"linecolor\": \"white\", \"ticks\": \"\"}, \"baxis\": {\"gridcolor\": \"white\", \"linecolor\": \"white\", \"ticks\": \"\"}, \"bgcolor\": \"#E5ECF6\", \"caxis\": {\"gridcolor\": \"white\", \"linecolor\": \"white\", \"ticks\": \"\"}}, \"title\": {\"x\": 0.05}, \"xaxis\": {\"automargin\": true, \"gridcolor\": \"white\", \"linecolor\": \"white\", \"ticks\": \"\", \"title\": {\"standoff\": 15}, \"zerolinecolor\": \"white\", \"zerolinewidth\": 2}, \"yaxis\": {\"automargin\": true, \"gridcolor\": \"white\", \"linecolor\": \"white\", \"ticks\": \"\", \"title\": {\"standoff\": 15}, \"zerolinecolor\": \"white\", \"zerolinewidth\": 2}}}, \"xaxis\": {\"anchor\": \"y\", \"domain\": [0.0, 1.0], \"title\": {\"text\": \"Stock Symbol\"}}, \"yaxis\": {\"anchor\": \"x\", \"domain\": [0.0, 1.0], \"title\": {\"text\": \"Quantity\"}}},                        {\"responsive\": true}                    ).then(function(){\n",
       "                            \n",
       "var gd = document.getElementById('a798c608-9a87-4d13-b6bd-63817f619fc6');\n",
       "var x = new MutationObserver(function (mutations, observer) {{\n",
       "        var display = window.getComputedStyle(gd).display;\n",
       "        if (!display || display === 'none') {{\n",
       "            console.log([gd, 'removed!']);\n",
       "            Plotly.purge(gd);\n",
       "            observer.disconnect();\n",
       "        }}\n",
       "}});\n",
       "\n",
       "// Listen for the removal of the full notebook cells\n",
       "var notebookContainer = gd.closest('#notebook-container');\n",
       "if (notebookContainer) {{\n",
       "    x.observe(notebookContainer, {childList: true});\n",
       "}}\n",
       "\n",
       "// Listen for the clearing of the current output cell\n",
       "var outputEl = gd.closest('.output');\n",
       "if (outputEl) {{\n",
       "    x.observe(outputEl, {childList: true});\n",
       "}}\n",
       "\n",
       "                        })                };                });            </script>        </div>"
      ]
     },
     "metadata": {},
     "output_type": "display_data"
    }
   ],
   "source": [
    "import plotly.express as px\n",
    "fig = px.bar(df, x='Stock Symbol', y='Quantity')\n",
    "fig.show()"
   ]
  },
  {
   "cell_type": "code",
   "execution_count": 79,
   "metadata": {},
   "outputs": [
    {
     "data": {
      "application/vnd.plotly.v1+json": {
       "config": {
        "plotlyServerURL": "https://plot.ly"
       },
       "data": [
        {
         "domain": {
          "x": [
           0,
           1
          ],
          "y": [
           0,
           1
          ]
         },
         "hovertemplate": "Stock Symbol=%{label}<br>Quantity=%{value}<extra></extra>",
         "labels": [
          "RHPL",
          "RLFL",
          "RLFL",
          "UPPER",
          "NABIL",
          "RLFL",
          "CCBL",
          "RLFL",
          "NLIC",
          "NLIC",
          "PFL",
          "GLH",
          "RLFL",
          "GBLBS",
          "ILBS",
          "MSLB",
          "CGH",
          "CHL",
          "MNBBL",
          "NRIC"
         ],
         "legendgroup": "",
         "name": "",
         "showlegend": true,
         "type": "pie",
         "values": [
          108,
          50,
          100,
          100,
          232,
          190,
          40,
          100,
          16,
          200,
          100,
          10,
          40,
          82,
          11,
          100,
          10,
          13,
          448,
          10
         ]
        }
       ],
       "layout": {
        "legend": {
         "tracegroupgap": 0
        },
        "template": {
         "data": {
          "bar": [
           {
            "error_x": {
             "color": "#2a3f5f"
            },
            "error_y": {
             "color": "#2a3f5f"
            },
            "marker": {
             "line": {
              "color": "#E5ECF6",
              "width": 0.5
             }
            },
            "type": "bar"
           }
          ],
          "barpolar": [
           {
            "marker": {
             "line": {
              "color": "#E5ECF6",
              "width": 0.5
             }
            },
            "type": "barpolar"
           }
          ],
          "carpet": [
           {
            "aaxis": {
             "endlinecolor": "#2a3f5f",
             "gridcolor": "white",
             "linecolor": "white",
             "minorgridcolor": "white",
             "startlinecolor": "#2a3f5f"
            },
            "baxis": {
             "endlinecolor": "#2a3f5f",
             "gridcolor": "white",
             "linecolor": "white",
             "minorgridcolor": "white",
             "startlinecolor": "#2a3f5f"
            },
            "type": "carpet"
           }
          ],
          "choropleth": [
           {
            "colorbar": {
             "outlinewidth": 0,
             "ticks": ""
            },
            "type": "choropleth"
           }
          ],
          "contour": [
           {
            "colorbar": {
             "outlinewidth": 0,
             "ticks": ""
            },
            "colorscale": [
             [
              0,
              "#0d0887"
             ],
             [
              0.1111111111111111,
              "#46039f"
             ],
             [
              0.2222222222222222,
              "#7201a8"
             ],
             [
              0.3333333333333333,
              "#9c179e"
             ],
             [
              0.4444444444444444,
              "#bd3786"
             ],
             [
              0.5555555555555556,
              "#d8576b"
             ],
             [
              0.6666666666666666,
              "#ed7953"
             ],
             [
              0.7777777777777778,
              "#fb9f3a"
             ],
             [
              0.8888888888888888,
              "#fdca26"
             ],
             [
              1,
              "#f0f921"
             ]
            ],
            "type": "contour"
           }
          ],
          "contourcarpet": [
           {
            "colorbar": {
             "outlinewidth": 0,
             "ticks": ""
            },
            "type": "contourcarpet"
           }
          ],
          "heatmap": [
           {
            "colorbar": {
             "outlinewidth": 0,
             "ticks": ""
            },
            "colorscale": [
             [
              0,
              "#0d0887"
             ],
             [
              0.1111111111111111,
              "#46039f"
             ],
             [
              0.2222222222222222,
              "#7201a8"
             ],
             [
              0.3333333333333333,
              "#9c179e"
             ],
             [
              0.4444444444444444,
              "#bd3786"
             ],
             [
              0.5555555555555556,
              "#d8576b"
             ],
             [
              0.6666666666666666,
              "#ed7953"
             ],
             [
              0.7777777777777778,
              "#fb9f3a"
             ],
             [
              0.8888888888888888,
              "#fdca26"
             ],
             [
              1,
              "#f0f921"
             ]
            ],
            "type": "heatmap"
           }
          ],
          "heatmapgl": [
           {
            "colorbar": {
             "outlinewidth": 0,
             "ticks": ""
            },
            "colorscale": [
             [
              0,
              "#0d0887"
             ],
             [
              0.1111111111111111,
              "#46039f"
             ],
             [
              0.2222222222222222,
              "#7201a8"
             ],
             [
              0.3333333333333333,
              "#9c179e"
             ],
             [
              0.4444444444444444,
              "#bd3786"
             ],
             [
              0.5555555555555556,
              "#d8576b"
             ],
             [
              0.6666666666666666,
              "#ed7953"
             ],
             [
              0.7777777777777778,
              "#fb9f3a"
             ],
             [
              0.8888888888888888,
              "#fdca26"
             ],
             [
              1,
              "#f0f921"
             ]
            ],
            "type": "heatmapgl"
           }
          ],
          "histogram": [
           {
            "marker": {
             "colorbar": {
              "outlinewidth": 0,
              "ticks": ""
             }
            },
            "type": "histogram"
           }
          ],
          "histogram2d": [
           {
            "colorbar": {
             "outlinewidth": 0,
             "ticks": ""
            },
            "colorscale": [
             [
              0,
              "#0d0887"
             ],
             [
              0.1111111111111111,
              "#46039f"
             ],
             [
              0.2222222222222222,
              "#7201a8"
             ],
             [
              0.3333333333333333,
              "#9c179e"
             ],
             [
              0.4444444444444444,
              "#bd3786"
             ],
             [
              0.5555555555555556,
              "#d8576b"
             ],
             [
              0.6666666666666666,
              "#ed7953"
             ],
             [
              0.7777777777777778,
              "#fb9f3a"
             ],
             [
              0.8888888888888888,
              "#fdca26"
             ],
             [
              1,
              "#f0f921"
             ]
            ],
            "type": "histogram2d"
           }
          ],
          "histogram2dcontour": [
           {
            "colorbar": {
             "outlinewidth": 0,
             "ticks": ""
            },
            "colorscale": [
             [
              0,
              "#0d0887"
             ],
             [
              0.1111111111111111,
              "#46039f"
             ],
             [
              0.2222222222222222,
              "#7201a8"
             ],
             [
              0.3333333333333333,
              "#9c179e"
             ],
             [
              0.4444444444444444,
              "#bd3786"
             ],
             [
              0.5555555555555556,
              "#d8576b"
             ],
             [
              0.6666666666666666,
              "#ed7953"
             ],
             [
              0.7777777777777778,
              "#fb9f3a"
             ],
             [
              0.8888888888888888,
              "#fdca26"
             ],
             [
              1,
              "#f0f921"
             ]
            ],
            "type": "histogram2dcontour"
           }
          ],
          "mesh3d": [
           {
            "colorbar": {
             "outlinewidth": 0,
             "ticks": ""
            },
            "type": "mesh3d"
           }
          ],
          "parcoords": [
           {
            "line": {
             "colorbar": {
              "outlinewidth": 0,
              "ticks": ""
             }
            },
            "type": "parcoords"
           }
          ],
          "pie": [
           {
            "automargin": true,
            "type": "pie"
           }
          ],
          "scatter": [
           {
            "marker": {
             "colorbar": {
              "outlinewidth": 0,
              "ticks": ""
             }
            },
            "type": "scatter"
           }
          ],
          "scatter3d": [
           {
            "line": {
             "colorbar": {
              "outlinewidth": 0,
              "ticks": ""
             }
            },
            "marker": {
             "colorbar": {
              "outlinewidth": 0,
              "ticks": ""
             }
            },
            "type": "scatter3d"
           }
          ],
          "scattercarpet": [
           {
            "marker": {
             "colorbar": {
              "outlinewidth": 0,
              "ticks": ""
             }
            },
            "type": "scattercarpet"
           }
          ],
          "scattergeo": [
           {
            "marker": {
             "colorbar": {
              "outlinewidth": 0,
              "ticks": ""
             }
            },
            "type": "scattergeo"
           }
          ],
          "scattergl": [
           {
            "marker": {
             "colorbar": {
              "outlinewidth": 0,
              "ticks": ""
             }
            },
            "type": "scattergl"
           }
          ],
          "scattermapbox": [
           {
            "marker": {
             "colorbar": {
              "outlinewidth": 0,
              "ticks": ""
             }
            },
            "type": "scattermapbox"
           }
          ],
          "scatterpolar": [
           {
            "marker": {
             "colorbar": {
              "outlinewidth": 0,
              "ticks": ""
             }
            },
            "type": "scatterpolar"
           }
          ],
          "scatterpolargl": [
           {
            "marker": {
             "colorbar": {
              "outlinewidth": 0,
              "ticks": ""
             }
            },
            "type": "scatterpolargl"
           }
          ],
          "scatterternary": [
           {
            "marker": {
             "colorbar": {
              "outlinewidth": 0,
              "ticks": ""
             }
            },
            "type": "scatterternary"
           }
          ],
          "surface": [
           {
            "colorbar": {
             "outlinewidth": 0,
             "ticks": ""
            },
            "colorscale": [
             [
              0,
              "#0d0887"
             ],
             [
              0.1111111111111111,
              "#46039f"
             ],
             [
              0.2222222222222222,
              "#7201a8"
             ],
             [
              0.3333333333333333,
              "#9c179e"
             ],
             [
              0.4444444444444444,
              "#bd3786"
             ],
             [
              0.5555555555555556,
              "#d8576b"
             ],
             [
              0.6666666666666666,
              "#ed7953"
             ],
             [
              0.7777777777777778,
              "#fb9f3a"
             ],
             [
              0.8888888888888888,
              "#fdca26"
             ],
             [
              1,
              "#f0f921"
             ]
            ],
            "type": "surface"
           }
          ],
          "table": [
           {
            "cells": {
             "fill": {
              "color": "#EBF0F8"
             },
             "line": {
              "color": "white"
             }
            },
            "header": {
             "fill": {
              "color": "#C8D4E3"
             },
             "line": {
              "color": "white"
             }
            },
            "type": "table"
           }
          ]
         },
         "layout": {
          "annotationdefaults": {
           "arrowcolor": "#2a3f5f",
           "arrowhead": 0,
           "arrowwidth": 1
          },
          "autotypenumbers": "strict",
          "coloraxis": {
           "colorbar": {
            "outlinewidth": 0,
            "ticks": ""
           }
          },
          "colorscale": {
           "diverging": [
            [
             0,
             "#8e0152"
            ],
            [
             0.1,
             "#c51b7d"
            ],
            [
             0.2,
             "#de77ae"
            ],
            [
             0.3,
             "#f1b6da"
            ],
            [
             0.4,
             "#fde0ef"
            ],
            [
             0.5,
             "#f7f7f7"
            ],
            [
             0.6,
             "#e6f5d0"
            ],
            [
             0.7,
             "#b8e186"
            ],
            [
             0.8,
             "#7fbc41"
            ],
            [
             0.9,
             "#4d9221"
            ],
            [
             1,
             "#276419"
            ]
           ],
           "sequential": [
            [
             0,
             "#0d0887"
            ],
            [
             0.1111111111111111,
             "#46039f"
            ],
            [
             0.2222222222222222,
             "#7201a8"
            ],
            [
             0.3333333333333333,
             "#9c179e"
            ],
            [
             0.4444444444444444,
             "#bd3786"
            ],
            [
             0.5555555555555556,
             "#d8576b"
            ],
            [
             0.6666666666666666,
             "#ed7953"
            ],
            [
             0.7777777777777778,
             "#fb9f3a"
            ],
            [
             0.8888888888888888,
             "#fdca26"
            ],
            [
             1,
             "#f0f921"
            ]
           ],
           "sequentialminus": [
            [
             0,
             "#0d0887"
            ],
            [
             0.1111111111111111,
             "#46039f"
            ],
            [
             0.2222222222222222,
             "#7201a8"
            ],
            [
             0.3333333333333333,
             "#9c179e"
            ],
            [
             0.4444444444444444,
             "#bd3786"
            ],
            [
             0.5555555555555556,
             "#d8576b"
            ],
            [
             0.6666666666666666,
             "#ed7953"
            ],
            [
             0.7777777777777778,
             "#fb9f3a"
            ],
            [
             0.8888888888888888,
             "#fdca26"
            ],
            [
             1,
             "#f0f921"
            ]
           ]
          },
          "colorway": [
           "#636efa",
           "#EF553B",
           "#00cc96",
           "#ab63fa",
           "#FFA15A",
           "#19d3f3",
           "#FF6692",
           "#B6E880",
           "#FF97FF",
           "#FECB52"
          ],
          "font": {
           "color": "#2a3f5f"
          },
          "geo": {
           "bgcolor": "white",
           "lakecolor": "white",
           "landcolor": "#E5ECF6",
           "showlakes": true,
           "showland": true,
           "subunitcolor": "white"
          },
          "hoverlabel": {
           "align": "left"
          },
          "hovermode": "closest",
          "mapbox": {
           "style": "light"
          },
          "paper_bgcolor": "white",
          "plot_bgcolor": "#E5ECF6",
          "polar": {
           "angularaxis": {
            "gridcolor": "white",
            "linecolor": "white",
            "ticks": ""
           },
           "bgcolor": "#E5ECF6",
           "radialaxis": {
            "gridcolor": "white",
            "linecolor": "white",
            "ticks": ""
           }
          },
          "scene": {
           "xaxis": {
            "backgroundcolor": "#E5ECF6",
            "gridcolor": "white",
            "gridwidth": 2,
            "linecolor": "white",
            "showbackground": true,
            "ticks": "",
            "zerolinecolor": "white"
           },
           "yaxis": {
            "backgroundcolor": "#E5ECF6",
            "gridcolor": "white",
            "gridwidth": 2,
            "linecolor": "white",
            "showbackground": true,
            "ticks": "",
            "zerolinecolor": "white"
           },
           "zaxis": {
            "backgroundcolor": "#E5ECF6",
            "gridcolor": "white",
            "gridwidth": 2,
            "linecolor": "white",
            "showbackground": true,
            "ticks": "",
            "zerolinecolor": "white"
           }
          },
          "shapedefaults": {
           "line": {
            "color": "#2a3f5f"
           }
          },
          "ternary": {
           "aaxis": {
            "gridcolor": "white",
            "linecolor": "white",
            "ticks": ""
           },
           "baxis": {
            "gridcolor": "white",
            "linecolor": "white",
            "ticks": ""
           },
           "bgcolor": "#E5ECF6",
           "caxis": {
            "gridcolor": "white",
            "linecolor": "white",
            "ticks": ""
           }
          },
          "title": {
           "x": 0.05
          },
          "xaxis": {
           "automargin": true,
           "gridcolor": "white",
           "linecolor": "white",
           "ticks": "",
           "title": {
            "standoff": 15
           },
           "zerolinecolor": "white",
           "zerolinewidth": 2
          },
          "yaxis": {
           "automargin": true,
           "gridcolor": "white",
           "linecolor": "white",
           "ticks": "",
           "title": {
            "standoff": 15
           },
           "zerolinecolor": "white",
           "zerolinewidth": 2
          }
         }
        },
        "title": {
         "text": "Nepse data"
        }
       }
      },
      "text/html": [
       "<div>                            <div id=\"d040e464-3155-40c7-9191-f56e7ad4339b\" class=\"plotly-graph-div\" style=\"height:525px; width:100%;\"></div>            <script type=\"text/javascript\">                require([\"plotly\"], function(Plotly) {                    window.PLOTLYENV=window.PLOTLYENV || {};                                    if (document.getElementById(\"d040e464-3155-40c7-9191-f56e7ad4339b\")) {                    Plotly.newPlot(                        \"d040e464-3155-40c7-9191-f56e7ad4339b\",                        [{\"domain\": {\"x\": [0.0, 1.0], \"y\": [0.0, 1.0]}, \"hovertemplate\": \"Stock Symbol=%{label}<br>Quantity=%{value}<extra></extra>\", \"labels\": [\"RHPL\", \"RLFL\", \"RLFL\", \"UPPER\", \"NABIL\", \"RLFL\", \"CCBL\", \"RLFL\", \"NLIC\", \"NLIC\", \"PFL\", \"GLH\", \"RLFL\", \"GBLBS\", \"ILBS\", \"MSLB\", \"CGH\", \"CHL\", \"MNBBL\", \"NRIC\"], \"legendgroup\": \"\", \"name\": \"\", \"showlegend\": true, \"type\": \"pie\", \"values\": [108, 50, 100, 100, 232, 190, 40, 100, 16, 200, 100, 10, 40, 82, 11, 100, 10, 13, 448, 10]}],                        {\"legend\": {\"tracegroupgap\": 0}, \"template\": {\"data\": {\"bar\": [{\"error_x\": {\"color\": \"#2a3f5f\"}, \"error_y\": {\"color\": \"#2a3f5f\"}, \"marker\": {\"line\": {\"color\": \"#E5ECF6\", \"width\": 0.5}}, \"type\": \"bar\"}], \"barpolar\": [{\"marker\": {\"line\": {\"color\": \"#E5ECF6\", \"width\": 0.5}}, \"type\": \"barpolar\"}], \"carpet\": [{\"aaxis\": {\"endlinecolor\": \"#2a3f5f\", \"gridcolor\": \"white\", \"linecolor\": \"white\", \"minorgridcolor\": \"white\", \"startlinecolor\": \"#2a3f5f\"}, \"baxis\": {\"endlinecolor\": \"#2a3f5f\", \"gridcolor\": \"white\", \"linecolor\": \"white\", \"minorgridcolor\": \"white\", \"startlinecolor\": \"#2a3f5f\"}, \"type\": \"carpet\"}], \"choropleth\": [{\"colorbar\": {\"outlinewidth\": 0, \"ticks\": \"\"}, \"type\": \"choropleth\"}], \"contour\": [{\"colorbar\": {\"outlinewidth\": 0, \"ticks\": \"\"}, \"colorscale\": [[0.0, \"#0d0887\"], [0.1111111111111111, \"#46039f\"], [0.2222222222222222, \"#7201a8\"], [0.3333333333333333, \"#9c179e\"], [0.4444444444444444, \"#bd3786\"], [0.5555555555555556, \"#d8576b\"], [0.6666666666666666, \"#ed7953\"], [0.7777777777777778, \"#fb9f3a\"], [0.8888888888888888, \"#fdca26\"], [1.0, \"#f0f921\"]], \"type\": \"contour\"}], \"contourcarpet\": [{\"colorbar\": {\"outlinewidth\": 0, \"ticks\": \"\"}, \"type\": \"contourcarpet\"}], \"heatmap\": [{\"colorbar\": {\"outlinewidth\": 0, \"ticks\": \"\"}, \"colorscale\": [[0.0, \"#0d0887\"], [0.1111111111111111, \"#46039f\"], [0.2222222222222222, \"#7201a8\"], [0.3333333333333333, \"#9c179e\"], [0.4444444444444444, \"#bd3786\"], [0.5555555555555556, \"#d8576b\"], [0.6666666666666666, \"#ed7953\"], [0.7777777777777778, \"#fb9f3a\"], [0.8888888888888888, \"#fdca26\"], [1.0, \"#f0f921\"]], \"type\": \"heatmap\"}], \"heatmapgl\": [{\"colorbar\": {\"outlinewidth\": 0, \"ticks\": \"\"}, \"colorscale\": [[0.0, \"#0d0887\"], [0.1111111111111111, \"#46039f\"], [0.2222222222222222, \"#7201a8\"], [0.3333333333333333, \"#9c179e\"], [0.4444444444444444, \"#bd3786\"], [0.5555555555555556, \"#d8576b\"], [0.6666666666666666, \"#ed7953\"], [0.7777777777777778, \"#fb9f3a\"], [0.8888888888888888, \"#fdca26\"], [1.0, \"#f0f921\"]], \"type\": \"heatmapgl\"}], \"histogram\": [{\"marker\": {\"colorbar\": {\"outlinewidth\": 0, \"ticks\": \"\"}}, \"type\": \"histogram\"}], \"histogram2d\": [{\"colorbar\": {\"outlinewidth\": 0, \"ticks\": \"\"}, \"colorscale\": [[0.0, \"#0d0887\"], [0.1111111111111111, \"#46039f\"], [0.2222222222222222, \"#7201a8\"], [0.3333333333333333, \"#9c179e\"], [0.4444444444444444, \"#bd3786\"], [0.5555555555555556, \"#d8576b\"], [0.6666666666666666, \"#ed7953\"], [0.7777777777777778, \"#fb9f3a\"], [0.8888888888888888, \"#fdca26\"], [1.0, \"#f0f921\"]], \"type\": \"histogram2d\"}], \"histogram2dcontour\": [{\"colorbar\": {\"outlinewidth\": 0, \"ticks\": \"\"}, \"colorscale\": [[0.0, \"#0d0887\"], [0.1111111111111111, \"#46039f\"], [0.2222222222222222, \"#7201a8\"], [0.3333333333333333, \"#9c179e\"], [0.4444444444444444, \"#bd3786\"], [0.5555555555555556, \"#d8576b\"], [0.6666666666666666, \"#ed7953\"], [0.7777777777777778, \"#fb9f3a\"], [0.8888888888888888, \"#fdca26\"], [1.0, \"#f0f921\"]], \"type\": \"histogram2dcontour\"}], \"mesh3d\": [{\"colorbar\": {\"outlinewidth\": 0, \"ticks\": \"\"}, \"type\": \"mesh3d\"}], \"parcoords\": [{\"line\": {\"colorbar\": {\"outlinewidth\": 0, \"ticks\": \"\"}}, \"type\": \"parcoords\"}], \"pie\": [{\"automargin\": true, \"type\": \"pie\"}], \"scatter\": [{\"marker\": {\"colorbar\": {\"outlinewidth\": 0, \"ticks\": \"\"}}, \"type\": \"scatter\"}], \"scatter3d\": [{\"line\": {\"colorbar\": {\"outlinewidth\": 0, \"ticks\": \"\"}}, \"marker\": {\"colorbar\": {\"outlinewidth\": 0, \"ticks\": \"\"}}, \"type\": \"scatter3d\"}], \"scattercarpet\": [{\"marker\": {\"colorbar\": {\"outlinewidth\": 0, \"ticks\": \"\"}}, \"type\": \"scattercarpet\"}], \"scattergeo\": [{\"marker\": {\"colorbar\": {\"outlinewidth\": 0, \"ticks\": \"\"}}, \"type\": \"scattergeo\"}], \"scattergl\": [{\"marker\": {\"colorbar\": {\"outlinewidth\": 0, \"ticks\": \"\"}}, \"type\": \"scattergl\"}], \"scattermapbox\": [{\"marker\": {\"colorbar\": {\"outlinewidth\": 0, \"ticks\": \"\"}}, \"type\": \"scattermapbox\"}], \"scatterpolar\": [{\"marker\": {\"colorbar\": {\"outlinewidth\": 0, \"ticks\": \"\"}}, \"type\": \"scatterpolar\"}], \"scatterpolargl\": [{\"marker\": {\"colorbar\": {\"outlinewidth\": 0, \"ticks\": \"\"}}, \"type\": \"scatterpolargl\"}], \"scatterternary\": [{\"marker\": {\"colorbar\": {\"outlinewidth\": 0, \"ticks\": \"\"}}, \"type\": \"scatterternary\"}], \"surface\": [{\"colorbar\": {\"outlinewidth\": 0, \"ticks\": \"\"}, \"colorscale\": [[0.0, \"#0d0887\"], [0.1111111111111111, \"#46039f\"], [0.2222222222222222, \"#7201a8\"], [0.3333333333333333, \"#9c179e\"], [0.4444444444444444, \"#bd3786\"], [0.5555555555555556, \"#d8576b\"], [0.6666666666666666, \"#ed7953\"], [0.7777777777777778, \"#fb9f3a\"], [0.8888888888888888, \"#fdca26\"], [1.0, \"#f0f921\"]], \"type\": \"surface\"}], \"table\": [{\"cells\": {\"fill\": {\"color\": \"#EBF0F8\"}, \"line\": {\"color\": \"white\"}}, \"header\": {\"fill\": {\"color\": \"#C8D4E3\"}, \"line\": {\"color\": \"white\"}}, \"type\": \"table\"}]}, \"layout\": {\"annotationdefaults\": {\"arrowcolor\": \"#2a3f5f\", \"arrowhead\": 0, \"arrowwidth\": 1}, \"autotypenumbers\": \"strict\", \"coloraxis\": {\"colorbar\": {\"outlinewidth\": 0, \"ticks\": \"\"}}, \"colorscale\": {\"diverging\": [[0, \"#8e0152\"], [0.1, \"#c51b7d\"], [0.2, \"#de77ae\"], [0.3, \"#f1b6da\"], [0.4, \"#fde0ef\"], [0.5, \"#f7f7f7\"], [0.6, \"#e6f5d0\"], [0.7, \"#b8e186\"], [0.8, \"#7fbc41\"], [0.9, \"#4d9221\"], [1, \"#276419\"]], \"sequential\": [[0.0, \"#0d0887\"], [0.1111111111111111, \"#46039f\"], [0.2222222222222222, \"#7201a8\"], [0.3333333333333333, \"#9c179e\"], [0.4444444444444444, \"#bd3786\"], [0.5555555555555556, \"#d8576b\"], [0.6666666666666666, \"#ed7953\"], [0.7777777777777778, \"#fb9f3a\"], [0.8888888888888888, \"#fdca26\"], [1.0, \"#f0f921\"]], \"sequentialminus\": [[0.0, \"#0d0887\"], [0.1111111111111111, \"#46039f\"], [0.2222222222222222, \"#7201a8\"], [0.3333333333333333, \"#9c179e\"], [0.4444444444444444, \"#bd3786\"], [0.5555555555555556, \"#d8576b\"], [0.6666666666666666, \"#ed7953\"], [0.7777777777777778, \"#fb9f3a\"], [0.8888888888888888, \"#fdca26\"], [1.0, \"#f0f921\"]]}, \"colorway\": [\"#636efa\", \"#EF553B\", \"#00cc96\", \"#ab63fa\", \"#FFA15A\", \"#19d3f3\", \"#FF6692\", \"#B6E880\", \"#FF97FF\", \"#FECB52\"], \"font\": {\"color\": \"#2a3f5f\"}, \"geo\": {\"bgcolor\": \"white\", \"lakecolor\": \"white\", \"landcolor\": \"#E5ECF6\", \"showlakes\": true, \"showland\": true, \"subunitcolor\": \"white\"}, \"hoverlabel\": {\"align\": \"left\"}, \"hovermode\": \"closest\", \"mapbox\": {\"style\": \"light\"}, \"paper_bgcolor\": \"white\", \"plot_bgcolor\": \"#E5ECF6\", \"polar\": {\"angularaxis\": {\"gridcolor\": \"white\", \"linecolor\": \"white\", \"ticks\": \"\"}, \"bgcolor\": \"#E5ECF6\", \"radialaxis\": {\"gridcolor\": \"white\", \"linecolor\": \"white\", \"ticks\": \"\"}}, \"scene\": {\"xaxis\": {\"backgroundcolor\": \"#E5ECF6\", \"gridcolor\": \"white\", \"gridwidth\": 2, \"linecolor\": \"white\", \"showbackground\": true, \"ticks\": \"\", \"zerolinecolor\": \"white\"}, \"yaxis\": {\"backgroundcolor\": \"#E5ECF6\", \"gridcolor\": \"white\", \"gridwidth\": 2, \"linecolor\": \"white\", \"showbackground\": true, \"ticks\": \"\", \"zerolinecolor\": \"white\"}, \"zaxis\": {\"backgroundcolor\": \"#E5ECF6\", \"gridcolor\": \"white\", \"gridwidth\": 2, \"linecolor\": \"white\", \"showbackground\": true, \"ticks\": \"\", \"zerolinecolor\": \"white\"}}, \"shapedefaults\": {\"line\": {\"color\": \"#2a3f5f\"}}, \"ternary\": {\"aaxis\": {\"gridcolor\": \"white\", \"linecolor\": \"white\", \"ticks\": \"\"}, \"baxis\": {\"gridcolor\": \"white\", \"linecolor\": \"white\", \"ticks\": \"\"}, \"bgcolor\": \"#E5ECF6\", \"caxis\": {\"gridcolor\": \"white\", \"linecolor\": \"white\", \"ticks\": \"\"}}, \"title\": {\"x\": 0.05}, \"xaxis\": {\"automargin\": true, \"gridcolor\": \"white\", \"linecolor\": \"white\", \"ticks\": \"\", \"title\": {\"standoff\": 15}, \"zerolinecolor\": \"white\", \"zerolinewidth\": 2}, \"yaxis\": {\"automargin\": true, \"gridcolor\": \"white\", \"linecolor\": \"white\", \"ticks\": \"\", \"title\": {\"standoff\": 15}, \"zerolinecolor\": \"white\", \"zerolinewidth\": 2}}}, \"title\": {\"text\": \"Nepse data\"}},                        {\"responsive\": true}                    ).then(function(){\n",
       "                            \n",
       "var gd = document.getElementById('d040e464-3155-40c7-9191-f56e7ad4339b');\n",
       "var x = new MutationObserver(function (mutations, observer) {{\n",
       "        var display = window.getComputedStyle(gd).display;\n",
       "        if (!display || display === 'none') {{\n",
       "            console.log([gd, 'removed!']);\n",
       "            Plotly.purge(gd);\n",
       "            observer.disconnect();\n",
       "        }}\n",
       "}});\n",
       "\n",
       "// Listen for the removal of the full notebook cells\n",
       "var notebookContainer = gd.closest('#notebook-container');\n",
       "if (notebookContainer) {{\n",
       "    x.observe(notebookContainer, {childList: true});\n",
       "}}\n",
       "\n",
       "// Listen for the clearing of the current output cell\n",
       "var outputEl = gd.closest('.output');\n",
       "if (outputEl) {{\n",
       "    x.observe(outputEl, {childList: true});\n",
       "}}\n",
       "\n",
       "                        })                };                });            </script>        </div>"
      ]
     },
     "metadata": {},
     "output_type": "display_data"
    }
   ],
   "source": [
    "import plotly.express as px\n",
    "fig = px.pie(df, values='Quantity', names='Stock Symbol', title='Nepse data')\n",
    "fig.show()"
   ]
  },
  {
   "cell_type": "code",
   "execution_count": null,
   "metadata": {},
   "outputs": [],
   "source": [
    "from bs4 import BeautifulSoup\n",
    "import requests\n",
    "soup = BeautifulSoup('http://www.nepalstock.com/floorsheet', 'html.parser')\n",
    "response = requests.get('http://www.nepalstock.com/floorsheet')\n",
    "response\n",
    "\n",
    "response.text\n",
    "\n"
   ]
  }
 ],
 "metadata": {
  "kernelspec": {
   "display_name": "Python 3",
   "language": "python",
   "name": "python3"
  },
  "language_info": {
   "codemirror_mode": {
    "name": "ipython",
    "version": 3
   },
   "file_extension": ".py",
   "mimetype": "text/x-python",
   "name": "python",
   "nbconvert_exporter": "python",
   "pygments_lexer": "ipython3",
   "version": "3.8.5"
  }
 },
 "nbformat": 4,
 "nbformat_minor": 4
}
