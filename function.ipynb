{
 "cells": [
  {
   "cell_type": "code",
   "execution_count": null,
   "metadata": {},
   "outputs": [],
   "source": [
    "# function has to define and call\n",
    "# def <function_name>():\n",
    "#      <operations>\n",
    "    \n",
    "#<function>()\n",
    "\n",
    "# function are print() type() str() list() dict() are pre defined function\n",
    "\n"
   ]
  },
  {
   "cell_type": "code",
   "execution_count": 10,
   "metadata": {},
   "outputs": [
    {
     "name": "stdout",
     "output_type": "stream",
     "text": [
      "Hello wORLD\n",
      "Hello wORLD\n"
     ]
    }
   ],
   "source": [
    "def hello(): # defining function\n",
    "    print(\"Hello wORLD\") #OPERATION\n",
    "\n",
    "hello() # function is called \n",
    "hello() #can be called multiple times\n"
   ]
  },
  {
   "cell_type": "code",
   "execution_count": 16,
   "metadata": {},
   "outputs": [
    {
     "name": "stdout",
     "output_type": "stream",
     "text": [
      "Enter value of l: 5\n",
      "Enter value of b: 4\n",
      "Enter value of h: 3\n",
      "Your volume is:  60\n"
     ]
    }
   ],
   "source": [
    "def call():\n",
    "    l = int(input(\"Enter value of l: \")) #local variable- defined in certain scope and can be used in certain function\n",
    "    b = int(input(\"Enter value of b: \"))\n",
    "    h = int(input(\"Enter value of h: \"))\n",
    "    v =l*b*h\n",
    "    print(\"Your volume is: \",v)\n",
    "    \n",
    "call()\n",
    "\n",
    "# print(v)         #this cant be print because v is defined inside call function"
   ]
  },
  {
   "cell_type": "code",
   "execution_count": 22,
   "metadata": {},
   "outputs": [
    {
     "name": "stdout",
     "output_type": "stream",
     "text": [
      "Enter value of l: 8\n",
      "Enter value of b: 4\n",
      "Enter value of h: 2\n",
      "The volume is  64\n",
      "Area is 32\n",
      "8 4 2\n"
     ]
    }
   ],
   "source": [
    "l = int(input(\"Enter value of l: \")) #global variable- notdefined in certain scope and can be used in any  function\n",
    "b = int(input(\"Enter value of b: \"))\n",
    "h = int(input(\"Enter value of h: \"))\n",
    "v =l*b*h\n",
    "\n",
    "def volume():\n",
    "    v = l*b*h\n",
    "    print(\"The volume is \",v)\n",
    "    \n",
    "def area():\n",
    "    a = l*b\n",
    "    print(\"Area is\",a)\n",
    "    \n",
    "volume()\n",
    "area()\n",
    "print(l,b,h)"
   ]
  },
  {
   "cell_type": "code",
   "execution_count": 25,
   "metadata": {},
   "outputs": [
    {
     "name": "stdout",
     "output_type": "stream",
     "text": [
      "Enter value of n: 0\n"
     ]
    }
   ],
   "source": [
    "def cal():\n",
    "    p = float(input(\"Enter principle: \"))\n",
    "    t = float(input(\"Enter time: \"))\n",
    "    r = float(input(\"Enter rate: \"))\n",
    "    i = p*t*r/100\n",
    "    print(\"The imtrest is \",i)\n",
    "\n",
    "n = int(input(\"Enter value of n: \"))\n",
    "for i in range(n):\n",
    "    cal()"
   ]
  },
  {
   "cell_type": "code",
   "execution_count": 26,
   "metadata": {},
   "outputs": [],
   "source": [
    "\n",
    "#these are all functions without arguments and non return type"
   ]
  },
  {
   "cell_type": "code",
   "execution_count": 28,
   "metadata": {},
   "outputs": [],
   "source": [
    "# types of function\n",
    "\n",
    "#function without arguemnrts and no return type\n",
    "# function with arguement and no return type\n",
    "#function without arguement and return type\n",
    "#function with arguements and return type"
   ]
  },
  {
   "cell_type": "code",
   "execution_count": 33,
   "metadata": {},
   "outputs": [
    {
     "name": "stdout",
     "output_type": "stream",
     "text": [
      "HWLLO wORLD\n"
     ]
    }
   ],
   "source": [
    "def hello(X):  #this is parameter\n",
    "    # x becomes Hello World\n",
    "    \n",
    "    print(X)\n",
    "    \n",
    "hello(\"HWLLO wORLD\") #this is arguement"
   ]
  },
  {
   "cell_type": "code",
   "execution_count": 36,
   "metadata": {},
   "outputs": [
    {
     "name": "stdout",
     "output_type": "stream",
     "text": [
      "20\n"
     ]
    }
   ],
   "source": [
    "def area(l,b):\n",
    "    a = l*b\n",
    "    print(a)\n",
    "area(10,2)\n",
    "    "
   ]
  },
  {
   "cell_type": "code",
   "execution_count": 38,
   "metadata": {},
   "outputs": [
    {
     "name": "stdout",
     "output_type": "stream",
     "text": [
      "Enter value of l: 5\n",
      "Enter value of b: 1\n",
      "5\n"
     ]
    }
   ],
   "source": [
    "def area(l,b):\n",
    "    a = l*b\n",
    "    print(a)\n",
    "    \n",
    "l = int(input(\"Enter value of l: \"))\n",
    "b = int(input(\"Enter value of b: \"))\n",
    "area(l,b)\n",
    "    "
   ]
  },
  {
   "cell_type": "code",
   "execution_count": 42,
   "metadata": {},
   "outputs": [
    {
     "name": "stdout",
     "output_type": "stream",
     "text": [
      "C++\n",
      "C#\n",
      "Java\n",
      "Python\n"
     ]
    }
   ],
   "source": [
    "def language(lan = \"Python\"):\n",
    "    print(lan)\n",
    "    \n",
    "language(\"C++\")\n",
    "language(\"C#\")\n",
    "language(\"Java\")\n",
    "language()\n"
   ]
  },
  {
   "cell_type": "code",
   "execution_count": 45,
   "metadata": {},
   "outputs": [
    {
     "name": "stdout",
     "output_type": "stream",
     "text": [
      "Enter ther value of a:5\n",
      "Enter the + - * /: *\n",
      "Enter ther value of b:5\n",
      "25\n"
     ]
    }
   ],
   "source": [
    "a = int(input(\"Enter ther value of a:\"))\n",
    "o = input(\"Enter the + - * /: \")\n",
    "b = int(input(\"Enter ther value of b:\"))\n",
    "\n",
    "if o == \"+\":\n",
    "    print(a+b)\n",
    "elif o == \"-\":\n",
    "    print(a-b)\n",
    "elif o == \"*\":\n",
    "    print(a*b)\n",
    "elif o == \"/\":\n",
    "    print(a/b)\n",
    "else:\n",
    "    print(\"Invalid operetor\")\n",
    "    \n",
    "\n",
    "\n"
   ]
  },
  {
   "cell_type": "code",
   "execution_count": 2,
   "metadata": {},
   "outputs": [
    {
     "name": "stdout",
     "output_type": "stream",
     "text": [
      "Enter value of n: 1\n",
      "Enter ther value of a:2\n",
      "Enter the + - * /: +\n",
      "Enter ther value of b:2\n",
      "4\n"
     ]
    }
   ],
   "source": [
    "def calc(x,y,z):\n",
    "    \n",
    "    if y == \"+\":\n",
    "        print(x+z)\n",
    "        \n",
    "    elif y == \"-\":\n",
    "        print(x-z)\n",
    "        \n",
    "    elif y == \"*\":\n",
    "        print(x*z)\n",
    "        \n",
    "    elif y == \"/\":\n",
    "        print(x/z)\n",
    "        \n",
    "    else:\n",
    "        print(\"Invalid operetor\")\n",
    "\n",
    "n = int(input(\"Enter value of n: \"))\n",
    "for i in range(n):\n",
    "    a = int(input(\"Enter ther value of a:\"))\n",
    "    o = input(\"Enter the + - * /: \")\n",
    "    b = int(input(\"Enter ther value of b:\"))\n",
    "\n",
    "    calc(a,o,b)\n",
    "\n",
    "\n"
   ]
  },
  {
   "cell_type": "code",
   "execution_count": 5,
   "metadata": {},
   "outputs": [
    {
     "data": {
      "text/plain": [
       "'Hello '"
      ]
     },
     "execution_count": 5,
     "metadata": {},
     "output_type": "execute_result"
    }
   ],
   "source": [
    "#function without arguement and return type\n",
    "def hello():\n",
    "    return \"Hello \"\n",
    "hello()"
   ]
  },
  {
   "cell_type": "code",
   "execution_count": 7,
   "metadata": {},
   "outputs": [
    {
     "name": "stdout",
     "output_type": "stream",
     "text": [
      "Hello \n"
     ]
    }
   ],
   "source": [
    "#function without arguement and return type\n",
    "def hello():\n",
    "    return \"Hello \"\n",
    "print(hello())"
   ]
  },
  {
   "cell_type": "code",
   "execution_count": 10,
   "metadata": {},
   "outputs": [
    {
     "name": "stdout",
     "output_type": "stream",
     "text": [
      "600\n"
     ]
    }
   ],
   "source": [
    "#function w/o argument but return type\n",
    "def cal():\n",
    "    l = 20\n",
    "    b = 30\n",
    "    a = l*b\n",
    "    return a\n",
    "print(cal())"
   ]
  },
  {
   "cell_type": "code",
   "execution_count": 15,
   "metadata": {},
   "outputs": [
    {
     "name": "stdout",
     "output_type": "stream",
     "text": [
      "Enter the value of L: 5\n",
      "Enter the value of b: 2\n",
      "The area is , 10\n"
     ]
    }
   ],
   "source": [
    "#function w/o argument but return type\n",
    "def cal():\n",
    "    l = int(input(\"Enter the value of L: \"))\n",
    "    b = int(input(\"Enter the value of b: \"))\n",
    "    a = l*b\n",
    "    return a\n",
    "\n",
    "ar = cal()\n",
    "print(\"The area is ,\",ar)"
   ]
  },
  {
   "cell_type": "code",
   "execution_count": 18,
   "metadata": {},
   "outputs": [
    {
     "name": "stdout",
     "output_type": "stream",
     "text": [
      "Enter the value of L: 5\n",
      "Enter the value of b: 2\n",
      "The area is , 10\n",
      "Enter value of h: 3\n",
      "Enter the value of L: 2\n",
      "Enter the value of b: 2\n",
      "The volu,e is  12\n"
     ]
    }
   ],
   "source": [
    "#function w/o argument but return type\n",
    "def cal():\n",
    "    l = int(input(\"Enter the value of L: \"))\n",
    "    b = int(input(\"Enter the value of b: \"))\n",
    "    a = l*b\n",
    "    return a\n",
    "\n",
    "ar = cal()\n",
    "print(\"The area is ,\",ar)\n",
    "h = int(input(\"Enter value of h: \"))\n",
    "v = ar*h\n",
    "print(\"The volu,e is \",v)"
   ]
  },
  {
   "cell_type": "code",
   "execution_count": 24,
   "metadata": {},
   "outputs": [
    {
     "name": "stdout",
     "output_type": "stream",
     "text": [
      "Enter l: 2\n",
      "Enter b: 2\n",
      "Enter h: 2\n",
      "The area is  4\n",
      "The volume is 8\n"
     ]
    }
   ],
   "source": [
    "#function w/o argument but return type\n",
    "def cal():\n",
    "    l = int(input(\"Enter l: \"))\n",
    "    b = int(input(\"Enter b: \"))\n",
    "    h = int(input(\"Enter h: \"))\n",
    "    a = l*b\n",
    "    v = a*h\n",
    "    return a,v\n",
    "\n",
    "area , volume = cal()\n",
    "print(\"The area is \",area)\n",
    "print(\"The volume is\",volume)\n"
   ]
  },
  {
   "cell_type": "code",
   "execution_count": 33,
   "metadata": {},
   "outputs": [
    {
     "name": "stdout",
     "output_type": "stream",
     "text": [
      "Enter l: 1\n",
      "Enter b: 1\n",
      "Enter h: 1\n",
      "The area is  1 meter square\n",
      "The volume is 1 meter cube\n"
     ]
    }
   ],
   "source": [
    "#function w/o argument but return type\n",
    "def cal():\n",
    "    l = int(input(\"Enter l: \",))\n",
    "    b = int(input(\"Enter b: \"))\n",
    "    h = int(input(\"Enter h: \"))\n",
    "    a = l*b\n",
    "    v = a*h\n",
    "    d = {\"Area\":a,\"Volume\":v}\n",
    "    return d\n",
    "value = cal()\n",
    "\n",
    "area = value[\"Area\"]\n",
    "volume = value[\"Volume\"]\n",
    "#area , volume = cal()\n",
    "print(\"The area is \",area,\"meter square\")\n",
    "print(\"The volume is\",volume,\"meter cube\")\n"
   ]
  },
  {
   "cell_type": "code",
   "execution_count": 39,
   "metadata": {},
   "outputs": [
    {
     "name": "stdout",
     "output_type": "stream",
     "text": [
      "Hello World\n"
     ]
    }
   ],
   "source": [
    "#function with arguement and return type\n",
    "def hello(x,y):\n",
    "    z = x+y\n",
    "    return z\n",
    "print(hello(\"Hello \",\"World\"))"
   ]
  },
  {
   "cell_type": "code",
   "execution_count": 42,
   "metadata": {},
   "outputs": [
    {
     "name": "stdout",
     "output_type": "stream",
     "text": [
      "Enter l: 10\n",
      "Enter b: 20\n",
      "Enter h: 30\n",
      "The area is  200\n",
      "The volume is  6000\n"
     ]
    }
   ],
   "source": [
    "#function with arguement and return type\n",
    "def cal(l,b,h):\n",
    "    a = l*b\n",
    "    v = l*b*h\n",
    "    return a,v\n",
    "\n",
    "l = int(input(\"Enter l: \"))\n",
    "b = int(input(\"Enter b: \"))\n",
    "h = int(input(\"Enter h: \"))\n",
    "area,volume = cal(l,b,h)\n",
    "print(\"The area is \",area)\n",
    "print(\"The volume is \",volume)"
   ]
  },
  {
   "cell_type": "code",
   "execution_count": 45,
   "metadata": {},
   "outputs": [
    {
     "name": "stdout",
     "output_type": "stream",
     "text": [
      "Enter l: 2\n",
      "Enter b: 2\n",
      "Enter h: 2\n"
     ]
    },
    {
     "ename": "TypeError",
     "evalue": "'NoneType' object is not subscriptable",
     "output_type": "error",
     "traceback": [
      "\u001b[1;31m---------------------------------------------------------------------------\u001b[0m",
      "\u001b[1;31mTypeError\u001b[0m                                 Traceback (most recent call last)",
      "\u001b[1;32m<ipython-input-45-6c2674e187d9>\u001b[0m in \u001b[0;36m<module>\u001b[1;34m\u001b[0m\n\u001b[0;32m     10\u001b[0m \u001b[1;33m\u001b[0m\u001b[0m\n\u001b[0;32m     11\u001b[0m \u001b[0mz\u001b[0m \u001b[1;33m=\u001b[0m \u001b[0mcal\u001b[0m\u001b[1;33m(\u001b[0m\u001b[0ml\u001b[0m\u001b[1;33m,\u001b[0m\u001b[0mb\u001b[0m\u001b[1;33m,\u001b[0m\u001b[0mh\u001b[0m\u001b[1;33m)\u001b[0m\u001b[1;33m\u001b[0m\u001b[1;33m\u001b[0m\u001b[0m\n\u001b[1;32m---> 12\u001b[1;33m \u001b[0mprint\u001b[0m\u001b[1;33m(\u001b[0m\u001b[1;34m\"The area is \"\u001b[0m\u001b[1;33m,\u001b[0m\u001b[0mz\u001b[0m\u001b[1;33m[\u001b[0m\u001b[1;36m0\u001b[0m\u001b[1;33m]\u001b[0m\u001b[1;33m)\u001b[0m\u001b[1;33m\u001b[0m\u001b[1;33m\u001b[0m\u001b[0m\n\u001b[0m\u001b[0;32m     13\u001b[0m \u001b[0mprint\u001b[0m\u001b[1;33m(\u001b[0m\u001b[1;34m\"The volume is \"\u001b[0m\u001b[1;33m,\u001b[0m\u001b[0mz\u001b[0m\u001b[1;33m[\u001b[0m\u001b[1;36m1\u001b[0m\u001b[1;33m]\u001b[0m\u001b[1;33m)\u001b[0m\u001b[1;33m\u001b[0m\u001b[1;33m\u001b[0m\u001b[0m\n",
      "\u001b[1;31mTypeError\u001b[0m: 'NoneType' object is not subscriptable"
     ]
    }
   ],
   "source": [
    "#function with arguement and return type\n",
    "def cal(l,b,h):\n",
    "    a = l*b\n",
    "    v = l*b*h\n",
    "    return a,v\n",
    "\n",
    "l = int(input(\"Enter l: \"))\n",
    "b = int(input(\"Enter b: \"))\n",
    "h = int(input(\"Enter h: \"))\n",
    "\n",
    "z = cal(l,b,h)\n",
    "print(\"The area is \",z[0])\n",
    "print(\"The volume is \",z[1])"
   ]
  },
  {
   "cell_type": "code",
   "execution_count": 49,
   "metadata": {},
   "outputs": [
    {
     "name": "stdout",
     "output_type": "stream",
     "text": [
      "The area is  200\n",
      "The volume is  6000\n"
     ]
    }
   ],
   "source": [
    "def area(l,b):\n",
    "    a = l*b\n",
    "    return a\n",
    "def volume(l,b,h):\n",
    "    #v = l*b*h\n",
    "    v = area(l,b)*h\n",
    "    return v\n",
    "\n",
    "ar = area(10,20)\n",
    "vl = volume(10,20,30)\n",
    "\n",
    "\n",
    "print(\"The area is \",ar)\n",
    "print(\"The volume is \",vl)\n"
   ]
  },
  {
   "cell_type": "code",
   "execution_count": 50,
   "metadata": {},
   "outputs": [
    {
     "name": "stdout",
     "output_type": "stream",
     "text": [
      "Enter value of l: 2\n",
      "Enter value of b: 5\n",
      "Enter value of h: 8\n",
      "The area is  10\n",
      "The volume is  80\n"
     ]
    }
   ],
   "source": [
    "def area(l,b):\n",
    "    a = l*b\n",
    "    return a\n",
    "def volume(l,b,h):\n",
    "    #v = l*b*h\n",
    "    v = area(l,b)*h\n",
    "    return v\n",
    "l = int(input(\"Enter value of l: \"))\n",
    "b = int(input(\"Enter value of b: \"))\n",
    "h = int(input(\"Enter value of h: \"))\n",
    "ar = area(l,b)\n",
    "vl = volume(l,b,h)\n",
    "\n",
    "print(\"The area is \",ar)\n",
    "print(\"The volume is \",vl)\n",
    "\n",
    "\n"
   ]
  },
  {
   "cell_type": "code",
   "execution_count": 64,
   "metadata": {},
   "outputs": [
    {
     "name": "stdout",
     "output_type": "stream",
     "text": [
      "Enter value of a: 5\n",
      "Enter value of b: 0\n",
      "Enter syntax + - / *: +\n",
      "5\n"
     ]
    }
   ],
   "source": [
    "def add(a,b):\n",
    "    return a+b\n",
    "\n",
    "def sub(a,b):\n",
    "    return a-b\n",
    "\n",
    "def mult(a,b):\n",
    "    return a*b\n",
    "\n",
    "def div(a,b):\n",
    "    return a/b\n",
    "\n",
    "def calc():\n",
    "    a = int(input(\"Enter value of a: \"))\n",
    "    b = int(input(\"Enter value of b: \"))\n",
    "    c = input(\"Enter syntax + - / *: \")\n",
    "    \n",
    "    if c == \"+\":\n",
    "        print(add(a,b))\n",
    "    \n",
    "    elif c == \"-\":\n",
    "        print(sub(a,b))\n",
    "    \n",
    "    elif c == \"*\":\n",
    "        print(mult(a,b))\n",
    "    \n",
    "    elif c == \"/\":\n",
    "        print(div(a,b))\n",
    "    \n",
    "    else:\n",
    "        print(\"Invalid syntax\")\n",
    "        \n",
    "calc()\n",
    "        \n",
    "    "
   ]
  },
  {
   "cell_type": "code",
   "execution_count": 65,
   "metadata": {},
   "outputs": [
    {
     "name": "stdout",
     "output_type": "stream",
     "text": [
      "Ram\n",
      "56\n",
      "Kathmandu\n"
     ]
    }
   ],
   "source": [
    "def list(l):\n",
    "    for i in l:\n",
    "        print(i)\n",
    "l = [\"Ram\",56,\"Kathmandu\"]\n",
    "list(l)"
   ]
  },
  {
   "cell_type": "code",
   "execution_count": 66,
   "metadata": {},
   "outputs": [
    {
     "name": "stdout",
     "output_type": "stream",
     "text": [
      "Enter value of a: 2\n",
      "Enter value of b: 3\n",
      "Enter syntax + - / *: +\n",
      "5\n"
     ]
    }
   ],
   "source": [
    "def add(a,b):\n",
    "    return a+b\n",
    "\n",
    "def sub(a,b):\n",
    "    return a-b\n",
    "\n",
    "def mult(a,b):\n",
    "    return a*b\n",
    "\n",
    "def div(a,b):\n",
    "    return a/b\n",
    "\n",
    "def calc(a,b,c):\n",
    "  \n",
    "    \n",
    "    if c == \"+\":\n",
    "        print(add(a,b))\n",
    "    \n",
    "    elif c == \"-\":\n",
    "        print(sub(a,b))\n",
    "    \n",
    "    elif c == \"*\":\n",
    "        print(mult(a,b))\n",
    "    \n",
    "    elif c == \"/\":\n",
    "        print(div(a,b))\n",
    "    \n",
    "    else:\n",
    "        print(\"Invalid syntax\")\n",
    "\n",
    "        \n",
    "a = int(input(\"Enter value of a: \"))\n",
    "b = int(input(\"Enter value of b: \"))\n",
    "c = input(\"Enter syntax + - / *: \")\n",
    "calc(a,b,c)\n",
    "        \n",
    "    "
   ]
  }
 ],
 "metadata": {
  "kernelspec": {
   "display_name": "Python 3",
   "language": "python",
   "name": "python3"
  },
  "language_info": {
   "codemirror_mode": {
    "name": "ipython",
    "version": 3
   },
   "file_extension": ".py",
   "mimetype": "text/x-python",
   "name": "python",
   "nbconvert_exporter": "python",
   "pygments_lexer": "ipython3",
   "version": "3.8.5"
  }
 },
 "nbformat": 4,
 "nbformat_minor": 4
}
