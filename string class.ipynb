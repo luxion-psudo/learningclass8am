{
 "cells": [
  {
   "cell_type": "code",
   "execution_count": 10,
   "metadata": {},
   "outputs": [
    {
     "name": "stdout",
     "output_type": "stream",
     "text": [
      "1505,1540,1575,1610,1645,1680,1715,1750,1785,1820,1855,1890,1925,1960,1995,2030,2065,2100,2135,2170,2205,2240,2275,2310,2345,2380,2415,2450,2485,2520,2555,2590,2625,2660,2695,"
     ]
    }
   ],
   "source": []
  },
  {
   "cell_type": "code",
   "execution_count": null,
   "metadata": {},
   "outputs": [
    {
     "name": "stdout",
     "output_type": "stream",
     "text": [
      "Enter c or f: c\n",
      "you choosed celcious\n"
     ]
    }
   ],
   "source": []
  },
  {
   "cell_type": "code",
   "execution_count": 13,
   "metadata": {},
   "outputs": [
    {
     "name": "stdout",
     "output_type": "stream",
     "text": [
      "<class 'str'>\n",
      "H\n",
      "Hello\n",
      " World\n",
      "HloWrd\n",
      "HlWl\n",
      "11\n",
      "Hello WorldHello WorldHello WorldHello World\n"
     ]
    }
   ],
   "source": [
    "a = \"Hello World\"\n",
    "print(type(a))\n",
    "print(a[0])\n",
    "print(a[0:5])\n",
    "print(a[5:])\n",
    "print(a[0::2])\n",
    "print(a[0::3])\n",
    "\n",
    "b = len(a)\n",
    "print(b)\n",
    "a[b::-1]\n",
    "print(a*4)"
   ]
  },
  {
   "cell_type": "code",
   "execution_count": 11,
   "metadata": {},
   "outputs": [
    {
     "name": "stdout",
     "output_type": "stream",
     "text": [
      "Hello World\n"
     ]
    }
   ],
   "source": [
    "a = \"Hello \"\n",
    "b = \"World\"\n",
    "print(a+b)"
   ]
  },
  {
   "cell_type": "code",
   "execution_count": null,
   "metadata": {},
   "outputs": [],
   "source": [
    "#search  and count\n",
    "#string formatting\n",
    "#split\n",
    "#replace"
   ]
  },
  {
   "cell_type": "code",
   "execution_count": 15,
   "metadata": {},
   "outputs": [
    {
     "name": "stdout",
     "output_type": "stream",
     "text": [
      "Yes\n"
     ]
    }
   ],
   "source": [
    "#Search in string\n",
    "a = \"Ram Shyam Hari Ram Neha\"\n",
    "if \"Ram\" in a:\n",
    "    print(\"Yes\")\n",
    "else:\n",
    "    print(\"No\")"
   ]
  },
  {
   "cell_type": "code",
   "execution_count": 19,
   "metadata": {},
   "outputs": [
    {
     "name": "stdout",
     "output_type": "stream",
     "text": [
      "ENter a value for searchRam\n",
      "Yes\n",
      "2\n"
     ]
    }
   ],
   "source": [
    "#Search and count in string\n",
    "a = \"Ram Shyam Hari Ram Neha\"\n",
    "search = input(\"ENter a value for search\")\n",
    "if \"search in a:\n",
    "    print(\"Yes\")\n",
    "    print(a.count(search))\n",
    "else:\n",
    "    print(\"No\")"
   ]
  },
  {
   "cell_type": "code",
   "execution_count": 20,
   "metadata": {},
   "outputs": [
    {
     "name": "stdout",
     "output_type": "stream",
     "text": [
      "ram Shyam Hari ram Neha\n"
     ]
    }
   ],
   "source": [
    "#replace\n",
    "a = \"Ram Shyam Hari Ram Neha\"\n",
    "b = a.replace(\"Ram\",\"ram\")\n",
    "print(b)"
   ]
  },
  {
   "cell_type": "code",
   "execution_count": 21,
   "metadata": {},
   "outputs": [
    {
     "name": "stdout",
     "output_type": "stream",
     "text": [
      " Shyam Hari  Neha\n"
     ]
    }
   ],
   "source": [
    "#replace by removing\n",
    "a = \"Ram Shyam Hari Ram Neha\"\n",
    "b = a.replace(\"Ram\",\"\")\n",
    "print(b)"
   ]
  },
  {
   "cell_type": "code",
   "execution_count": 26,
   "metadata": {},
   "outputs": [
    {
     "name": "stdout",
     "output_type": "stream",
     "text": [
      "ENter a value for searchRaM\n",
      "Yes\n",
      "2\n"
     ]
    }
   ],
   "source": [
    "#Search and count in string\n",
    "a = \"Ram Shyam Hari Ram Neha\".lower()\n",
    "search = input(\"ENter a value for search\").lower()\n",
    "if search in a:\n",
    "    print(\"Yes\")\n",
    "    print(a.count(search))\n",
    "else:\n",
    "    print(\"No\")"
   ]
  },
  {
   "cell_type": "code",
   "execution_count": 24,
   "metadata": {},
   "outputs": [
    {
     "data": {
      "text/plain": [
       "'RAM'"
      ]
     },
     "execution_count": 24,
     "metadata": {},
     "output_type": "execute_result"
    }
   ],
   "source": [
    "a = \"Ram\"\n",
    "a.upper()"
   ]
  },
  {
   "cell_type": "code",
   "execution_count": 25,
   "metadata": {},
   "outputs": [
    {
     "data": {
      "text/plain": [
       "'ram'"
      ]
     },
     "execution_count": 25,
     "metadata": {},
     "output_type": "execute_result"
    }
   ],
   "source": [
    "a.lower()"
   ]
  },
  {
   "cell_type": "code",
   "execution_count": 1,
   "metadata": {},
   "outputs": [
    {
     "name": "stdout",
     "output_type": "stream",
     "text": [
      "Enter nameRam\n",
      "Enter phone465546456\n",
      "Ram 465546456\n"
     ]
    }
   ],
   "source": [
    "# string fotrmatting\n",
    "# name = \"Ram\"\n",
    "# phone = 98345345\n",
    "# info = name+str(phone)\n",
    "# info\n",
    "name = input(\"Enter name\")\n",
    "phone = int(input(\"Enter phone\"))\n",
    "data = f\"{name} {phone}\"\n",
    "print(data)"
   ]
  },
  {
   "cell_type": "code",
   "execution_count": 2,
   "metadata": {},
   "outputs": [
    {
     "name": "stdout",
     "output_type": "stream",
     "text": [
      "Enter nameRam\n",
      "Enter phone9867665654\n",
      "Hello I am Ram. My phone no is 9867665654\n"
     ]
    }
   ],
   "source": [
    "# string fotrmatting\n",
    "\n",
    "name = input(\"Enter name\")\n",
    "phone = int(input(\"Enter phone\"))\n",
    "data = f\"Hello I am {name}. My phone no is {phone}\"\n",
    "print(data)"
   ]
  },
  {
   "cell_type": "code",
   "execution_count": 3,
   "metadata": {},
   "outputs": [
    {
     "name": "stdout",
     "output_type": "stream",
     "text": [
      "Enetr n = 2\n",
      "Enter nameRam\n",
      "Enter phone9856554543\n",
      "Enter nameShyam\n",
      "Enter phone9867665654\n",
      "Ram 9856554543\n",
      "Shyam 9867665654\n",
      "\n"
     ]
    }
   ],
   "source": [
    "info = str()\n",
    "n = int(input(\"Enetr n = \"))\n",
    "for i in range(n):\n",
    "    name = input(\"Enter name\")\n",
    "    phone = int(input(\"Enter phone\"))\n",
    "    data = f\"{name} {phone}\\n\"\n",
    "    info = info+data\n",
    "print(info)"
   ]
  },
  {
   "cell_type": "code",
   "execution_count": 6,
   "metadata": {},
   "outputs": [
    {
     "name": "stdout",
     "output_type": "stream",
     "text": [
      "Enetr n = 2\n",
      "Enter namechauchau\n",
      "Enter phone20\n",
      "Enter quantity2\n",
      "Enter namebiscuit\n",
      "Enter phone10\n",
      "Enter quantity3\n",
      "chauchau 20 2 40\n",
      "biscuit 10 3 30\n",
      "\n",
      "70\n"
     ]
    }
   ],
   "source": [
    "info = \"\"\n",
    "grand_total = 0\n",
    "n = int(input(\"Enetr n = \"))\n",
    "for i in range(n):\n",
    "    name = input(\"Enter name\")\n",
    "    price = int(input(\"Enter phone\"))\n",
    "    quantity = int(input(\"Enter quantity\"))\n",
    "    total = price*quantity\n",
    "    \n",
    "    data = f\"{name} {price} {quantity} {total}\\n\"\n",
    "    grand_total = grand_total+total\n",
    "    info = info+data\n",
    "print(info)\n",
    "print(grand_total)"
   ]
  },
  {
   "cell_type": "code",
   "execution_count": 8,
   "metadata": {},
   "outputs": [
    {
     "data": {
      "text/plain": [
       "['Apple', 'Ball', 'Wai-Wai']"
      ]
     },
     "execution_count": 8,
     "metadata": {},
     "output_type": "execute_result"
    }
   ],
   "source": [
    "a = \"Apple Ball Wai-Wai\"\n",
    "b =a.split()\n",
    "b"
   ]
  },
  {
   "cell_type": "code",
   "execution_count": 9,
   "metadata": {},
   "outputs": [
    {
     "data": {
      "text/plain": [
       "'Apple'"
      ]
     },
     "execution_count": 9,
     "metadata": {},
     "output_type": "execute_result"
    }
   ],
   "source": [
    "b[0]"
   ]
  },
  {
   "cell_type": "code",
   "execution_count": 10,
   "metadata": {},
   "outputs": [
    {
     "name": "stdout",
     "output_type": "stream",
     "text": [
      "chauchau 20 2 40\n",
      "biscuit 10 3 30\n"
     ]
    }
   ],
   "source": [
    "a = \"chauchau 20 2 40\\nbiscuit 10 3 30\"\n",
    "print(a)"
   ]
  },
  {
   "cell_type": "code",
   "execution_count": 11,
   "metadata": {},
   "outputs": [
    {
     "data": {
      "text/plain": [
       "['chauchau 20 2 40', 'biscuit 10 3 30']"
      ]
     },
     "execution_count": 11,
     "metadata": {},
     "output_type": "execute_result"
    }
   ],
   "source": [
    "a.split('\\n')"
   ]
  },
  {
   "cell_type": "code",
   "execution_count": null,
   "metadata": {},
   "outputs": [],
   "source": [
    "xtmns2e\n"
   ]
  }
 ],
 "metadata": {
  "kernelspec": {
   "display_name": "Python 3",
   "language": "python",
   "name": "python3"
  },
  "language_info": {
   "codemirror_mode": {
    "name": "ipython",
    "version": 3
   },
   "file_extension": ".py",
   "mimetype": "text/x-python",
   "name": "python",
   "nbconvert_exporter": "python",
   "pygments_lexer": "ipython3",
   "version": "3.8.5"
  }
 },
 "nbformat": 4,
 "nbformat_minor": 4
}
