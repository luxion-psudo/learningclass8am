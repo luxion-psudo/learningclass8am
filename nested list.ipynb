{
 "cells": [
  {
   "cell_type": "code",
   "execution_count": 1,
   "metadata": {},
   "outputs": [],
   "source": [
    "#lis inside list / multidimesnsional array\n"
   ]
  },
  {
   "cell_type": "code",
   "execution_count": 13,
   "metadata": {},
   "outputs": [
    {
     "name": "stdout",
     "output_type": "stream",
     "text": [
      "[[1, 2, 3], [4, 5, 6]]\n"
     ]
    }
   ],
   "source": [
    "a = [[1,2,3],\n",
    "     [4,5,6],\n",
    "     [7,8,9]]\n",
    "len(a)\n",
    "a[0]\n",
    "a[1]\n",
    "a[2]\n",
    "a[0][0]\n",
    "print(a[0:2])\n",
    "\n",
    "\n",
    "\n",
    "\n"
   ]
  },
  {
   "cell_type": "code",
   "execution_count": 21,
   "metadata": {},
   "outputs": [
    {
     "name": "stdout",
     "output_type": "stream",
     "text": [
      "[[1, 2, 3], [4, 5, 6], [7, 8, 9]]\n",
      "[[1, 2, 3], [4, 5, 6], [1, 2, 3], [4, 5, 6]]\n"
     ]
    }
   ],
   "source": [
    "a = [[1,2,3],[4,5,6]]\n",
    "b = [[7,8,9]]\n",
    "\n",
    "print(a+b)\n",
    "\n",
    "print(a*2)"
   ]
  },
  {
   "cell_type": "code",
   "execution_count": 34,
   "metadata": {},
   "outputs": [
    {
     "name": "stdout",
     "output_type": "stream",
     "text": [
      "Enter the value of n: 2\n",
      "Enter name: ram\n",
      "Enter age: 45\n",
      "Enter address: ktm\n",
      "Enter name: sam\n",
      "Enter age: 23\n",
      "Enter address: sss\n",
      "[[1, 'ram', '45', 'ktm'], [2, 'sam', '23', 'sss']]\n",
      "[1, 'ram', '45', 'ktm']\n",
      "[2, 'sam', '23', 'sss']\n"
     ]
    }
   ],
   "source": [
    "data = []\n",
    "n = int(input(\"Enter the value of n: \"))\n",
    "for i in range(1,n+1):\n",
    "    name = input(\"Enter name: \")\n",
    "    age = input(\"Enter age: \")\n",
    "    add = input(\"Enter address: \")\n",
    "    info = [[i,name,age,add]]\n",
    "    data = data+info\n",
    "    \n",
    "print(data)\n",
    "\n",
    "for i in data:\n",
    "    print(i)\n",
    "    \n"
   ]
  },
  {
   "cell_type": "code",
   "execution_count": 35,
   "metadata": {},
   "outputs": [
    {
     "name": "stdout",
     "output_type": "stream",
     "text": [
      "Enter sn: 2\n"
     ]
    },
    {
     "data": {
      "text/plain": [
       "[2, 'sam', '23', 'sss']"
      ]
     },
     "execution_count": 35,
     "metadata": {},
     "output_type": "execute_result"
    }
   ],
   "source": [
    "sn = int(input(\"Enter sn: \"))\n",
    "data[sn-1]"
   ]
  },
  {
   "cell_type": "code",
   "execution_count": 31,
   "metadata": {},
   "outputs": [
    {
     "name": "stdout",
     "output_type": "stream",
     "text": [
      "No\n"
     ]
    }
   ],
   "source": [
    "if \"ram\" in data:\n",
    "    print(\"Yes\") #ans is no beause list's all value shoukd be added\n",
    "else:\n",
    "    print(\"No\")"
   ]
  },
  {
   "cell_type": "code",
   "execution_count": 41,
   "metadata": {},
   "outputs": [
    {
     "name": "stdout",
     "output_type": "stream",
     "text": [
      "enter searching value: 1\n",
      "No\n",
      "No\n",
      "No\n"
     ]
    }
   ],
   "source": [
    "a = [[\"Ram\",25,'Ktm'],['Sam',48,'lalaitpur'],['hari',28,'bhakt']]\n",
    "search = input(\"enter searching value: \")\n",
    "for i in a:\n",
    "    if search in i:\n",
    "        print(i)\n",
    "        print(\"Yes\")\n",
    "    else:\n",
    "        print(\"No\")"
   ]
  },
  {
   "cell_type": "code",
   "execution_count": 42,
   "metadata": {},
   "outputs": [],
   "source": [
    "#WAP for billing system using nested loops "
   ]
  },
  {
   "cell_type": "code",
   "execution_count": null,
   "metadata": {},
   "outputs": [],
   "source": []
  },
  {
   "cell_type": "code",
   "execution_count": 2,
   "metadata": {},
   "outputs": [
    {
     "name": "stdout",
     "output_type": "stream",
     "text": [
      "Enter the quantaity of goods: 2\n",
      "Enter the name of product: a\n",
      "Enter the quantity of product: 2\n",
      "Enter the price: 10\n",
      "Enter the name of product: b\n",
      "Enter the quantity of product: 1\n",
      "Enter the price: 20\n",
      "[['a', '-', 2, '*', 10, '=', 20], ['b', '-', 1, '*', 20, '=', 20]]\n",
      "Grandtotal is  40\n"
     ]
    }
   ],
   "source": [
    "l = []\n",
    "gt = 0\n",
    "n = int(input(\"Enter the quantaity of goods: \"))\n",
    "for i in range(n):\n",
    "    name = input(\"Enter the name of product: \")\n",
    "    quantity = int(input(\"Enter the quantity of product: \"))\n",
    "    price = int(input(\"Enter the price: \"))\n",
    "    total = quantity * price\n",
    "    info = [[name,'-',quantity,'*',price,'=',total]]\n",
    "    l = l+info\n",
    "    gt = total+gt\n",
    "print(l)\n",
    "print(\"Grandtotal is \",gt)\n",
    "    "
   ]
  },
  {
   "cell_type": "code",
   "execution_count": 8,
   "metadata": {},
   "outputs": [
    {
     "ename": "SyntaxError",
     "evalue": "invalid syntax (<ipython-input-8-a6c30b2aae6a>, line 18)",
     "output_type": "error",
     "traceback": [
      "\u001b[1;36m  File \u001b[1;32m\"<ipython-input-8-a6c30b2aae6a>\"\u001b[1;36m, line \u001b[1;32m18\u001b[0m\n\u001b[1;33m    for i in l:\u001b[0m\n\u001b[1;37m              ^\u001b[0m\n\u001b[1;31mSyntaxError\u001b[0m\u001b[1;31m:\u001b[0m invalid syntax\n"
     ]
    }
   ],
   "source": [
    "#using append\n",
    "l = []\n",
    "gt = 0\n",
    "n = int(input(\"Enter the quantaity of goods: \"))\n",
    "for i in range(n):\n",
    "    name = input(\"Enter the name of product: \")\n",
    "    quantity = int(input(\"Enter the quantity of product: \"))\n",
    "    price = int(input(\"Enter the price: \"))\n",
    "    total = quantity * price\n",
    "    info = [[name,'-',quantity,'*',price,'=',total]]\n",
    "    gt = total+gt\n",
    "    l.append(info)\n",
    "    \n",
    "print(l)\n",
    "print(\"Grandtotal is \",gt)\n",
    "    "
   ]
  },
  {
   "cell_type": "code",
   "execution_count": 11,
   "metadata": {},
   "outputs": [
    {
     "name": "stdout",
     "output_type": "stream",
     "text": [
      "ENter the searching item: biscuit\n",
      "[[['biscuit', '-', 5, '*', 50, '=', 250]], [['chauchau', '-', 10, '*', 20, '=', 200]]]\n"
     ]
    }
   ],
   "source": [
    "search = (input(\"ENter the searching item: \"))\n",
    "for i in l:\n",
    "    if search in i:\n",
    "        l.remove(i)\n",
    "print(l)\n",
    "    "
   ]
  },
  {
   "cell_type": "code",
   "execution_count": 14,
   "metadata": {},
   "outputs": [
    {
     "name": "stdout",
     "output_type": "stream",
     "text": [
      "Enter new quantity: 2\n",
      "Enter index: 1\n",
      "[[1, 'apple', 100, 3, 300], [2, 'ball', 300, 2, 600]]\n"
     ]
    }
   ],
   "source": [
    "a = [[1,'apple',100,3,300],\n",
    "     [2,'ball',300,4,1200]]\n",
    "q = int(input(\"Enter new quantity: \"))\n",
    "i = int(input(\"Enter index: \"))\n",
    "a[i][3] = q\n",
    "price = a[i][2]\n",
    "nt = q*price\n",
    "a[i][4] = nt\n",
    "print(a)\n"
   ]
  },
  {
   "cell_type": "code",
   "execution_count": 16,
   "metadata": {},
   "outputs": [
    {
     "name": "stdout",
     "output_type": "stream",
     "text": [
      "Enter priduct name: ball\n",
      "Enter new quantity: 5\n",
      "[[1, 'apple', 100, 3, 300], [2, 'ball', 300, 5, 1500]]\n"
     ]
    }
   ],
   "source": [
    "a = [[1,'apple',100,3,300],\n",
    "     [2,'ball',300,4,1200]]\n",
    "search = input(\"Enter priduct name: \")\n",
    "for i in range(len(a)):\n",
    "    if search in a[i]:\n",
    "        index = i\n",
    "\n",
    "q = int(input(\"Enter new quantity: \"))\n",
    "#i = int(input(\"Enter index: \"))\n",
    "a[index][3] = q\n",
    "price = a[index][2]\n",
    "nt = q*price\n",
    "a[index][4] = nt\n",
    "print(a)\n"
   ]
  }
 ],
 "metadata": {
  "kernelspec": {
   "display_name": "Python 3",
   "language": "python",
   "name": "python3"
  },
  "language_info": {
   "codemirror_mode": {
    "name": "ipython",
    "version": 3
   },
   "file_extension": ".py",
   "mimetype": "text/x-python",
   "name": "python",
   "nbconvert_exporter": "python",
   "pygments_lexer": "ipython3",
   "version": "3.8.5"
  }
 },
 "nbformat": 4,
 "nbformat_minor": 4
}
