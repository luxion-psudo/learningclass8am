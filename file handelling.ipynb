{
 "cells": [
  {
   "cell_type": "code",
   "execution_count": 77,
   "metadata": {},
   "outputs": [],
   "source": [
    "#file handelling\n",
    "\n",
    "#r  read  default value  opem file for writing\n",
    "#a append  open file for appemding\n",
    "#w write open file for writing\n",
    "#x create create specified file\n",
    "  \n",
    "    \n",
    "#b = open(\"book.text\",\"modes\")\n",
    "# b =open('<file_name>',''<modes>')\n",
    "\n"
   ]
  },
  {
   "cell_type": "code",
   "execution_count": 42,
   "metadata": {},
   "outputs": [
    {
     "name": "stdout",
     "output_type": "stream",
     "text": [
      "The file already exist\n"
     ]
    }
   ],
   "source": [
    "try:\n",
    "    b = open('class8am.txt','x')\n",
    "except:\n",
    "    print(\"The file already exist\")\n",
    "b.close()"
   ]
  },
  {
   "cell_type": "code",
   "execution_count": 54,
   "metadata": {},
   "outputs": [
    {
     "name": "stdout",
     "output_type": "stream",
     "text": [
      "5.Hello World5.Hello World5.Hello World\n"
     ]
    }
   ],
   "source": [
    "b = open('class8am.txt','r')\n",
    "print(b.read())\n",
    "b.close()"
   ]
  },
  {
   "cell_type": "code",
   "execution_count": 56,
   "metadata": {},
   "outputs": [
    {
     "name": "stdout",
     "output_type": "stream",
     "text": [
      "Enter the value of n: 1\n",
      "Enter name: a\n",
      "Enter age: 2\n",
      "Enter address: b\n"
     ]
    }
   ],
   "source": [
    "s = \"\"\n",
    "n = int(input(\"Enter the value of n: \"))\n",
    "for i in range(n):\n",
    "    name = input(\"Enter name: \")\n",
    "    age = int(input(\"Enter age: \"))\n",
    "    add = input(\"Enter address: \")\n",
    "    info = f\"{name}{age}{add}\\n\"\n",
    "    s = s+info\n",
    "    \n",
    "b = open('data.txt','a')\n",
    "b.write(s)\n",
    "b.close()\n"
   ]
  },
  {
   "cell_type": "code",
   "execution_count": 59,
   "metadata": {},
   "outputs": [
    {
     "name": "stdout",
     "output_type": "stream",
     "text": [
      "Enter the value of n: 2\n",
      "Enter name: a\n",
      "Enter age: 2\n",
      "Enter address: a\n",
      "Enter name: q\n",
      "Enter age: 3\n",
      "Enter address: q\n"
     ]
    }
   ],
   "source": [
    "# to open in excel write .csv \n",
    "\n",
    "s = \"\"\n",
    "n = int(input(\"Enter the value of n: \"))\n",
    "for i in range(n):\n",
    "    name = input(\"Enter name: \")\n",
    "    age = int(input(\"Enter age: \"))\n",
    "    add = input(\"Enter address: \")\n",
    "    info = f\"{name}{age}{add}\\n\"\n",
    "    s = s+info\n",
    "    \n",
    "b = open('data.html','a')\n",
    "b.write(s)\n",
    "b.close()\n"
   ]
  },
  {
   "cell_type": "code",
   "execution_count": 62,
   "metadata": {},
   "outputs": [
    {
     "name": "stdout",
     "output_type": "stream",
     "text": [
      "ram25ktm\n",
      "asis29pokhatra\n",
      "\n"
     ]
    }
   ],
   "source": [
    "b = open('data.csv','r')\n",
    "c = b.read()\n",
    "print(c)\n",
    "b.close()"
   ]
  },
  {
   "cell_type": "code",
   "execution_count": 66,
   "metadata": {},
   "outputs": [
    {
     "name": "stdout",
     "output_type": "stream",
     "text": [
      "['ram25ktm', 'asis29pokhatra', '']\n",
      "['ram25ktm', 'asis29pokhatra']\n"
     ]
    }
   ],
   "source": [
    "d = c.split('\\n')\n",
    "print(d)\n",
    "e = d[0:-1]\n",
    "print(e)"
   ]
  },
  {
   "cell_type": "code",
   "execution_count": 68,
   "metadata": {},
   "outputs": [
    {
     "name": "stdout",
     "output_type": "stream",
     "text": [
      "[['ram25ktm'], ['asis29pokhatra']]\n"
     ]
    }
   ],
   "source": [
    "data = []\n",
    "for i in e:\n",
    "    x = i.split(',')\n",
    "    data.append(x)\n",
    "print(data)"
   ]
  },
  {
   "cell_type": "code",
   "execution_count": null,
   "metadata": {},
   "outputs": [],
   "source": [
    "# import os remove file\n",
    "# import shutil copy file\n"
   ]
  },
  {
   "cell_type": "code",
   "execution_count": 74,
   "metadata": {},
   "outputs": [
    {
     "name": "stdout",
     "output_type": "stream",
     "text": [
      "Your file is removed and no such file remain\n"
     ]
    }
   ],
   "source": [
    "import os\n",
    "try:\n",
    "    os.remove('data.csv')\n",
    "except:\n",
    "    print(\"Your file is removed and no such file remain\")"
   ]
  },
  {
   "cell_type": "code",
   "execution_count": 76,
   "metadata": {},
   "outputs": [
    {
     "data": {
      "text/plain": [
       "'my_data'"
      ]
     },
     "execution_count": 76,
     "metadata": {},
     "output_type": "execute_result"
    }
   ],
   "source": [
    "import shutil as s\n",
    "src = 'data.txt'   #source or file to be copied\n",
    "dest = 'my_data'  #destination or where file should be copied\n",
    "s.copy(src,dest)"
   ]
  },
  {
   "cell_type": "code",
   "execution_count": null,
   "metadata": {},
   "outputs": [],
   "source": []
  }
 ],
 "metadata": {
  "kernelspec": {
   "display_name": "Python 3",
   "language": "python",
   "name": "python3"
  },
  "language_info": {
   "codemirror_mode": {
    "name": "ipython",
    "version": 3
   },
   "file_extension": ".py",
   "mimetype": "text/x-python",
   "name": "python",
   "nbconvert_exporter": "python",
   "pygments_lexer": "ipython3",
   "version": "3.8.5"
  }
 },
 "nbformat": 4,
 "nbformat_minor": 4
}
