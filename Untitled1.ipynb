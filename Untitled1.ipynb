{
 "cells": [
  {
   "cell_type": "code",
   "execution_count": null,
   "metadata": {},
   "outputs": [],
   "source": [
    "# list tuple dictionary set"
   ]
  },
  {
   "cell_type": "code",
   "execution_count": 3,
   "metadata": {},
   "outputs": [],
   "source": [
    "# list\n",
    "# -indexing - have each own index\n",
    "# -ordered -  \n",
    "# -duplicate -\n",
    "# -mutable - changable"
   ]
  },
  {
   "cell_type": "code",
   "execution_count": 1,
   "metadata": {},
   "outputs": [
    {
     "name": "stdout",
     "output_type": "stream",
     "text": [
      "Apple\n",
      "Egg\n",
      "['Apple', 'Ball']\n",
      "['Apple', 'Cat', 'Egg']\n",
      "['Egg']\n"
     ]
    }
   ],
   "source": [
    "a = [\"Apple\",\"Ball\",\"Cat\",\"Dog\",\"Egg\"]\n",
    "b = [1,2,3,4,5,6,7]\n",
    "print(a[0])\n",
    "print(a[-1])\n",
    "print(a[0:2])\n",
    "print(a[0::2])"
   ]
  },
  {
   "cell_type": "code",
   "execution_count": 9,
   "metadata": {},
   "outputs": [
    {
     "name": "stdout",
     "output_type": "stream",
     "text": [
      "[]\n",
      "[]\n"
     ]
    }
   ],
   "source": [
    "a = []\n",
    "b = list()\n",
    "print(a)\n",
    "print(b)"
   ]
  },
  {
   "cell_type": "code",
   "execution_count": 12,
   "metadata": {},
   "outputs": [
    {
     "name": "stdout",
     "output_type": "stream",
     "text": [
      "['Apple', 'Ant']\n"
     ]
    }
   ],
   "source": [
    "a = [\"Ant\"]\n",
    "b = [\"Apple\"]\n",
    "print(b+a)"
   ]
  },
  {
   "cell_type": "code",
   "execution_count": 13,
   "metadata": {},
   "outputs": [
    {
     "data": {
      "text/plain": [
       "['Apple', 'Ball', 'Apple']"
      ]
     },
     "execution_count": 13,
     "metadata": {},
     "output_type": "execute_result"
    }
   ],
   "source": [
    "a = [\"Apple\",\"Ball\",\"Apple\"]\n",
    "a"
   ]
  },
  {
   "cell_type": "code",
   "execution_count": null,
   "metadata": {},
   "outputs": [],
   "source": [
    "l = []\n",
    "n = int(input(\"Enter n = \"))\n",
    "for i in range(n):\n",
    "    x = int(input(\"Enter x = \"))\n",
    "    l = l+[x]\n",
    "    \n",
    "print(l)"
   ]
  },
  {
   "cell_type": "code",
   "execution_count": 3,
   "metadata": {},
   "outputs": [
    {
     "name": "stdout",
     "output_type": "stream",
     "text": [
      "[1, 2, 3, 1, 2, 3]\n"
     ]
    }
   ],
   "source": [
    "a = [1,2,3]\n",
    "print(a*2)"
   ]
  },
  {
   "cell_type": "code",
   "execution_count": null,
   "metadata": {},
   "outputs": [],
   "source": [
    "l = []\n",
    "n = int(input(\"Enter the value of n: \"))\n",
    "for i in range(n):\n",
    "    x = int(input(\"Enter value of x: \"))\n",
    "    l = l+[x]\n",
    "    \n",
    "print(\"The list is \",l)\n",
    "print(\"The sum is\",sum(l))\n",
    "print(\"the max value is \",max(l))\n",
    "print(\"The min value is \",min(l))\n",
    "\n",
    "l.sort()\n",
    "print(\"The sort value is \",l)\n",
    "\n",
    "l.reverse()\n",
    "print(\"The reverse is \",l)\n",
    "\n",
    "\n",
    "\n"
   ]
  },
  {
   "cell_type": "code",
   "execution_count": 5,
   "metadata": {},
   "outputs": [
    {
     "name": "stdout",
     "output_type": "stream",
     "text": [
      "['.point', '8Ball', 'X-ray', 'Zebra', 'apple']\n"
     ]
    }
   ],
   "source": [
    "a = [\"apple\",\"Zebra\",\"8Ball\",\"X-ray\",\".point\"]\n",
    "a.sort()\n",
    "print(a)"
   ]
  },
  {
   "cell_type": "code",
   "execution_count": 9,
   "metadata": {},
   "outputs": [
    {
     "name": "stdout",
     "output_type": "stream",
     "text": [
      "[45, 123, 234, 342, 342]\n",
      "[123, 342, 45, 234, 342]\n"
     ]
    }
   ],
   "source": [
    "l = [123,342,45,234,342]\n",
    "a = sorted(l) #it sort in only a but not in l \n",
    "\n",
    "print(a)\n",
    "print(l)"
   ]
  },
  {
   "cell_type": "code",
   "execution_count": 14,
   "metadata": {},
   "outputs": [
    {
     "name": "stdout",
     "output_type": "stream",
     "text": [
      "['Ant', 'Ball', 'cat']\n",
      "Ant\n",
      "Ball\n",
      "cat\n"
     ]
    }
   ],
   "source": [
    "a = [\"Apple\",\"Ball\",\"cat\"]\n",
    "a[0] = \"Ant\" #Apple replace with Ant / mutable\n",
    "print(a)\n",
    "for i in a:\n",
    "    print(i)"
   ]
  },
  {
   "cell_type": "code",
   "execution_count": 17,
   "metadata": {},
   "outputs": [
    {
     "name": "stdout",
     "output_type": "stream",
     "text": [
      "Balll\n",
      "Cat\n",
      "Dog\n"
     ]
    }
   ],
   "source": [
    "a = [\"Apple\",\"Balll\",\"Cat\",\"Apple\",\"Dog\"]\n",
    "for i in a:\n",
    "    if i == \"Apple\":\n",
    "        continue\n",
    "    print(i)"
   ]
  },
  {
   "cell_type": "code",
   "execution_count": 19,
   "metadata": {},
   "outputs": [
    {
     "name": "stdout",
     "output_type": "stream",
     "text": [
      "Apple\n",
      "Balll\n"
     ]
    }
   ],
   "source": [
    "a = [\"Apple\",\"Balll\",\"Cat\",\"Apple\",\"Dog\"]\n",
    "for i in a:\n",
    "    if i == \"Cat\":\n",
    "        break\n",
    "    print(i)"
   ]
  },
  {
   "cell_type": "code",
   "execution_count": 24,
   "metadata": {},
   "outputs": [
    {
     "name": "stdout",
     "output_type": "stream",
     "text": [
      "Enter the value of x: Apple\n",
      "Yes 2\n"
     ]
    }
   ],
   "source": [
    "a = [\"Apple\",\"Balll\",\"Cat\",\"Apple\",\"Dog\"]\n",
    "x = input(\"Enter the value of x: \")\n",
    "\n",
    "if x in a:\n",
    "    print(\"Yes\",a.count(x))\n",
    "    "
   ]
  },
  {
   "cell_type": "code",
   "execution_count": null,
   "metadata": {},
   "outputs": [],
   "source": [
    "#WAP for item search that might be uppercase or lowercase\n",
    "a = [\"Apple\",\"Balll\",\"Cat\",\"Apple\",\"Dog\"]\n",
    "x = input(\"Enter the value of x: \")\n",
    "n = len(a)\n",
    "for i in range(n):\n",
    "    if x == a[i]:\n",
    "        print(\"Yes\",i)\n",
    "    "
   ]
  }
 ],
 "metadata": {
  "kernelspec": {
   "display_name": "Python 3",
   "language": "python",
   "name": "python3"
  },
  "language_info": {
   "codemirror_mode": {
    "name": "ipython",
    "version": 3
   },
   "file_extension": ".py",
   "mimetype": "text/x-python",
   "name": "python",
   "nbconvert_exporter": "python",
   "pygments_lexer": "ipython3",
   "version": "3.8.5"
  }
 },
 "nbformat": 4,
 "nbformat_minor": 4
}
