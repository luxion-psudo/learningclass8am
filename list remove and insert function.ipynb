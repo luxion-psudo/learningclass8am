{
 "cells": [
  {
   "cell_type": "code",
   "execution_count": 5,
   "metadata": {},
   "outputs": [
    {
     "name": "stdout",
     "output_type": "stream",
     "text": [
      "['Apple', 'Ball', 2, 10.5]\n"
     ]
    }
   ],
   "source": [
    "# append() - function that add value, can use any data types(int string etc), only put data in last\n",
    "a=[]\n",
    "a.append(\"Apple\")\n",
    "a.append(\"Ball\")\n",
    "a.append(2)\n",
    "a.append(10.5)\n",
    "\n",
    "print(a)\n",
    "\n"
   ]
  },
  {
   "cell_type": "code",
   "execution_count": 7,
   "metadata": {},
   "outputs": [
    {
     "name": "stdout",
     "output_type": "stream",
     "text": [
      "ENter the n: 1\n",
      "Enter x: 1\n",
      "The list is  [1]\n"
     ]
    }
   ],
   "source": [
    "l = []\n",
    "n = int(input(\"ENter the n: \"))\n",
    "for i in range(n):\n",
    "    x = int(input(\"Enter x: \"))\n",
    "    l.append(x)\n",
    "print(\"The list is \",l)\n"
   ]
  },
  {
   "cell_type": "code",
   "execution_count": 10,
   "metadata": {},
   "outputs": [
    {
     "name": "stdout",
     "output_type": "stream",
     "text": [
      "[321, 43, 'Apple', 54, 432, 'Cat', 56]\n"
     ]
    }
   ],
   "source": [
    "#insert - function puts data in middle\n",
    "\n",
    "a = [321,43,54,432,56]\n",
    "a.insert(2,\"Apple\") # 2 is index where Apple will remain\n",
    "a.insert(-1,\"Cat\") # existing data of same index moves to right side so cant put data in last \n",
    "print(a)"
   ]
  },
  {
   "cell_type": "code",
   "execution_count": 13,
   "metadata": {},
   "outputs": [
    {
     "name": "stdout",
     "output_type": "stream",
     "text": [
      "[321, 43, 54, 432, 'Cat', 56]\n"
     ]
    }
   ],
   "source": [
    "#del(), remove() , pop(), clear() - funcrtion to remove data\n",
    "a = [321, 43, 'Apple', 54, 432, 'Cat', 56]\n",
    "del a[2] # remove apple\n",
    "print(a)\n"
   ]
  },
  {
   "cell_type": "code",
   "execution_count": 20,
   "metadata": {},
   "outputs": [
    {
     "name": "stdout",
     "output_type": "stream",
     "text": [
      "2\n",
      "[321, 43, 54, 432, 'Cat', 56]\n",
      "[432, 'Cat', 56]\n",
      "[43, 54, 'Cat']\n"
     ]
    }
   ],
   "source": [
    "#del - remove with index and in sequence\n",
    "a = [321, 43, 'Apple', 54, 432, 'Cat', 56]\n",
    "\n",
    "i = a.index(\"Apple\")# to know index of list\n",
    "print(i)\n",
    "\n",
    "del a[i] # remove apple\n",
    "print(a)\n",
    "\n",
    "del a[0:3]\n",
    "print(a)\n",
    "\n",
    "a = [321, 43, 'Apple', 54, 432, 'Cat', 56]\n",
    "del a[0::2]\n",
    "print(a)"
   ]
  },
  {
   "cell_type": "code",
   "execution_count": 23,
   "metadata": {},
   "outputs": [
    {
     "name": "stdout",
     "output_type": "stream",
     "text": [
      "[321, 43, 54, 432, 'Cat', 56, 'Apple']\n"
     ]
    }
   ],
   "source": [
    "#remove - no index, remove data one at a time\n",
    "a = [321, 43, 'Apple', 54, 432, 'Cat', 56,\"Apple\"]\n",
    "a.remove(\"Apple\")\n",
    "print(a)"
   ]
  },
  {
   "cell_type": "code",
   "execution_count": 28,
   "metadata": {},
   "outputs": [
    {
     "name": "stdout",
     "output_type": "stream",
     "text": [
      "Apple\n",
      "[321, 43, 54, 432, 'Cat', 56, 'Apple']\n"
     ]
    }
   ],
   "source": [
    "# pop - move value to other variable\n",
    "a = [321, 43, 'Apple', 54, 432, 'Cat', 56,\"Apple\"]\n",
    "\n",
    "b = a.pop(2)\n",
    "print(b) #pop move Apple from a to b \n",
    "print(a)"
   ]
  },
  {
   "cell_type": "code",
   "execution_count": 32,
   "metadata": {},
   "outputs": [
    {
     "name": "stdout",
     "output_type": "stream",
     "text": [
      "['Ball', 'Cat']\n",
      "['Ball', 'Cat']\n"
     ]
    }
   ],
   "source": [
    "#remove and loop\n",
    "a = [\"Apple\" , \"Ball\" , \"Apple\", \"Cat\", \"Apple\"]\n",
    "a.remove(\"Apple\")\n",
    "a.remove(\"Apple\")\n",
    "a.remove(\"Apple\")\n",
    "print(a)\n",
    "\n",
    "a = [\"Apple\" , \"Ball\" , \"Apple\", \"Cat\", \"Apple\"]\n",
    "for i in a:\n",
    "    a.remove(\"Apple\")\n",
    "print(a)\n",
    "    \n"
   ]
  },
  {
   "cell_type": "code",
   "execution_count": 37,
   "metadata": {},
   "outputs": [
    {
     "name": "stdout",
     "output_type": "stream",
     "text": [
      "['Ball', 'Cat']\n"
     ]
    }
   ],
   "source": [
    "a = [\"Apple\" , \"Ball\" , \"Apple\", \"Cat\", \"Apple\"]\n",
    "n = a.count(\"Apple\")\n",
    "for i in range(n): # use loop acc to number of value that should be remove\n",
    "    a.remove(\"Apple\")\n",
    "print(a)"
   ]
  },
  {
   "cell_type": "code",
   "execution_count": 44,
   "metadata": {},
   "outputs": [
    {
     "name": "stdout",
     "output_type": "stream",
     "text": [
      "['Ball', 'Cat']\n"
     ]
    }
   ],
   "source": [
    "b= []\n",
    "a = [\"Apple\" , \"Ball\" , \"Apple\", \"Cat\", \"Apple\"]\n",
    "for i in a:\n",
    "    if i == \"Apple\":\n",
    "        continue\n",
    "    b.append(i)\n",
    "print(b)"
   ]
  },
  {
   "cell_type": "code",
   "execution_count": 46,
   "metadata": {},
   "outputs": [
    {
     "name": "stdout",
     "output_type": "stream",
     "text": [
      "['Apple', 'Apple', 'Apple']\n"
     ]
    }
   ],
   "source": [
    "b= []\n",
    "a = [\"Apple\" , \"Ball\" , \"Apple\", \"Cat\", \"Apple\"]\n",
    "for i in a:\n",
    "    if i != \"Apple\":\n",
    "        continue\n",
    "    b.append(i)\n",
    "print(b)"
   ]
  },
  {
   "cell_type": "code",
   "execution_count": 61,
   "metadata": {},
   "outputs": [
    {
     "name": "stdout",
     "output_type": "stream",
     "text": [
      "<class 'list'>\n",
      "3\n",
      "6\n"
     ]
    }
   ],
   "source": [
    "#list inside list\n",
    "a = [[1,2,3],\n",
    "     [4,5,6],\n",
    "     [7,8,9]]\n",
    "\n",
    "print(type(a))\n",
    "print(len(a))\n",
    "\n",
    "print(a[1][2])\n"
   ]
  },
  {
   "cell_type": "code",
   "execution_count": 69,
   "metadata": {},
   "outputs": [
    {
     "name": "stdout",
     "output_type": "stream",
     "text": [
      "Enter n = 1\n",
      "name: 1\n",
      "Enter age: 1\n",
      "ENter address: 1\n",
      "[[1, '1', '1', '1']]\n"
     ]
    }
   ],
   "source": [
    "n = int(input(\"Enter n = \"))\n",
    "data = []\n",
    "for i in range(1,n+1):\n",
    "    name = input(\"name: \")\n",
    "    age = input(\"Enter age: \")\n",
    "    add = input(\"ENter address: \")\n",
    "    info = [i,name,age,add]\n",
    "    data.append(info)\n",
    "print(data)    "
   ]
  },
  {
   "cell_type": "code",
   "execution_count": 71,
   "metadata": {},
   "outputs": [
    {
     "ename": "SyntaxError",
     "evalue": "invalid syntax (<ipython-input-71-065a7ccb381b>, line 1)",
     "output_type": "error",
     "traceback": [
      "\u001b[1;36m  File \u001b[1;32m\"<ipython-input-71-065a7ccb381b>\"\u001b[1;36m, line \u001b[1;32m1\u001b[0m\n\u001b[1;33m    sn = int(input(\"\"Enter sn: ))\u001b[0m\n\u001b[1;37m                     ^\u001b[0m\n\u001b[1;31mSyntaxError\u001b[0m\u001b[1;31m:\u001b[0m invalid syntax\n"
     ]
    }
   ],
   "source": [
    "sn = int(input(\"\"Enter sn: ))\n",
    "data[sn-1]"
   ]
  },
  {
   "cell_type": "code",
   "execution_count": 75,
   "metadata": {},
   "outputs": [
    {
     "name": "stdout",
     "output_type": "stream",
     "text": [
      "[]\n"
     ]
    }
   ],
   "source": [
    "#clear() - remove all value\n",
    "a = [1,2,3,4,5]\n",
    "a.clear()\n",
    "print(a)"
   ]
  },
  {
   "cell_type": "code",
   "execution_count": 76,
   "metadata": {},
   "outputs": [
    {
     "name": "stdout",
     "output_type": "stream",
     "text": [
      "[]\n"
     ]
    }
   ],
   "source": [
    "#clear() - remove all value\n",
    "a = [1,2,3,4,5]\n",
    "del a[:] #all\n",
    "print(a)"
   ]
  }
 ],
 "metadata": {
  "kernelspec": {
   "display_name": "Python 3",
   "language": "python",
   "name": "python3"
  },
  "language_info": {
   "codemirror_mode": {
    "name": "ipython",
    "version": 3
   },
   "file_extension": ".py",
   "mimetype": "text/x-python",
   "name": "python",
   "nbconvert_exporter": "python",
   "pygments_lexer": "ipython3",
   "version": "3.8.5"
  }
 },
 "nbformat": 4,
 "nbformat_minor": 4
}
