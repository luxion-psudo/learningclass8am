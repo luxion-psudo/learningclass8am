{
 "cells": [
  {
   "cell_type": "code",
   "execution_count": 1,
   "metadata": {},
   "outputs": [],
   "source": [
    "#oop - object oriented programming\n",
    "# the concept of oop in python focus on creating reuseabble code. this concept is know as DRY(Dont repeat yourself)\n",
    "\n",
    "#oops principle:\n",
    "# inheritance - proicess of usiing detail from new class without modying existing class\n",
    "\n",
    "# encapsulation: hiding the private detail of class from other object\n",
    "\n",
    "# polymorphism- concept of using common ooperation in differnt ways for different data input\n"
   ]
  },
  {
   "cell_type": "code",
   "execution_count": 3,
   "metadata": {},
   "outputs": [],
   "source": [
    "# class objext and method\n",
    "#class: is blue print for object\n",
    "\n",
    "#class python:\n",
    "#   pass\n",
    "\n",
    "# objc=ect is instantion of a class when class is defined, only the descreption for object is defined"
   ]
  },
  {
   "cell_type": "code",
   "execution_count": 8,
   "metadata": {},
   "outputs": [
    {
     "name": "stdout",
     "output_type": "stream",
     "text": [
      "Hello World\n"
     ]
    }
   ],
   "source": [
    "class Python:  #class\n",
    "    print(\"Hello World\")  #operation\n",
    "    \n",
    "obj = Python  #object"
   ]
  },
  {
   "cell_type": "code",
   "execution_count": null,
   "metadata": {},
   "outputs": [],
   "source": []
  },
  {
   "cell_type": "code",
   "execution_count": 12,
   "metadata": {},
   "outputs": [
    {
     "name": "stdout",
     "output_type": "stream",
     "text": [
      "Hello World\n"
     ]
    }
   ],
   "source": [
    "class Python:                 #class\n",
    "    def hello(self):          #method\n",
    "        print(\"Hello World\")  #operation\n",
    "          \n",
    "obj = Python()                #object\n",
    "obj.hello()                   #calling method through object"
   ]
  },
  {
   "cell_type": "code",
   "execution_count": 13,
   "metadata": {},
   "outputs": [],
   "source": [
    "#self parameterter is current instamce of class.\n",
    "#it has to be 1st parameter of the funtion of class"
   ]
  },
  {
   "cell_type": "code",
   "execution_count": 16,
   "metadata": {},
   "outputs": [
    {
     "name": "stdout",
     "output_type": "stream",
     "text": [
      "20\n"
     ]
    }
   ],
   "source": [
    "class Cal:\n",
    "    def area(self,l,b):\n",
    "        a = l*b\n",
    "        print(l*b)\n",
    "obj = Cal()\n",
    "obj.area(10,2)"
   ]
  },
  {
   "cell_type": "code",
   "execution_count": 18,
   "metadata": {},
   "outputs": [
    {
     "name": "stdout",
     "output_type": "stream",
     "text": [
      "20\n",
      "60\n"
     ]
    }
   ],
   "source": [
    "class Cal:\n",
    "    def area(self,l,b):\n",
    "        a = l*b\n",
    "        print(l*b)\n",
    "        \n",
    "    def volume(self,l,b,h):\n",
    "        v = l*b*h\n",
    "        print(v)\n",
    "        \n",
    "obj = Cal()\n",
    "obj.area(10,2)\n",
    "obj.volume(10,2,3)"
   ]
  },
  {
   "cell_type": "code",
   "execution_count": 26,
   "metadata": {},
   "outputs": [
    {
     "name": "stdout",
     "output_type": "stream",
     "text": [
      "20\n",
      "60\n"
     ]
    }
   ],
   "source": [
    "class Cal:\n",
    "    def __init__(self,l,b,h):\n",
    "        self.l = l\n",
    "        self.b = b\n",
    "        self.h = h\n",
    "    def area(self):\n",
    "        a = self.l*self.b\n",
    "        print(a)\n",
    "        \n",
    "    def vol(self):\n",
    "        v = self.l*self.b*self.h\n",
    "        print(v)\n",
    "        \n",
    "obj = Cal(10,2,3)\n",
    "obj.area()\n",
    "obj.vol()"
   ]
  },
  {
   "cell_type": "code",
   "execution_count": 29,
   "metadata": {},
   "outputs": [
    {
     "name": "stdout",
     "output_type": "stream",
     "text": [
      "20\n",
      "60\n"
     ]
    }
   ],
   "source": [
    "class Cal:\n",
    "    def __init__(self,l,b,h):                #__init__ gives parameter to class while calling\n",
    "        self.l = l                           # should be written as self.paramter (We csn write anythong in self)  \n",
    "        self.b = b                           \n",
    "        self.h = h\n",
    "        \n",
    "    def area(this):                          # additional paramter as l and b shouldnot be written \n",
    "        a = this.l*this.b                    # l and b shoukd be written as self.l and self.b\n",
    "        print(a)\n",
    "        \n",
    "    def vol(jpani):                          #self is not mandatory and can be written anything \n",
    "        v = jpani.l*jpani.b*jpani.h          # method and operation should be same paramter \n",
    "        print(v)\n",
    "        \n",
    "obj = Cal(10,2,3)\n",
    "obj.area()\n",
    "obj.vol()"
   ]
  },
  {
   "cell_type": "code",
   "execution_count": 33,
   "metadata": {},
   "outputs": [
    {
     "name": "stdout",
     "output_type": "stream",
     "text": [
      "20\n",
      "60\n"
     ]
    }
   ],
   "source": [
    "class Cal:\n",
    "    def __init__(self,l,b):  #__init__ has 2 parMETR DEFINED l and b \n",
    "        self.l = l\n",
    "        self.b = b\n",
    "        \n",
    "    def area(self):\n",
    "        a = self.l*self.b\n",
    "        print(a)\n",
    "        \n",
    "    def vol(self,h):         # in vol new parametr is added named h \n",
    "        v = self.l*self.b*h  # self.h is not nedded \n",
    "        print(v)\n",
    "        \n",
    "obj = Cal(10,2)\n",
    "obj.area()\n",
    "obj.vol(3)"
   ]
  },
  {
   "cell_type": "code",
   "execution_count": 45,
   "metadata": {},
   "outputs": [
    {
     "name": "stdout",
     "output_type": "stream",
     "text": [
      "20\n",
      "<class '__main__.Cal'>\n",
      "<class 'str'>\n"
     ]
    }
   ],
   "source": [
    "class Cal:\n",
    "    def __init__(self,l,b):\n",
    "        self.l = l\n",
    "        self.b = b\n",
    "    def __str__(self): #call value as object\n",
    "        a = self.l*self.b\n",
    "        return f\"{a}\"\n",
    "\n",
    "\n",
    "                \n",
    "obj = Cal(10,2)\n",
    "print(obj.__str__())\n",
    "print(type(obj))\n",
    "\n",
    "obj1 = str(obj)\n",
    "print(type(obj1))"
   ]
  },
  {
   "cell_type": "code",
   "execution_count": 48,
   "metadata": {},
   "outputs": [
    {
     "name": "stdout",
     "output_type": "stream",
     "text": [
      "Enter l: 0\n",
      "Enter b: 0\n",
      "0\n",
      "<class '__main__.Cal'>\n",
      "<class 'str'>\n"
     ]
    }
   ],
   "source": [
    "class Cal:\n",
    "    def __init__(self,l,b):\n",
    "        self.l = l\n",
    "        self.b = b\n",
    "    def __str__(self):\n",
    "        a = self.l*self.b\n",
    "        return f\"{a}\"\n",
    "\n",
    "l = int(input(\"Enter l: \"))\n",
    "b= int(input(\"Enter b: \"))\n",
    "\n",
    "    \n",
    "obj = Cal(l,b)\n",
    "print(obj.__str__())\n",
    "print(type(obj))\n",
    "\n",
    "obj1 = str(obj)\n",
    "print(type(obj1))"
   ]
  },
  {
   "cell_type": "code",
   "execution_count": 52,
   "metadata": {},
   "outputs": [
    {
     "name": "stdout",
     "output_type": "stream",
     "text": [
      "Enter l: 10\n",
      "Enter b: 30\n",
      "300\n",
      "<class '__main__.Cal'>\n",
      "<class 'str'>\n"
     ]
    }
   ],
   "source": [
    "class Cal:\n",
    "    def __init__(self):\n",
    "        self.l = int(input(\"Enter l: \"))\n",
    "        self.b = int(input(\"Enter b: \"))\n",
    "    def __str__(self):\n",
    "        a = self.l*self.b\n",
    "        return f\"{a}\"\n",
    "\n",
    "    \n",
    "obj = Cal()\n",
    "print(obj.__str__())\n",
    "print(type(obj))\n",
    "\n",
    "obj1 = str(obj)\n",
    "print(type(obj1))"
   ]
  },
  {
   "cell_type": "code",
   "execution_count": 1,
   "metadata": {},
   "outputs": [
    {
     "name": "stdout",
     "output_type": "stream",
     "text": [
      "Enter l: 1\n",
      "Enter b: 2\n",
      "{'Area': 2}\n",
      "<class '__main__.Cal'>\n"
     ]
    }
   ],
   "source": [
    "class Cal:\n",
    "    def __init__(self):\n",
    "        self.l = int(input(\"Enter l: \"))\n",
    "        self.b = int(input(\"Enter b: \"))\n",
    "    def __repr__(self):\n",
    "        a = self.l*self.b\n",
    "        return {\"Area\":a}\n",
    "\n",
    "    \n",
    "obj = Cal()\n",
    "print(obj.__repr__())\n",
    "print(type(obj))\n",
    "\n"
   ]
  },
  {
   "cell_type": "code",
   "execution_count": 8,
   "metadata": {},
   "outputs": [
    {
     "name": "stdout",
     "output_type": "stream",
     "text": [
      "<class '__main__.Point'>\n",
      "<class '__main__.Point'>\n",
      "<__main__.Point object at 0x0000022C7050B100>\n"
     ]
    }
   ],
   "source": [
    "#perating Overloading\n",
    "\n",
    "#this feaTURE ALLOw SAME OPERATOR TO HAVE DIFFERENT MEANING ACC to the CoNTEXT\n",
    "\n",
    "class Point:\n",
    "    def __init__(self,x=0 ,y=0):\n",
    "        self.x= x\n",
    "        self.y = y\n",
    "        \n",
    "    def _str__(self):\n",
    "        return f\"{self.x},{self.y}\"\n",
    "    \n",
    "    def __add__(self,other):\n",
    "        x = self.x + other.x\n",
    "        y = self.y + other.y\n",
    "        return Point(x,y)\n",
    "    \n",
    "p1 = Point(2,3)\n",
    "p2 = Point(-1,-2)\n",
    "print(type(p1))\n",
    "print(type(p2))\n",
    "print(p1+p2)\n",
    "\n",
    "\n",
    "\n",
    "    "
   ]
  },
  {
   "cell_type": "code",
   "execution_count": 12,
   "metadata": {},
   "outputs": [
    {
     "name": "stdout",
     "output_type": "stream",
     "text": [
      "This is init method 2 3 5\n",
      "This is init method -1 2 6\n",
      "This is init method 0 2 -6\n",
      "This is add method 1 5 11\n",
      "This is init method 1 5 11\n",
      "This is add method 1 7 5\n",
      "This is init method 1 7 5\n",
      "This is init method\n",
      "1,7,5\n"
     ]
    }
   ],
   "source": [
    "class Point:\n",
    "    def __init__(self,x,y,z):\n",
    "        self.x = x\n",
    "        self.y = y\n",
    "        self.z = z\n",
    "        print(\"This is init method\", self.x,self.y,self.z)\n",
    "        \n",
    "    def __str__(self):\n",
    "        print(\"This is init method\")\n",
    "        return f\"{self.x},{self.y},{self.z}\"\n",
    "    \n",
    "    def __add__ (self,other):\n",
    "        x = self.x + other.x\n",
    "        y = self.y + other.y\n",
    "        z = self.z + other.z\n",
    "        print(\"This is add method\",x,y,z)\n",
    "        return Point(x,y,z)\n",
    "                                                                                                 \n",
    "p1 = Point(2,3,5)\n",
    "p2 = Point(-1,2,6)\n",
    "p3 = Point(0,2,-6)\n",
    "print(p1+p2+p3)"
   ]
  },
  {
   "cell_type": "code",
   "execution_count": 13,
   "metadata": {},
   "outputs": [],
   "source": [
    "class P:\n",
    "    def __init__(self,x):\n",
    "        self.x = x\n",
    "        print(\"This is init method\",self.x)\n",
    "        \n",
    "    def __str__(self):\n",
    "        return f\"{self.x}\"\n",
    "    def __add__(self,other):\n",
    "        x = self.x + other.x\n",
    "        print(\"This is add method\",x)\n",
    "        "
   ]
  },
  {
   "cell_type": "code",
   "execution_count": 17,
   "metadata": {},
   "outputs": [
    {
     "name": "stdout",
     "output_type": "stream",
     "text": [
      "Parrot can fly\n",
      "Penguin cant fly\n",
      "Parrot cant swim\n",
      "Penguin can swim\n"
     ]
    }
   ],
   "source": [
    "#polymorphism \n",
    "\n",
    "class Parrot:\n",
    "    def fly(self):\n",
    "        print(\"Parrot can fly\")\n",
    "    def swim(self):\n",
    "        print(\"Parrot cant swim\")\n",
    "        \n",
    "class Penguin:\n",
    "    def fly (self):\n",
    "        print(\"Penguin cant fly\")\n",
    "    def swim(self):\n",
    "        print(\"Penguin can swim\")\n",
    "        \n",
    "blu = Parrot()\n",
    "peggy = Penguin()\n",
    "\n",
    "blu.fly()\n",
    "\n",
    "\n",
    "peggy.fly()\n",
    "blu.swim()\n",
    "peggy.swim()"
   ]
  },
  {
   "cell_type": "code",
   "execution_count": 18,
   "metadata": {},
   "outputs": [],
   "source": [
    "#inheritance\n",
    "\n",
    "#capability od one class to derive or inherit the properties from some another class\n",
    "\n",
    "#it provide reusBILITY OF A CODE. wE DONT HAVE TO WITE SAME CODE AGAIN ANFD AGAIN. ALSO IT ALSO ALLOWS US TO ADD MORE FEATURE IN CLASS WITHOUT MODIFYING CLASS\n",
    "\n",
    "#IF CLASS b INHERIT FROM ANOTHER CLASS a , THEN ALL THE SUB CALSS OF b WOULD AUTOMATICALLY INHERIT FROM CLASS a\n",
    "\n",
    "#PARENT CLASS \n",
    "\n",
    "#child class"
   ]
  },
  {
   "cell_type": "code",
   "execution_count": 23,
   "metadata": {},
   "outputs": [
    {
     "name": "stdout",
     "output_type": "stream",
     "text": [
      "class A\n",
      "class B\n"
     ]
    }
   ],
   "source": [
    "class A:\n",
    "    print(\"class A\")\n",
    "    \n",
    "class B(A):\n",
    "    print(\"class B\")\n",
    "    \n",
    "    \n",
    "b =B()"
   ]
  },
  {
   "cell_type": "code",
   "execution_count": 32,
   "metadata": {},
   "outputs": [
    {
     "name": "stdout",
     "output_type": "stream",
     "text": [
      "Enter l: 0\n",
      "Enter b: 0\n",
      "0\n"
     ]
    }
   ],
   "source": [
    "class Cal:\n",
    "    def __init__(self):\n",
    "        self.l = int(input(\"Enter l: \"))\n",
    "        self.b = int(input(\"Enter b: \"))\n",
    "        \n",
    "class Volume(Cal):\n",
    "    def volume(self):\n",
    "        h = 30\n",
    "        v = self.l*self.b*h\n",
    "        print(v)\n",
    "x = Volume()\n",
    "x.volume()"
   ]
  },
  {
   "cell_type": "code",
   "execution_count": 36,
   "metadata": {},
   "outputs": [
    {
     "name": "stdout",
     "output_type": "stream",
     "text": [
      "Enter l: 1\n",
      "Enter b: 02\n",
      "2\n",
      "60\n"
     ]
    }
   ],
   "source": [
    "class Cal:\n",
    "    def __init__(self):\n",
    "        self.l = int(input(\"Enter l: \"))\n",
    "        self.b = int(input(\"Enter b: \"))\n",
    "        \n",
    "    def area(self):\n",
    "        a = self.l*self.b\n",
    "        print(a)\n",
    "        \n",
    "class Volume(Cal):\n",
    "    def volume(self):\n",
    "        h = 30\n",
    "        v = self.l*self.b*h\n",
    "        print(v)\n",
    "x = Volume()\n",
    "x.area()\n",
    "x.volume()"
   ]
  }
 ],
 "metadata": {
  "kernelspec": {
   "display_name": "Python 3",
   "language": "python",
   "name": "python3"
  },
  "language_info": {
   "codemirror_mode": {
    "name": "ipython",
    "version": 3
   },
   "file_extension": ".py",
   "mimetype": "text/x-python",
   "name": "python",
   "nbconvert_exporter": "python",
   "pygments_lexer": "ipython3",
   "version": "3.8.5"
  }
 },
 "nbformat": 4,
 "nbformat_minor": 4
}
