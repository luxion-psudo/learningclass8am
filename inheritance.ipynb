{
 "cells": [
  {
   "cell_type": "markdown",
   "metadata": {},
   "source": [
    "# python inheritance type\n",
    "#multi level\n",
    "#multiple "
   ]
  },
  {
   "cell_type": "code",
   "execution_count": null,
   "metadata": {},
   "outputs": [],
   "source": [
    "   #multi level\n",
    "class A:\n",
    "    def a(self):\n",
    "        print(\"This is method a\")\n",
    "class B(A):\n",
    "    def b(self):\n",
    "        print(\"This is method b\")\n",
    "class C(B):\n",
    "    def c(self):\n",
    "        print(\"This is method c\")\n",
    "        \n",
    "obj = C()\n",
    "obj.c()\n",
    "obj.b()\n",
    "obj.a()"
   ]
  },
  {
   "cell_type": "code",
   "execution_count": null,
   "metadata": {},
   "outputs": [],
   "source": [
    "class Data:\n",
    "    def __init__(self):\n",
    "        self.name = input(\"Enter name: \")\n",
    "        self.age = int(input(\"Enter age: \"))\n",
    "        self.add = input(\"Enter address: \")\n",
    "        \n",
    "class Hr(Data):\n",
    "    def hr(self):\n",
    "        print(f\"Hello {self.name} this is Hr section.\")\n",
    "class Office(Hr):\n",
    "    def office(self):\n",
    "        print(f\"Hello {self.name}, your age is {self.age} and address is {self.add}.\")\n",
    "\n",
    "obj = Office()\n",
    "obj.hr()\n",
    "obj.office()"
   ]
  },
  {
   "cell_type": "code",
   "execution_count": null,
   "metadata": {},
   "outputs": [],
   "source": [
    "class Data:\n",
    "    def __init__(self):\n",
    "        self.name = input(\"Enter name: \")\n",
    "        self.age = int(input(\"Enter age: \"))\n",
    "        self.add = input(\"Enter address: \")\n",
    "\n",
    "        \n",
    "class Hr(Data):\n",
    "    def __init__(self):\n",
    "        self.salary = int(input(\"Enter your salary: \"))\n",
    "        Data.__init__(self)\n",
    "        \n",
    "    def hr(self):\n",
    "        print(f\"Hello {self.name} this is Hr section.\")\n",
    "        \n",
    "class Office(Hr):\n",
    "    def office(self):\n",
    "        print(f\"Hello {self.name}, your age is {self.age} and address is {self.add}.\\n Your salary is {self.salary}\")\n",
    "\n",
    "obj = Office()\n",
    "obj.hr()\n",
    "obj.office()"
   ]
  },
  {
   "cell_type": "code",
   "execution_count": 6,
   "metadata": {},
   "outputs": [
    {
     "name": "stdout",
     "output_type": "stream",
     "text": [
      "Enter name: 1\n",
      "Enter age: 2\n",
      "Enter address: 3\n",
      "Hello 1, your age is 2 and address is 3.\n"
     ]
    }
   ],
   "source": [
    "class Data:\n",
    "    def __init__(self):\n",
    "        self.name = input(\"Enter name: \")\n",
    "        self.age = int(input(\"Enter age: \"))\n",
    "        self.add = input(\"Enter address: \")\n",
    "\n",
    "        \n",
    "class Hr:\n",
    "    def __init__(self):\n",
    "        self.salary = int(input(\"Enter your salary: \"))\n",
    "        \n",
    "    def hr(self):\n",
    "        print(f\"Hello {self.name} this is Hr section.\")\n",
    "        \n",
    "class Office(Data,Hr):\n",
    "    \n",
    "    def office(self):\n",
    "        print(f\"Hello {self.name}, your age is {self.age} and address is {self.add}.\")\n",
    "\n",
    "obj = Office()\n",
    "#obj.hr()\n",
    "obj.office()"
   ]
  },
  {
   "cell_type": "code",
   "execution_count": 7,
   "metadata": {},
   "outputs": [
    {
     "name": "stdout",
     "output_type": "stream",
     "text": [
      "Enter name: 1\n",
      "Enter age: 2\n",
      "Enter address: 3\n",
      "Enter your salary: 4\n",
      "Hello 1, your age is 2 and address is 3. your salary is 4\n"
     ]
    }
   ],
   "source": [
    "class Data:\n",
    "    def __init__(self):\n",
    "        self.name = input(\"Enter name: \")\n",
    "        self.age = int(input(\"Enter age: \"))\n",
    "        self.add = input(\"Enter address: \")\n",
    "\n",
    "        \n",
    "class Hr:\n",
    "    def __init__(self):\n",
    "        self.salary = int(input(\"Enter your salary: \"))\n",
    "        \n",
    "    def hr(self):\n",
    "        print(f\"Hello {self.name} this is Hr section.\")\n",
    "        \n",
    "class Office(Data,Hr):\n",
    "    def __init__(self):\n",
    "        Data.__init__(self)\n",
    "        Hr.__init__(self)\n",
    "    \n",
    "    def office(self):\n",
    "        print(f\"Hello {self.name}, your age is {self.age} and address is {self.add}. your salary is {self.salary}\")\n",
    "\n",
    "obj = Office()\n",
    "#obj.hr()\n",
    "obj.office()"
   ]
  },
  {
   "cell_type": "markdown",
   "metadata": {},
   "source": [
    "class Person:\n",
    "#definifng constructor\n",
    "    def __init__("
   ]
  },
  {
   "cell_type": "code",
   "execution_count": 1,
   "metadata": {},
   "outputs": [],
   "source": [
    "class Person:\n",
    "#definifng constructor\n",
    "    def __init__(self,personName, personAge):\n",
    "        self.name= personName\n",
    "        self.age = personAge\n",
    "    \n",
    "    #defifnig class method\n",
    "class Student: \n",
    "    def __init__(self,studentId):\n",
    "        self.studentId = studentId\n",
    "class Resident(Person,Student):\n",
    "    #extend both Person and Srtudent class\n",
    "    def __init__(self,name,age,id):\n",
    "        Person.__init__(self,name,age)\n",
    "        Student.__init__(self,id)\n",
    "        #create an objexct of sub class\n",
    "    def info(self):\n",
    "        print(f\"Hello {self.name} your age is {self.age} and your id is {self.id} \")\n"
   ]
  },
  {
   "cell_type": "code",
   "execution_count": null,
   "metadata": {},
   "outputs": [],
   "source": []
  }
 ],
 "metadata": {
  "kernelspec": {
   "display_name": "Python 3",
   "language": "python",
   "name": "python3"
  },
  "language_info": {
   "codemirror_mode": {
    "name": "ipython",
    "version": 3
   },
   "file_extension": ".py",
   "mimetype": "text/x-python",
   "name": "python",
   "nbconvert_exporter": "python",
   "pygments_lexer": "ipython3",
   "version": "3.8.5"
  }
 },
 "nbformat": 4,
 "nbformat_minor": 4
}
