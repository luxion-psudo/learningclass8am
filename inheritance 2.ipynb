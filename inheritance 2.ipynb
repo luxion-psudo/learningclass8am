{
 "cells": [
  {
   "cell_type": "code",
   "execution_count": 1,
   "metadata": {},
   "outputs": [],
   "source": [
    "#public private and protocted access\n",
    "\n"
   ]
  },
  {
   "cell_type": "code",
   "execution_count": 7,
   "metadata": {},
   "outputs": [
    {
     "name": "stdout",
     "output_type": "stream",
     "text": [
      "Ram\n",
      "25\n",
      "Ktm\n"
     ]
    }
   ],
   "source": [
    "#public attributes \n",
    "class Info:\n",
    "    def __init__(self,name,age,add):\n",
    "        self.name = name\n",
    "        self.age = age\n",
    "        self.add = add\n",
    "obj= Info(\"Ram\",25,\"Ktm\")\n",
    "print(obj.name)\n",
    "print(obj.age)\n",
    "print(obj.add)"
   ]
  },
  {
   "cell_type": "code",
   "execution_count": 10,
   "metadata": {},
   "outputs": [
    {
     "name": "stdout",
     "output_type": "stream",
     "text": [
      "Ram\n",
      "25\n",
      "Ktm\n"
     ]
    }
   ],
   "source": [
    "#protocted attributes (_)\n",
    "class Info:\n",
    "    def __init__(self,name,age,add):\n",
    "        self._name = name\n",
    "        self._age = age\n",
    "        self._add = add\n",
    "obj= Info(\"Ram\",25,\"Ktm\")\n",
    "print(obj._name)\n",
    "print(obj._age)\n",
    "print(obj._add)\n"
   ]
  },
  {
   "cell_type": "code",
   "execution_count": 14,
   "metadata": {},
   "outputs": [
    {
     "ename": "AttributeError",
     "evalue": "'Info' object has no attribute '__name'",
     "output_type": "error",
     "traceback": [
      "\u001b[1;31m---------------------------------------------------------------------------\u001b[0m",
      "\u001b[1;31mAttributeError\u001b[0m                            Traceback (most recent call last)",
      "\u001b[1;32m<ipython-input-14-0bbab38ddd40>\u001b[0m in \u001b[0;36m<module>\u001b[1;34m\u001b[0m\n\u001b[0;32m      6\u001b[0m         \u001b[0mself\u001b[0m\u001b[1;33m.\u001b[0m\u001b[0m__add\u001b[0m \u001b[1;33m=\u001b[0m \u001b[0madd\u001b[0m\u001b[1;33m\u001b[0m\u001b[1;33m\u001b[0m\u001b[0m\n\u001b[0;32m      7\u001b[0m \u001b[0mobj\u001b[0m\u001b[1;33m=\u001b[0m \u001b[0mInfo\u001b[0m\u001b[1;33m(\u001b[0m\u001b[1;34m\"Ram\"\u001b[0m\u001b[1;33m,\u001b[0m\u001b[1;36m25\u001b[0m\u001b[1;33m,\u001b[0m\u001b[1;34m\"Ktm\"\u001b[0m\u001b[1;33m)\u001b[0m\u001b[1;33m\u001b[0m\u001b[1;33m\u001b[0m\u001b[0m\n\u001b[1;32m----> 8\u001b[1;33m \u001b[0mprint\u001b[0m\u001b[1;33m(\u001b[0m\u001b[0mobj\u001b[0m\u001b[1;33m.\u001b[0m\u001b[0m__name\u001b[0m\u001b[1;33m)\u001b[0m\u001b[1;33m\u001b[0m\u001b[1;33m\u001b[0m\u001b[0m\n\u001b[0m\u001b[0;32m      9\u001b[0m \u001b[0mprint\u001b[0m\u001b[1;33m(\u001b[0m\u001b[0mobj\u001b[0m\u001b[1;33m.\u001b[0m\u001b[0m__age\u001b[0m\u001b[1;33m)\u001b[0m\u001b[1;33m\u001b[0m\u001b[1;33m\u001b[0m\u001b[0m\n\u001b[0;32m     10\u001b[0m \u001b[0mprint\u001b[0m\u001b[1;33m(\u001b[0m\u001b[0mobj\u001b[0m\u001b[1;33m.\u001b[0m\u001b[0m__add\u001b[0m\u001b[1;33m)\u001b[0m\u001b[1;33m\u001b[0m\u001b[1;33m\u001b[0m\u001b[0m\n",
      "\u001b[1;31mAttributeError\u001b[0m: 'Info' object has no attribute '__name'"
     ]
    }
   ],
   "source": [
    "#private attributes (__)\n",
    "class Info:\n",
    "    def __init__(self,name,age,add):\n",
    "        self.__name = name\n",
    "        self.__age = age                         #Cant execute private attributes\n",
    "        self.__add = add\n",
    "obj= Info(\"Ram\",25,\"Ktm\")\n",
    "print(obj.__name)\n",
    "print(obj.__age)\n",
    "print(obj.__add)"
   ]
  },
  {
   "cell_type": "code",
   "execution_count": 15,
   "metadata": {},
   "outputs": [
    {
     "name": "stdout",
     "output_type": "stream",
     "text": [
      "Ram\n",
      "25\n",
      "Ktm\n"
     ]
    }
   ],
   "source": [
    "#to execute private attribute\n",
    "class Info:\n",
    "    def __init__(self,name,age,add):\n",
    "        self.__name = name\n",
    "        self.__age = age                        \n",
    "        self.__add = add\n",
    "obj= Info(\"Ram\",25,\"Ktm\")\n",
    "print(obj._Info__name)          #_ClassName__Varible \n",
    "print(obj._Info__age)\n",
    "print(obj._Info__add)"
   ]
  },
  {
   "cell_type": "code",
   "execution_count": 22,
   "metadata": {},
   "outputs": [
    {
     "name": "stdout",
     "output_type": "stream",
     "text": [
      "Enter name: 1\n",
      "Enter age: 2\n",
      "Enter address: 3\n",
      "Hello 1, your age is 2 and address is 3.\n"
     ]
    }
   ],
   "source": [
    "class Data:\n",
    "    def __init__(self):\n",
    "        self.name = input(\"Enter name: \")\n",
    "        self._age = int(input(\"Enter age: \"))\n",
    "        self.__add = input(\"Enter address: \")\n",
    "\n",
    "        \n",
    "class Hr:\n",
    "    def __init__(self):\n",
    "        self.salary = int(input(\"Enter your salary: \"))\n",
    "        \n",
    "    def hr(self):\n",
    "        print(f\"Hello {self.name} this is Hr section.\")\n",
    "        \n",
    "class Office(Data,Hr):\n",
    "    def office(self):\n",
    "        print(f\"Hello {self.name}, your age is {self._age} and address is {self._Data__add}.\")\n",
    "\n",
    "obj = Office()\n",
    "#obj.hr()\n",
    "obj.office()"
   ]
  },
  {
   "cell_type": "code",
   "execution_count": 23,
   "metadata": {},
   "outputs": [
    {
     "name": "stdout",
     "output_type": "stream",
     "text": [
      "Enter name: 1\n",
      "Enter age: 2\n",
      "Enter address: 3\n",
      "Hello 1, your age is 2 and address is 3.\n"
     ]
    }
   ],
   "source": [
    "class Data:\n",
    "    def __init__(self):\n",
    "        self.name = input(\"Enter name: \")\n",
    "        self._age = int(input(\"Enter age: \"))\n",
    "        self.__add = input(\"Enter address: \")\n",
    "    \n",
    "    def add(self):\n",
    "        return self.__add\n",
    "        \n",
    "class Hr:\n",
    "    def __init__(self):\n",
    "        self.salary = int(input(\"Enter your salary: \"))\n",
    "        \n",
    "    def hr(self):\n",
    "        print(f\"Hello {self.name} this is Hr section.\")\n",
    "        \n",
    "class Office(Data,Hr):\n",
    "    def office(self):\n",
    "        print(f\"Hello {self.name}, your age is {self._age} and address is {super().add()}.\")\n",
    "\n",
    "obj = Office()\n",
    "#obj.hr()\n",
    "obj.office()"
   ]
  },
  {
   "cell_type": "markdown",
   "metadata": {},
   "source": [
    "# decorator\n",
    "\n",
    "\n"
   ]
  },
  {
   "cell_type": "code",
   "execution_count": 29,
   "metadata": {},
   "outputs": [
    {
     "data": {
      "text/plain": [
       "['hello', 'world']"
      ]
     },
     "execution_count": 29,
     "metadata": {},
     "output_type": "execute_result"
    }
   ],
   "source": [
    "def strings(function):\n",
    "    def wrapper():\n",
    "        fun = function()\n",
    "        x = fun.lower()\n",
    "        return x\n",
    "    return wrapper\n",
    "\n",
    "def split_string(function):\n",
    "    def wrappe():\n",
    "        func = function()\n",
    "        splitted_string = func.split()\n",
    "        return splitted_string\n",
    "    return wrappe\n",
    "@split_string\n",
    "@strings\n",
    "def info():\n",
    "    return \"HeLlO wOrLd\"\n",
    "info()"
   ]
  },
  {
   "cell_type": "code",
   "execution_count": 35,
   "metadata": {},
   "outputs": [
    {
     "name": "stdout",
     "output_type": "stream",
     "text": [
      "3.0\n"
     ]
    }
   ],
   "source": [
    "a = [1,2,3,4,5]\n",
    "avg = sum(a)/len(a)\n",
    "print(avg)"
   ]
  },
  {
   "cell_type": "code",
   "execution_count": null,
   "metadata": {},
   "outputs": [],
   "source": []
  }
 ],
 "metadata": {
  "kernelspec": {
   "display_name": "Python 3",
   "language": "python",
   "name": "python3"
  },
  "language_info": {
   "codemirror_mode": {
    "name": "ipython",
    "version": 3
   },
   "file_extension": ".py",
   "mimetype": "text/x-python",
   "name": "python",
   "nbconvert_exporter": "python",
   "pygments_lexer": "ipython3",
   "version": "3.8.5"
  }
 },
 "nbformat": 4,
 "nbformat_minor": 4
}
