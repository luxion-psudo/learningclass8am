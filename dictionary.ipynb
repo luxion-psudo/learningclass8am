{
 "cells": [
  {
   "cell_type": "code",
   "execution_count": 5,
   "metadata": {},
   "outputs": [
    {
     "name": "stdout",
     "output_type": "stream",
     "text": [
      "{'a': 'apple', 'b': 'ball'}\n",
      "apple\n",
      "Apple\n",
      "Ball\n"
     ]
    }
   ],
   "source": [
    "#dictionery\n",
    "#a = {<key>:<value>,<key>:<value>}\n",
    "dict_a = {\"a\":\"apple\",\"b\":\"ball\"}\n",
    "dict_b = {1:\"Apple\",2:\"Ball\"}\n",
    "\n",
    "print(dict_a)\n",
    "\n",
    "print(dict_a[\"a\"])\n",
    "print(dict_b[1])\n",
    "\n",
    "print(dict_b[2])\n"
   ]
  },
  {
   "cell_type": "code",
   "execution_count": 8,
   "metadata": {},
   "outputs": [
    {
     "name": "stdout",
     "output_type": "stream",
     "text": [
      "{'a': 'apple', 'b': 'ball', 'A': 'Apple'}\n"
     ]
    }
   ],
   "source": [
    "dict_a = {\"a\":\"apple\",\"b\":\"ball\",\"A\":\"Apple\"}\n",
    "print(dict_a)"
   ]
  },
  {
   "cell_type": "code",
   "execution_count": 10,
   "metadata": {},
   "outputs": [
    {
     "name": "stdout",
     "output_type": "stream",
     "text": [
      "{'a': 'Apple', 'b': 'ball'}\n"
     ]
    }
   ],
   "source": [
    "dict_a = {\"a\":\"apple\",\"b\":\"ball\",\"a\":\"Apple\"} #update the last value of a\n",
    "print(dict_a)"
   ]
  },
  {
   "cell_type": "code",
   "execution_count": 12,
   "metadata": {},
   "outputs": [
    {
     "name": "stdout",
     "output_type": "stream",
     "text": [
      "{'Ram': 984030426978, 'Shyam': 98478245485, 'Hari': 988752215155}\n"
     ]
    }
   ],
   "source": [
    "a = {}\n",
    "a[\"Ram\"]= 984030426978\n",
    "a[\"Shyam\"]= 98478245485\n",
    "a[\"Hari\"]= 988752215155\n",
    "print(a)"
   ]
  },
  {
   "cell_type": "code",
   "execution_count": 24,
   "metadata": {},
   "outputs": [
    {
     "name": "stdout",
     "output_type": "stream",
     "text": [
      "Enter n= 2\n",
      "ENter name: ram\n",
      "Enter phone: 122\n",
      "ENter name: sam\n",
      "Enter phone: 211\n",
      "{'ram': '122', 'sam': '211'}\n"
     ]
    }
   ],
   "source": [
    "d = {}\n",
    "n = int(input(\"Enter n= \"))\n",
    "for i in range(n):\n",
    "    name = input(\"ENter name: \")\n",
    "    phone = input(\"Enter phone: \")\n",
    "    d[name] = phone\n",
    "print(d)"
   ]
  },
  {
   "cell_type": "code",
   "execution_count": 19,
   "metadata": {},
   "outputs": [
    {
     "name": "stdout",
     "output_type": "stream",
     "text": [
      "ram\n",
      "sam\n"
     ]
    }
   ],
   "source": [
    "for i in d:# key\n",
    "    print(i)"
   ]
  },
  {
   "cell_type": "code",
   "execution_count": 21,
   "metadata": {},
   "outputs": [
    {
     "name": "stdout",
     "output_type": "stream",
     "text": [
      "122\n",
      "211\n"
     ]
    }
   ],
   "source": [
    "for i in d.values(): #value\n",
    "    print(i)"
   ]
  },
  {
   "cell_type": "code",
   "execution_count": 26,
   "metadata": {},
   "outputs": [
    {
     "name": "stdout",
     "output_type": "stream",
     "text": [
      "[('ram', '122'), ('sam', '211')]\n"
     ]
    }
   ],
   "source": [
    "z = []\n",
    "for i in d.items(): #key and value\n",
    "    z.append(i)\n",
    "print(z)"
   ]
  },
  {
   "cell_type": "code",
   "execution_count": 29,
   "metadata": {},
   "outputs": [
    {
     "name": "stdout",
     "output_type": "stream",
     "text": [
      "{'ram': '122', 'sam': '211'}\n"
     ]
    }
   ],
   "source": [
    "z = [('ram', '122'), ('sam', '211')]\n",
    "d = {}\n",
    "for i in z:\n",
    "    key = i[0]\n",
    "    value = i[1]\n",
    "    d[key] = value\n",
    "print(d)"
   ]
  },
  {
   "cell_type": "code",
   "execution_count": 31,
   "metadata": {},
   "outputs": [
    {
     "data": {
      "text/plain": [
       "{('a', 'A'): 'apple'}"
      ]
     },
     "execution_count": 31,
     "metadata": {},
     "output_type": "execute_result"
    }
   ],
   "source": [
    "d = {(\"a\",\"A\"):\"apple\"}\n",
    "d"
   ]
  },
  {
   "cell_type": "markdown",
   "metadata": {},
   "source": [
    "#list inside dictionery or if a key has two value\n",
    "\n",
    "d = {\"Ram\":[9802019877,9840598458],\"Sam\":[980202025,98405154551]}\n",
    "print(d)\n"
   ]
  },
  {
   "cell_type": "code",
   "execution_count": null,
   "metadata": {},
   "outputs": [],
   "source": [
    "name = input(\"Enter name: \")\n",
    "phone = int(input(\"Enter 0 for ntc and 1 for ncell: \"))\n",
    "print(d[name][phone])"
   ]
  },
  {
   "cell_type": "code",
   "execution_count": 39,
   "metadata": {},
   "outputs": [
    {
     "name": "stdout",
     "output_type": "stream",
     "text": [
      "{'Ram': [9802019877, 9840598458], 'Sam': [980202025, 98405154551]}\n"
     ]
    }
   ],
   "source": [
    "#list inside dictionery or if a key has two value\n",
    "\n",
    "d = {\"Ram\":[9802019877,9840598458],\"Sam\":[980202025,98405154551]}\n",
    "print(d)\n"
   ]
  },
  {
   "cell_type": "code",
   "execution_count": 41,
   "metadata": {},
   "outputs": [
    {
     "name": "stdout",
     "output_type": "stream",
     "text": [
      "Enter name: Ram\n",
      "Enter 0 for ntc and 1 for ncell: 0\n",
      "9802019877\n"
     ]
    }
   ],
   "source": [
    "name = input(\"Enter name: \")\n",
    "phone = int(input(\"Enter 0 for ntc and 1 for ncell: \"))\n",
    "print(d[name][phone])"
   ]
  },
  {
   "cell_type": "code",
   "execution_count": 44,
   "metadata": {},
   "outputs": [
    {
     "name": "stdout",
     "output_type": "stream",
     "text": [
      "{'Ram': [98025252525, 9840598458], 'Sam': [980202025, 98405154551]}\n"
     ]
    }
   ],
   "source": [
    "d[\"Ram\"][0] = 98025252525\n",
    "print(d)"
   ]
  },
  {
   "cell_type": "code",
   "execution_count": null,
   "metadata": {},
   "outputs": [],
   "source": []
  },
  {
   "cell_type": "code",
   "execution_count": 46,
   "metadata": {},
   "outputs": [
    {
     "name": "stdout",
     "output_type": "stream",
     "text": [
      "{'Ram': [], 'Sam': [980202025, 98405154551]}\n"
     ]
    }
   ],
   "source": [
    "del d[\"Ram\"][0]\n",
    "print(d)"
   ]
  },
  {
   "cell_type": "code",
   "execution_count": 49,
   "metadata": {},
   "outputs": [
    {
     "name": "stdout",
     "output_type": "stream",
     "text": [
      "{'Ram': [984105021, 9840598458], 'Sam': [980202025, 98405154551]}\n"
     ]
    }
   ],
   "source": [
    "d = {\"Ram\":[9840598458],\"Sam\":[980202025,98405154551]}\n",
    "d[\"Ram\"].insert(0,984105021)\n",
    "print(d)"
   ]
  },
  {
   "cell_type": "code",
   "execution_count": 12,
   "metadata": {},
   "outputs": [
    {
     "name": "stdout",
     "output_type": "stream",
     "text": [
      "Enter phone: 9840598458\n",
      "('Ram', [984105021, 9840598458])\n"
     ]
    }
   ],
   "source": [
    "#search\n",
    "a = {'Ram': [984105021, 9840598458], 'Sam': [980202025, 98405154551]}\n",
    "n = int(input(\"Enter phone: \"))\n",
    "for i in a.items():\n",
    "    if n in i[1]:\n",
    "        print(i)\n",
    "    \n",
    "    \n",
    "              \n",
    "\n"
   ]
  },
  {
   "cell_type": "code",
   "execution_count": 21,
   "metadata": {},
   "outputs": [
    {
     "name": "stdout",
     "output_type": "stream",
     "text": [
      "Enter phone: 980202025\n",
      "{'Ram': [984105021, 9840598458]}\n"
     ]
    }
   ],
   "source": [
    "#del\n",
    "a = {'Ram': [984105021, 9840598458], 'Sam': [980202025, 98405154551]}\n",
    "n = int(input(\"Enter phone: \"))\n",
    "for i in a.items():\n",
    "    if n in i[1]:\n",
    "        key = i[0]\n",
    "        del a[key]\n",
    "        break\n",
    "print(a)\n",
    "    \n",
    "    \n",
    "              \n",
    "\n"
   ]
  },
  {
   "cell_type": "code",
   "execution_count": 22,
   "metadata": {},
   "outputs": [],
   "source": [
    "#dict inside dict\n",
    "#d = {<key>:{<key>:<value>,<key>:<value>},\n",
    "#   <key>:{<key>:<value>,<key>:<value>}}"
   ]
  },
  {
   "cell_type": "code",
   "execution_count": 45,
   "metadata": {},
   "outputs": [
    {
     "name": "stdout",
     "output_type": "stream",
     "text": [
      "<class 'dict'>\n",
      "{'Ram': {'Physic': 67, 'Chemistry': 89, 'Math': 45}, 'Sam': {'Physic': 78, 'Chemistry': 69, 'Math': 98}}\n"
     ]
    }
   ],
   "source": [
    "d = {\"Ram\":{\"Physic\":67,\"Chemistry\":89,\"Math\":45},\n",
    "    \"Sam\":{\"Physic\":78,\"Chemistry\":69,\"Math\":98}}\n",
    "\n",
    "print(type(d))\n",
    "print(d)"
   ]
  },
  {
   "cell_type": "code",
   "execution_count": 46,
   "metadata": {},
   "outputs": [
    {
     "name": "stdout",
     "output_type": "stream",
     "text": [
      "('Ram', {'Physic': 67, 'Chemistry': 89, 'Math': 45})\n",
      "('Sam', {'Physic': 78, 'Chemistry': 69, 'Math': 98})\n"
     ]
    }
   ],
   "source": [
    "for i in d.items():\n",
    "    print(i)"
   ]
  },
  {
   "cell_type": "code",
   "execution_count": 47,
   "metadata": {},
   "outputs": [
    {
     "name": "stdout",
     "output_type": "stream",
     "text": [
      "{'Physic': 67, 'Chemistry': 89, 'Math': 45}\n"
     ]
    }
   ],
   "source": [
    "print(d[\"Ram\"])"
   ]
  },
  {
   "cell_type": "code",
   "execution_count": 48,
   "metadata": {},
   "outputs": [
    {
     "name": "stdout",
     "output_type": "stream",
     "text": [
      "67\n"
     ]
    }
   ],
   "source": [
    "print(d[\"Ram\"][\"Physic\"])"
   ]
  },
  {
   "cell_type": "code",
   "execution_count": 49,
   "metadata": {},
   "outputs": [],
   "source": [
    "d[\"Ram\"][\"Physic\"] = 76"
   ]
  },
  {
   "cell_type": "code",
   "execution_count": 50,
   "metadata": {},
   "outputs": [
    {
     "name": "stdout",
     "output_type": "stream",
     "text": [
      "{'Ram': {'Physic': 76, 'Chemistry': 89, 'Math': 45}, 'Sam': {'Physic': 78, 'Chemistry': 69, 'Math': 98}}\n"
     ]
    }
   ],
   "source": [
    "print(d)"
   ]
  },
  {
   "cell_type": "code",
   "execution_count": 55,
   "metadata": {},
   "outputs": [
    {
     "name": "stdout",
     "output_type": "stream",
     "text": [
      "Enter the number of student: 2\n",
      "Enter name of student: ram\n",
      "Enter marks of physic: 20\n",
      "Enter marks of chemistry: 20\n",
      "Enter marks of math: 25\n",
      "Enter name of student: sam\n",
      "Enter marks of physic: 54\n",
      "Enter marks of chemistry: 56\n",
      "Enter marks of math: 26\n",
      "{'ram': {'Physic': '20', 'Chemistry': '20', 'Math': '25'}, 'sam': {'Physic': '54', 'Chemistry': '56', 'Math': '26'}}\n"
     ]
    }
   ],
   "source": [
    "data = {}\n",
    "n = int(input(\"Enter the number of student: \"))\n",
    "for i in range(n):\n",
    "    name = input(\"Enter name of student: \")\n",
    "    physic = input(\"Enter marks of physic: \")\n",
    "    chemistry = input(\"Enter marks of chemistry: \")\n",
    "    math = input(\"Enter marks of math: \")\n",
    "    data[name] = {\"Physic\":physic,\"Chemistry\":chemistry,\"Math\":math}\n",
    "print(data)"
   ]
  },
  {
   "cell_type": "code",
   "execution_count": 60,
   "metadata": {},
   "outputs": [
    {
     "data": {
      "text/plain": [
       "'20'"
      ]
     },
     "execution_count": 60,
     "metadata": {},
     "output_type": "execute_result"
    }
   ],
   "source": [
    "data[\"ram\"]\n",
    "data[\"ram\"][\"Physic\"]"
   ]
  },
  {
   "cell_type": "code",
   "execution_count": 62,
   "metadata": {},
   "outputs": [
    {
     "name": "stdout",
     "output_type": "stream",
     "text": [
      "{'Name': 'hari', 'Phone': 9802019664}\n"
     ]
    }
   ],
   "source": [
    "#d = [{<key>:<value>},{<key>:<value>},{<key>:<value>}]\n",
    "d = [{\"Name\":\"Ram\",\"Phone\":9802019662},\n",
    "    {\"Name\":\"sam\",\"Phone\":9802019663},\n",
    "    {\"Name\":\"hari\",\"Phone\":9802019664}]\n",
    "print(d[2])\n"
   ]
  },
  {
   "cell_type": "code",
   "execution_count": 63,
   "metadata": {},
   "outputs": [
    {
     "name": "stdout",
     "output_type": "stream",
     "text": [
      "[{'Name': 'Ram', 'Phone': 9802019662}, {'Name': 'sam', 'Phone': 9802019663}, {'Name': 'hari', 'Phone': 9802019664}, {'Name': 'Navin', 'Phone': 985032062}]\n"
     ]
    }
   ],
   "source": [
    "x = {\"Name\":\"Navin\",\"Phone\":985032062}\n",
    "d.append(x)\n",
    "print(d)"
   ]
  },
  {
   "cell_type": "code",
   "execution_count": null,
   "metadata": {},
   "outputs": [],
   "source": []
  }
 ],
 "metadata": {
  "kernelspec": {
   "display_name": "Python 3",
   "language": "python",
   "name": "python3"
  },
  "language_info": {
   "codemirror_mode": {
    "name": "ipython",
    "version": 3
   },
   "file_extension": ".py",
   "mimetype": "text/x-python",
   "name": "python",
   "nbconvert_exporter": "python",
   "pygments_lexer": "ipython3",
   "version": "3.8.5"
  }
 },
 "nbformat": 4,
 "nbformat_minor": 4
}
